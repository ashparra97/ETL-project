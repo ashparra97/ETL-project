{
 "metadata": {
  "language_info": {
   "codemirror_mode": {
    "name": "ipython",
    "version": 3
   },
   "file_extension": ".py",
   "mimetype": "text/x-python",
   "name": "python",
   "nbconvert_exporter": "python",
   "pygments_lexer": "ipython3",
   "version": "3.7.9"
  },
  "orig_nbformat": 2,
  "kernelspec": {
   "name": "python379jvsc74a57bd04e16bc90bb1be4fcd3e766e2f5d73f05719f516a7206bf1e9e77281fd34acfc0",
   "display_name": "Python 3.7.9 64-bit ('PythonData': conda)"
  }
 },
 "nbformat": 4,
 "nbformat_minor": 2,
 "cells": [
  {
   "cell_type": "code",
   "execution_count": 18,
   "metadata": {},
   "outputs": [],
   "source": [
    "import pandas as pd\n",
    "from itertools import cycle"
   ]
  },
  {
   "cell_type": "code",
   "execution_count": 19,
   "metadata": {},
   "outputs": [],
   "source": [
    "#Greenhouse Gas Emissions\n",
    "\n",
    "ghg_csv = \"/Users/ashleypatricia/Documents/GitHub/ETL-project/ghg_csv/GHG_Emissions.csv\""
   ]
  },
  {
   "cell_type": "code",
   "execution_count": 20,
   "metadata": {},
   "outputs": [],
   "source": [
    "#Read csvs into dataframes\n",
    "\n",
    "ghg_df = pd.read_csv(ghg_csv, skiprows=[0])"
   ]
  },
  {
   "cell_type": "code",
   "execution_count": 21,
   "metadata": {},
   "outputs": [
    {
     "output_type": "execute_result",
     "data": {
      "text/plain": [
       "     Unnamed: 0                          Unnamed: 1      1990      1991  \\\n",
       "0             4                         Afghanistan       ...       ...   \n",
       "1             8                             Albania  4,341.63  6,486.66   \n",
       "2            12                             Algeria       ...       ...   \n",
       "3            24                              Angola       ...       ...   \n",
       "4            28                 Antigua and Barbuda    388.63       ...   \n",
       "..          ...                                 ...       ...       ...   \n",
       "186         862  Venezuela (Bolivarian Republic of)       ...       ...   \n",
       "187         704                            Viet Nam       ...       ...   \n",
       "188         887                               Yemen       ...       ...   \n",
       "189         894                              Zambia       ...       ...   \n",
       "190         716                            Zimbabwe       ...       ...   \n",
       "\n",
       "         1992      1993       1994       1995      1996      1997  ...  \\\n",
       "0         ...       ...        ...        ...       ...       ...  ...   \n",
       "1    4,581.28  4,588.00   4,906.36   4,883.76  4,998.58  5,107.07  ...   \n",
       "2         ...       ...  91,758.00        ...       ...       ...  ...   \n",
       "3         ...       ...        ...        ...       ...       ...  ...   \n",
       "4         ...       ...        ...        ...       ...       ...  ...   \n",
       "..        ...       ...        ...        ...       ...       ...  ...   \n",
       "186       ...       ...        ...        ...       ...       ...  ...   \n",
       "187       ...       ...  84,454.06        ...       ...       ...  ...   \n",
       "188       ...       ...        ...  17,870.11       ...       ...  ...   \n",
       "189       ...       ...  32,770.07        ...       ...       ...  ...   \n",
       "190       ...       ...  27,594.22        ...       ...       ...  ...   \n",
       "\n",
       "            2013 2014 2015 2016 2017 2018 Latest Year  \\\n",
       "0      43,377.00  ...  ...  ...  ...  ...        2013   \n",
       "1            ...  ...  ...  ...  ...  ...        2009   \n",
       "2            ...  ...  ...  ...  ...  ...        2000   \n",
       "3            ...  ...  ...  ...  ...  ...        2005   \n",
       "4            ...  ...  ...  ...  ...  ...        2000   \n",
       "..           ...  ...  ...  ...  ...  ...         ...   \n",
       "186          ...  ...  ...  ...  ...  ...        1999   \n",
       "187  2,78,441.86  ...  ...  ...  ...  ...        2013   \n",
       "188          ...  ...  ...  ...  ...  ...        2012   \n",
       "189          ...  ...  ...  ...  ...  ...        2000   \n",
       "190          ...  ...  ...  ...  ...  ...        2006   \n",
       "\n",
       "    1000 t of\\n CO₂ equivalent      % kg of CO₂ equivalent  \n",
       "0                     43377.00    ...                 1.34  \n",
       "1                      8125.70  87.16                 2.73  \n",
       "2                    111022.59    ...                 3.58  \n",
       "3                     61610.76    ...                 3.17  \n",
       "4                       597.75  53.81                 7.86  \n",
       "..                         ...    ...                  ...  \n",
       "186                  192192.24    ...                 8.10  \n",
       "187                  278441.86    ...                 3.07  \n",
       "188                   37942.87    ...                 1.55  \n",
       "189                   14404.70    ...                 1.38  \n",
       "190                   21184.72    ...                 1.74  \n",
       "\n",
       "[191 rows x 35 columns]"
      ],
      "text/html": "<div>\n<style scoped>\n    .dataframe tbody tr th:only-of-type {\n        vertical-align: middle;\n    }\n\n    .dataframe tbody tr th {\n        vertical-align: top;\n    }\n\n    .dataframe thead th {\n        text-align: right;\n    }\n</style>\n<table border=\"1\" class=\"dataframe\">\n  <thead>\n    <tr style=\"text-align: right;\">\n      <th></th>\n      <th>Unnamed: 0</th>\n      <th>Unnamed: 1</th>\n      <th>1990</th>\n      <th>1991</th>\n      <th>1992</th>\n      <th>1993</th>\n      <th>1994</th>\n      <th>1995</th>\n      <th>1996</th>\n      <th>1997</th>\n      <th>...</th>\n      <th>2013</th>\n      <th>2014</th>\n      <th>2015</th>\n      <th>2016</th>\n      <th>2017</th>\n      <th>2018</th>\n      <th>Latest Year</th>\n      <th>1000 t of\\n CO₂ equivalent</th>\n      <th>%</th>\n      <th>kg of CO₂ equivalent</th>\n    </tr>\n  </thead>\n  <tbody>\n    <tr>\n      <th>0</th>\n      <td>4</td>\n      <td>Afghanistan</td>\n      <td>...</td>\n      <td>...</td>\n      <td>...</td>\n      <td>...</td>\n      <td>...</td>\n      <td>...</td>\n      <td>...</td>\n      <td>...</td>\n      <td>...</td>\n      <td>43,377.00</td>\n      <td>...</td>\n      <td>...</td>\n      <td>...</td>\n      <td>...</td>\n      <td>...</td>\n      <td>2013</td>\n      <td>43377.00</td>\n      <td>...</td>\n      <td>1.34</td>\n    </tr>\n    <tr>\n      <th>1</th>\n      <td>8</td>\n      <td>Albania</td>\n      <td>4,341.63</td>\n      <td>6,486.66</td>\n      <td>4,581.28</td>\n      <td>4,588.00</td>\n      <td>4,906.36</td>\n      <td>4,883.76</td>\n      <td>4,998.58</td>\n      <td>5,107.07</td>\n      <td>...</td>\n      <td>...</td>\n      <td>...</td>\n      <td>...</td>\n      <td>...</td>\n      <td>...</td>\n      <td>...</td>\n      <td>2009</td>\n      <td>8125.70</td>\n      <td>87.16</td>\n      <td>2.73</td>\n    </tr>\n    <tr>\n      <th>2</th>\n      <td>12</td>\n      <td>Algeria</td>\n      <td>...</td>\n      <td>...</td>\n      <td>...</td>\n      <td>...</td>\n      <td>91,758.00</td>\n      <td>...</td>\n      <td>...</td>\n      <td>...</td>\n      <td>...</td>\n      <td>...</td>\n      <td>...</td>\n      <td>...</td>\n      <td>...</td>\n      <td>...</td>\n      <td>...</td>\n      <td>2000</td>\n      <td>111022.59</td>\n      <td>...</td>\n      <td>3.58</td>\n    </tr>\n    <tr>\n      <th>3</th>\n      <td>24</td>\n      <td>Angola</td>\n      <td>...</td>\n      <td>...</td>\n      <td>...</td>\n      <td>...</td>\n      <td>...</td>\n      <td>...</td>\n      <td>...</td>\n      <td>...</td>\n      <td>...</td>\n      <td>...</td>\n      <td>...</td>\n      <td>...</td>\n      <td>...</td>\n      <td>...</td>\n      <td>...</td>\n      <td>2005</td>\n      <td>61610.76</td>\n      <td>...</td>\n      <td>3.17</td>\n    </tr>\n    <tr>\n      <th>4</th>\n      <td>28</td>\n      <td>Antigua and Barbuda</td>\n      <td>388.63</td>\n      <td>...</td>\n      <td>...</td>\n      <td>...</td>\n      <td>...</td>\n      <td>...</td>\n      <td>...</td>\n      <td>...</td>\n      <td>...</td>\n      <td>...</td>\n      <td>...</td>\n      <td>...</td>\n      <td>...</td>\n      <td>...</td>\n      <td>...</td>\n      <td>2000</td>\n      <td>597.75</td>\n      <td>53.81</td>\n      <td>7.86</td>\n    </tr>\n    <tr>\n      <th>...</th>\n      <td>...</td>\n      <td>...</td>\n      <td>...</td>\n      <td>...</td>\n      <td>...</td>\n      <td>...</td>\n      <td>...</td>\n      <td>...</td>\n      <td>...</td>\n      <td>...</td>\n      <td>...</td>\n      <td>...</td>\n      <td>...</td>\n      <td>...</td>\n      <td>...</td>\n      <td>...</td>\n      <td>...</td>\n      <td>...</td>\n      <td>...</td>\n      <td>...</td>\n      <td>...</td>\n    </tr>\n    <tr>\n      <th>186</th>\n      <td>862</td>\n      <td>Venezuela (Bolivarian Republic of)</td>\n      <td>...</td>\n      <td>...</td>\n      <td>...</td>\n      <td>...</td>\n      <td>...</td>\n      <td>...</td>\n      <td>...</td>\n      <td>...</td>\n      <td>...</td>\n      <td>...</td>\n      <td>...</td>\n      <td>...</td>\n      <td>...</td>\n      <td>...</td>\n      <td>...</td>\n      <td>1999</td>\n      <td>192192.24</td>\n      <td>...</td>\n      <td>8.10</td>\n    </tr>\n    <tr>\n      <th>187</th>\n      <td>704</td>\n      <td>Viet Nam</td>\n      <td>...</td>\n      <td>...</td>\n      <td>...</td>\n      <td>...</td>\n      <td>84,454.06</td>\n      <td>...</td>\n      <td>...</td>\n      <td>...</td>\n      <td>...</td>\n      <td>2,78,441.86</td>\n      <td>...</td>\n      <td>...</td>\n      <td>...</td>\n      <td>...</td>\n      <td>...</td>\n      <td>2013</td>\n      <td>278441.86</td>\n      <td>...</td>\n      <td>3.07</td>\n    </tr>\n    <tr>\n      <th>188</th>\n      <td>887</td>\n      <td>Yemen</td>\n      <td>...</td>\n      <td>...</td>\n      <td>...</td>\n      <td>...</td>\n      <td>...</td>\n      <td>17,870.11</td>\n      <td>...</td>\n      <td>...</td>\n      <td>...</td>\n      <td>...</td>\n      <td>...</td>\n      <td>...</td>\n      <td>...</td>\n      <td>...</td>\n      <td>...</td>\n      <td>2012</td>\n      <td>37942.87</td>\n      <td>...</td>\n      <td>1.55</td>\n    </tr>\n    <tr>\n      <th>189</th>\n      <td>894</td>\n      <td>Zambia</td>\n      <td>...</td>\n      <td>...</td>\n      <td>...</td>\n      <td>...</td>\n      <td>32,770.07</td>\n      <td>...</td>\n      <td>...</td>\n      <td>...</td>\n      <td>...</td>\n      <td>...</td>\n      <td>...</td>\n      <td>...</td>\n      <td>...</td>\n      <td>...</td>\n      <td>...</td>\n      <td>2000</td>\n      <td>14404.70</td>\n      <td>...</td>\n      <td>1.38</td>\n    </tr>\n    <tr>\n      <th>190</th>\n      <td>716</td>\n      <td>Zimbabwe</td>\n      <td>...</td>\n      <td>...</td>\n      <td>...</td>\n      <td>...</td>\n      <td>27,594.22</td>\n      <td>...</td>\n      <td>...</td>\n      <td>...</td>\n      <td>...</td>\n      <td>...</td>\n      <td>...</td>\n      <td>...</td>\n      <td>...</td>\n      <td>...</td>\n      <td>...</td>\n      <td>2006</td>\n      <td>21184.72</td>\n      <td>...</td>\n      <td>1.74</td>\n    </tr>\n  </tbody>\n</table>\n<p>191 rows × 35 columns</p>\n</div>"
     },
     "metadata": {},
     "execution_count": 21
    }
   ],
   "source": [
    "ghg_df"
   ]
  },
  {
   "cell_type": "code",
   "execution_count": 22,
   "metadata": {},
   "outputs": [
    {
     "output_type": "execute_result",
     "data": {
      "text/plain": [
       "     CountryID                  Countries or areas      1990      1991  \\\n",
       "0            4                         Afghanistan       ...       ...   \n",
       "1            8                             Albania  4,341.63  6,486.66   \n",
       "2           12                             Algeria       ...       ...   \n",
       "3           24                              Angola       ...       ...   \n",
       "4           28                 Antigua and Barbuda    388.63       ...   \n",
       "..         ...                                 ...       ...       ...   \n",
       "186        862  Venezuela (Bolivarian Republic of)       ...       ...   \n",
       "187        704                            Viet Nam       ...       ...   \n",
       "188        887                               Yemen       ...       ...   \n",
       "189        894                              Zambia       ...       ...   \n",
       "190        716                            Zimbabwe       ...       ...   \n",
       "\n",
       "         1992      1993       1994       1995      1996      1997  ...  \\\n",
       "0         ...       ...        ...        ...       ...       ...  ...   \n",
       "1    4,581.28  4,588.00   4,906.36   4,883.76  4,998.58  5,107.07  ...   \n",
       "2         ...       ...  91,758.00        ...       ...       ...  ...   \n",
       "3         ...       ...        ...        ...       ...       ...  ...   \n",
       "4         ...       ...        ...        ...       ...       ...  ...   \n",
       "..        ...       ...        ...        ...       ...       ...  ...   \n",
       "186       ...       ...        ...        ...       ...       ...  ...   \n",
       "187       ...       ...  84,454.06        ...       ...       ...  ...   \n",
       "188       ...       ...        ...  17,870.11       ...       ...  ...   \n",
       "189       ...       ...  32,770.07        ...       ...       ...  ...   \n",
       "190       ...       ...  27,594.22        ...       ...       ...  ...   \n",
       "\n",
       "            2013 2014 2015 2016 2017 2018 Latest Year  \\\n",
       "0      43,377.00  ...  ...  ...  ...  ...        2013   \n",
       "1            ...  ...  ...  ...  ...  ...        2009   \n",
       "2            ...  ...  ...  ...  ...  ...        2000   \n",
       "3            ...  ...  ...  ...  ...  ...        2005   \n",
       "4            ...  ...  ...  ...  ...  ...        2000   \n",
       "..           ...  ...  ...  ...  ...  ...         ...   \n",
       "186          ...  ...  ...  ...  ...  ...        1999   \n",
       "187  2,78,441.86  ...  ...  ...  ...  ...        2013   \n",
       "188          ...  ...  ...  ...  ...  ...        2012   \n",
       "189          ...  ...  ...  ...  ...  ...        2000   \n",
       "190          ...  ...  ...  ...  ...  ...        2006   \n",
       "\n",
       "    1000 t of\\n CO₂ equivalent      % kg of CO₂ equivalent  \n",
       "0                     43377.00    ...                 1.34  \n",
       "1                      8125.70  87.16                 2.73  \n",
       "2                    111022.59    ...                 3.58  \n",
       "3                     61610.76    ...                 3.17  \n",
       "4                       597.75  53.81                 7.86  \n",
       "..                         ...    ...                  ...  \n",
       "186                  192192.24    ...                 8.10  \n",
       "187                  278441.86    ...                 3.07  \n",
       "188                   37942.87    ...                 1.55  \n",
       "189                   14404.70    ...                 1.38  \n",
       "190                   21184.72    ...                 1.74  \n",
       "\n",
       "[191 rows x 35 columns]"
      ],
      "text/html": "<div>\n<style scoped>\n    .dataframe tbody tr th:only-of-type {\n        vertical-align: middle;\n    }\n\n    .dataframe tbody tr th {\n        vertical-align: top;\n    }\n\n    .dataframe thead th {\n        text-align: right;\n    }\n</style>\n<table border=\"1\" class=\"dataframe\">\n  <thead>\n    <tr style=\"text-align: right;\">\n      <th></th>\n      <th>CountryID</th>\n      <th>Countries or areas</th>\n      <th>1990</th>\n      <th>1991</th>\n      <th>1992</th>\n      <th>1993</th>\n      <th>1994</th>\n      <th>1995</th>\n      <th>1996</th>\n      <th>1997</th>\n      <th>...</th>\n      <th>2013</th>\n      <th>2014</th>\n      <th>2015</th>\n      <th>2016</th>\n      <th>2017</th>\n      <th>2018</th>\n      <th>Latest Year</th>\n      <th>1000 t of\\n CO₂ equivalent</th>\n      <th>%</th>\n      <th>kg of CO₂ equivalent</th>\n    </tr>\n  </thead>\n  <tbody>\n    <tr>\n      <th>0</th>\n      <td>4</td>\n      <td>Afghanistan</td>\n      <td>...</td>\n      <td>...</td>\n      <td>...</td>\n      <td>...</td>\n      <td>...</td>\n      <td>...</td>\n      <td>...</td>\n      <td>...</td>\n      <td>...</td>\n      <td>43,377.00</td>\n      <td>...</td>\n      <td>...</td>\n      <td>...</td>\n      <td>...</td>\n      <td>...</td>\n      <td>2013</td>\n      <td>43377.00</td>\n      <td>...</td>\n      <td>1.34</td>\n    </tr>\n    <tr>\n      <th>1</th>\n      <td>8</td>\n      <td>Albania</td>\n      <td>4,341.63</td>\n      <td>6,486.66</td>\n      <td>4,581.28</td>\n      <td>4,588.00</td>\n      <td>4,906.36</td>\n      <td>4,883.76</td>\n      <td>4,998.58</td>\n      <td>5,107.07</td>\n      <td>...</td>\n      <td>...</td>\n      <td>...</td>\n      <td>...</td>\n      <td>...</td>\n      <td>...</td>\n      <td>...</td>\n      <td>2009</td>\n      <td>8125.70</td>\n      <td>87.16</td>\n      <td>2.73</td>\n    </tr>\n    <tr>\n      <th>2</th>\n      <td>12</td>\n      <td>Algeria</td>\n      <td>...</td>\n      <td>...</td>\n      <td>...</td>\n      <td>...</td>\n      <td>91,758.00</td>\n      <td>...</td>\n      <td>...</td>\n      <td>...</td>\n      <td>...</td>\n      <td>...</td>\n      <td>...</td>\n      <td>...</td>\n      <td>...</td>\n      <td>...</td>\n      <td>...</td>\n      <td>2000</td>\n      <td>111022.59</td>\n      <td>...</td>\n      <td>3.58</td>\n    </tr>\n    <tr>\n      <th>3</th>\n      <td>24</td>\n      <td>Angola</td>\n      <td>...</td>\n      <td>...</td>\n      <td>...</td>\n      <td>...</td>\n      <td>...</td>\n      <td>...</td>\n      <td>...</td>\n      <td>...</td>\n      <td>...</td>\n      <td>...</td>\n      <td>...</td>\n      <td>...</td>\n      <td>...</td>\n      <td>...</td>\n      <td>...</td>\n      <td>2005</td>\n      <td>61610.76</td>\n      <td>...</td>\n      <td>3.17</td>\n    </tr>\n    <tr>\n      <th>4</th>\n      <td>28</td>\n      <td>Antigua and Barbuda</td>\n      <td>388.63</td>\n      <td>...</td>\n      <td>...</td>\n      <td>...</td>\n      <td>...</td>\n      <td>...</td>\n      <td>...</td>\n      <td>...</td>\n      <td>...</td>\n      <td>...</td>\n      <td>...</td>\n      <td>...</td>\n      <td>...</td>\n      <td>...</td>\n      <td>...</td>\n      <td>2000</td>\n      <td>597.75</td>\n      <td>53.81</td>\n      <td>7.86</td>\n    </tr>\n    <tr>\n      <th>...</th>\n      <td>...</td>\n      <td>...</td>\n      <td>...</td>\n      <td>...</td>\n      <td>...</td>\n      <td>...</td>\n      <td>...</td>\n      <td>...</td>\n      <td>...</td>\n      <td>...</td>\n      <td>...</td>\n      <td>...</td>\n      <td>...</td>\n      <td>...</td>\n      <td>...</td>\n      <td>...</td>\n      <td>...</td>\n      <td>...</td>\n      <td>...</td>\n      <td>...</td>\n      <td>...</td>\n    </tr>\n    <tr>\n      <th>186</th>\n      <td>862</td>\n      <td>Venezuela (Bolivarian Republic of)</td>\n      <td>...</td>\n      <td>...</td>\n      <td>...</td>\n      <td>...</td>\n      <td>...</td>\n      <td>...</td>\n      <td>...</td>\n      <td>...</td>\n      <td>...</td>\n      <td>...</td>\n      <td>...</td>\n      <td>...</td>\n      <td>...</td>\n      <td>...</td>\n      <td>...</td>\n      <td>1999</td>\n      <td>192192.24</td>\n      <td>...</td>\n      <td>8.10</td>\n    </tr>\n    <tr>\n      <th>187</th>\n      <td>704</td>\n      <td>Viet Nam</td>\n      <td>...</td>\n      <td>...</td>\n      <td>...</td>\n      <td>...</td>\n      <td>84,454.06</td>\n      <td>...</td>\n      <td>...</td>\n      <td>...</td>\n      <td>...</td>\n      <td>2,78,441.86</td>\n      <td>...</td>\n      <td>...</td>\n      <td>...</td>\n      <td>...</td>\n      <td>...</td>\n      <td>2013</td>\n      <td>278441.86</td>\n      <td>...</td>\n      <td>3.07</td>\n    </tr>\n    <tr>\n      <th>188</th>\n      <td>887</td>\n      <td>Yemen</td>\n      <td>...</td>\n      <td>...</td>\n      <td>...</td>\n      <td>...</td>\n      <td>...</td>\n      <td>17,870.11</td>\n      <td>...</td>\n      <td>...</td>\n      <td>...</td>\n      <td>...</td>\n      <td>...</td>\n      <td>...</td>\n      <td>...</td>\n      <td>...</td>\n      <td>...</td>\n      <td>2012</td>\n      <td>37942.87</td>\n      <td>...</td>\n      <td>1.55</td>\n    </tr>\n    <tr>\n      <th>189</th>\n      <td>894</td>\n      <td>Zambia</td>\n      <td>...</td>\n      <td>...</td>\n      <td>...</td>\n      <td>...</td>\n      <td>32,770.07</td>\n      <td>...</td>\n      <td>...</td>\n      <td>...</td>\n      <td>...</td>\n      <td>...</td>\n      <td>...</td>\n      <td>...</td>\n      <td>...</td>\n      <td>...</td>\n      <td>...</td>\n      <td>2000</td>\n      <td>14404.70</td>\n      <td>...</td>\n      <td>1.38</td>\n    </tr>\n    <tr>\n      <th>190</th>\n      <td>716</td>\n      <td>Zimbabwe</td>\n      <td>...</td>\n      <td>...</td>\n      <td>...</td>\n      <td>...</td>\n      <td>27,594.22</td>\n      <td>...</td>\n      <td>...</td>\n      <td>...</td>\n      <td>...</td>\n      <td>...</td>\n      <td>...</td>\n      <td>...</td>\n      <td>...</td>\n      <td>...</td>\n      <td>...</td>\n      <td>2006</td>\n      <td>21184.72</td>\n      <td>...</td>\n      <td>1.74</td>\n    </tr>\n  </tbody>\n</table>\n<p>191 rows × 35 columns</p>\n</div>"
     },
     "metadata": {},
     "execution_count": 22
    }
   ],
   "source": [
    "ghg_df.rename(columns={\"Unnamed: 0\": \"CountryID\", \"Unnamed: 1\": \"Countries or areas\"}, inplace=True)\n",
    "ghg_df"
   ]
  },
  {
   "cell_type": "code",
   "execution_count": 23,
   "metadata": {},
   "outputs": [
    {
     "output_type": "execute_result",
     "data": {
      "text/plain": [
       "      CountryID                  Countries or areas  Latest Year  \\\n",
       "0             4                         Afghanistan         2013   \n",
       "1             8                             Albania         2009   \n",
       "2            12                             Algeria         2000   \n",
       "3            24                              Angola         2005   \n",
       "4            28                 Antigua and Barbuda         2000   \n",
       "...         ...                                 ...          ...   \n",
       "5534        862  Venezuela (Bolivarian Republic of)         1999   \n",
       "5535        704                            Viet Nam         2013   \n",
       "5536        887                               Yemen         2012   \n",
       "5537        894                              Zambia         2000   \n",
       "5538        716                            Zimbabwe         2006   \n",
       "\n",
       "      1000 t of\\n CO₂ equivalent      %  kg of CO₂ equivalent  Year  \\\n",
       "0                       43377.00    ...                  1.34  1990   \n",
       "1                        8125.70  87.16                  2.73  1990   \n",
       "2                      111022.59    ...                  3.58  1990   \n",
       "3                       61610.76    ...                  3.17  1990   \n",
       "4                         597.75  53.81                  7.86  1990   \n",
       "...                          ...    ...                   ...   ...   \n",
       "5534                   192192.24    ...                  8.10  2018   \n",
       "5535                   278441.86    ...                  3.07  2018   \n",
       "5536                    37942.87    ...                  1.55  2018   \n",
       "5537                    14404.70    ...                  1.38  2018   \n",
       "5538                    21184.72    ...                  1.74  2018   \n",
       "\n",
       "     GHG emissions per 1000t  \n",
       "0                        ...  \n",
       "1                   4,341.63  \n",
       "2                        ...  \n",
       "3                        ...  \n",
       "4                     388.63  \n",
       "...                      ...  \n",
       "5534                     ...  \n",
       "5535                     ...  \n",
       "5536                     ...  \n",
       "5537                     ...  \n",
       "5538                     ...  \n",
       "\n",
       "[5539 rows x 8 columns]"
      ],
      "text/html": "<div>\n<style scoped>\n    .dataframe tbody tr th:only-of-type {\n        vertical-align: middle;\n    }\n\n    .dataframe tbody tr th {\n        vertical-align: top;\n    }\n\n    .dataframe thead th {\n        text-align: right;\n    }\n</style>\n<table border=\"1\" class=\"dataframe\">\n  <thead>\n    <tr style=\"text-align: right;\">\n      <th></th>\n      <th>CountryID</th>\n      <th>Countries or areas</th>\n      <th>Latest Year</th>\n      <th>1000 t of\\n CO₂ equivalent</th>\n      <th>%</th>\n      <th>kg of CO₂ equivalent</th>\n      <th>Year</th>\n      <th>GHG emissions per 1000t</th>\n    </tr>\n  </thead>\n  <tbody>\n    <tr>\n      <th>0</th>\n      <td>4</td>\n      <td>Afghanistan</td>\n      <td>2013</td>\n      <td>43377.00</td>\n      <td>...</td>\n      <td>1.34</td>\n      <td>1990</td>\n      <td>...</td>\n    </tr>\n    <tr>\n      <th>1</th>\n      <td>8</td>\n      <td>Albania</td>\n      <td>2009</td>\n      <td>8125.70</td>\n      <td>87.16</td>\n      <td>2.73</td>\n      <td>1990</td>\n      <td>4,341.63</td>\n    </tr>\n    <tr>\n      <th>2</th>\n      <td>12</td>\n      <td>Algeria</td>\n      <td>2000</td>\n      <td>111022.59</td>\n      <td>...</td>\n      <td>3.58</td>\n      <td>1990</td>\n      <td>...</td>\n    </tr>\n    <tr>\n      <th>3</th>\n      <td>24</td>\n      <td>Angola</td>\n      <td>2005</td>\n      <td>61610.76</td>\n      <td>...</td>\n      <td>3.17</td>\n      <td>1990</td>\n      <td>...</td>\n    </tr>\n    <tr>\n      <th>4</th>\n      <td>28</td>\n      <td>Antigua and Barbuda</td>\n      <td>2000</td>\n      <td>597.75</td>\n      <td>53.81</td>\n      <td>7.86</td>\n      <td>1990</td>\n      <td>388.63</td>\n    </tr>\n    <tr>\n      <th>...</th>\n      <td>...</td>\n      <td>...</td>\n      <td>...</td>\n      <td>...</td>\n      <td>...</td>\n      <td>...</td>\n      <td>...</td>\n      <td>...</td>\n    </tr>\n    <tr>\n      <th>5534</th>\n      <td>862</td>\n      <td>Venezuela (Bolivarian Republic of)</td>\n      <td>1999</td>\n      <td>192192.24</td>\n      <td>...</td>\n      <td>8.10</td>\n      <td>2018</td>\n      <td>...</td>\n    </tr>\n    <tr>\n      <th>5535</th>\n      <td>704</td>\n      <td>Viet Nam</td>\n      <td>2013</td>\n      <td>278441.86</td>\n      <td>...</td>\n      <td>3.07</td>\n      <td>2018</td>\n      <td>...</td>\n    </tr>\n    <tr>\n      <th>5536</th>\n      <td>887</td>\n      <td>Yemen</td>\n      <td>2012</td>\n      <td>37942.87</td>\n      <td>...</td>\n      <td>1.55</td>\n      <td>2018</td>\n      <td>...</td>\n    </tr>\n    <tr>\n      <th>5537</th>\n      <td>894</td>\n      <td>Zambia</td>\n      <td>2000</td>\n      <td>14404.70</td>\n      <td>...</td>\n      <td>1.38</td>\n      <td>2018</td>\n      <td>...</td>\n    </tr>\n    <tr>\n      <th>5538</th>\n      <td>716</td>\n      <td>Zimbabwe</td>\n      <td>2006</td>\n      <td>21184.72</td>\n      <td>...</td>\n      <td>1.74</td>\n      <td>2018</td>\n      <td>...</td>\n    </tr>\n  </tbody>\n</table>\n<p>5539 rows × 8 columns</p>\n</div>"
     },
     "metadata": {},
     "execution_count": 23
    }
   ],
   "source": [
    "ghg_df_unpivot = ghg_df.melt(id_vars=['CountryID', 'Countries or areas', 'Latest Year', '1000 t of\\n CO₂ equivalent', '%', 'kg of CO₂ equivalent'], var_name='Year', value_name = 'GHG emissions per 1000t')\n",
    "\n",
    "ghg_df_unpivot"
   ]
  },
  {
   "cell_type": "code",
   "execution_count": 24,
   "metadata": {},
   "outputs": [
    {
     "output_type": "execute_result",
     "data": {
      "text/plain": [
       "      CountryID                  Countries or areas      %  \\\n",
       "0             4                         Afghanistan    ...   \n",
       "1             8                             Albania  87.16   \n",
       "2            12                             Algeria    ...   \n",
       "3            24                              Angola    ...   \n",
       "4            28                 Antigua and Barbuda  53.81   \n",
       "...         ...                                 ...    ...   \n",
       "5534        862  Venezuela (Bolivarian Republic of)    ...   \n",
       "5535        704                            Viet Nam    ...   \n",
       "5536        887                               Yemen    ...   \n",
       "5537        894                              Zambia    ...   \n",
       "5538        716                            Zimbabwe    ...   \n",
       "\n",
       "      kg of CO₂ equivalent  Year GHG emissions per 1000t  \n",
       "0                     1.34  1990                     ...  \n",
       "1                     2.73  1990                4,341.63  \n",
       "2                     3.58  1990                     ...  \n",
       "3                     3.17  1990                     ...  \n",
       "4                     7.86  1990                  388.63  \n",
       "...                    ...   ...                     ...  \n",
       "5534                  8.10  2018                     ...  \n",
       "5535                  3.07  2018                     ...  \n",
       "5536                  1.55  2018                     ...  \n",
       "5537                  1.38  2018                     ...  \n",
       "5538                  1.74  2018                     ...  \n",
       "\n",
       "[5539 rows x 6 columns]"
      ],
      "text/html": "<div>\n<style scoped>\n    .dataframe tbody tr th:only-of-type {\n        vertical-align: middle;\n    }\n\n    .dataframe tbody tr th {\n        vertical-align: top;\n    }\n\n    .dataframe thead th {\n        text-align: right;\n    }\n</style>\n<table border=\"1\" class=\"dataframe\">\n  <thead>\n    <tr style=\"text-align: right;\">\n      <th></th>\n      <th>CountryID</th>\n      <th>Countries or areas</th>\n      <th>%</th>\n      <th>kg of CO₂ equivalent</th>\n      <th>Year</th>\n      <th>GHG emissions per 1000t</th>\n    </tr>\n  </thead>\n  <tbody>\n    <tr>\n      <th>0</th>\n      <td>4</td>\n      <td>Afghanistan</td>\n      <td>...</td>\n      <td>1.34</td>\n      <td>1990</td>\n      <td>...</td>\n    </tr>\n    <tr>\n      <th>1</th>\n      <td>8</td>\n      <td>Albania</td>\n      <td>87.16</td>\n      <td>2.73</td>\n      <td>1990</td>\n      <td>4,341.63</td>\n    </tr>\n    <tr>\n      <th>2</th>\n      <td>12</td>\n      <td>Algeria</td>\n      <td>...</td>\n      <td>3.58</td>\n      <td>1990</td>\n      <td>...</td>\n    </tr>\n    <tr>\n      <th>3</th>\n      <td>24</td>\n      <td>Angola</td>\n      <td>...</td>\n      <td>3.17</td>\n      <td>1990</td>\n      <td>...</td>\n    </tr>\n    <tr>\n      <th>4</th>\n      <td>28</td>\n      <td>Antigua and Barbuda</td>\n      <td>53.81</td>\n      <td>7.86</td>\n      <td>1990</td>\n      <td>388.63</td>\n    </tr>\n    <tr>\n      <th>...</th>\n      <td>...</td>\n      <td>...</td>\n      <td>...</td>\n      <td>...</td>\n      <td>...</td>\n      <td>...</td>\n    </tr>\n    <tr>\n      <th>5534</th>\n      <td>862</td>\n      <td>Venezuela (Bolivarian Republic of)</td>\n      <td>...</td>\n      <td>8.10</td>\n      <td>2018</td>\n      <td>...</td>\n    </tr>\n    <tr>\n      <th>5535</th>\n      <td>704</td>\n      <td>Viet Nam</td>\n      <td>...</td>\n      <td>3.07</td>\n      <td>2018</td>\n      <td>...</td>\n    </tr>\n    <tr>\n      <th>5536</th>\n      <td>887</td>\n      <td>Yemen</td>\n      <td>...</td>\n      <td>1.55</td>\n      <td>2018</td>\n      <td>...</td>\n    </tr>\n    <tr>\n      <th>5537</th>\n      <td>894</td>\n      <td>Zambia</td>\n      <td>...</td>\n      <td>1.38</td>\n      <td>2018</td>\n      <td>...</td>\n    </tr>\n    <tr>\n      <th>5538</th>\n      <td>716</td>\n      <td>Zimbabwe</td>\n      <td>...</td>\n      <td>1.74</td>\n      <td>2018</td>\n      <td>...</td>\n    </tr>\n  </tbody>\n</table>\n<p>5539 rows × 6 columns</p>\n</div>"
     },
     "metadata": {},
     "execution_count": 24
    }
   ],
   "source": [
    "ghg_df_unpivot.drop(ghg_df_unpivot.iloc[:, 2:4], inplace=True, axis=1)\n",
    "ghg_df_unpivot"
   ]
  },
  {
   "cell_type": "code",
   "execution_count": 25,
   "metadata": {},
   "outputs": [
    {
     "output_type": "execute_result",
     "data": {
      "text/plain": [
       "      CountryID                  Countries or areas      %  Year  \\\n",
       "0             4                         Afghanistan    ...  1990   \n",
       "1             8                             Albania  87.16  1990   \n",
       "2            12                             Algeria    ...  1990   \n",
       "3            24                              Angola    ...  1990   \n",
       "4            28                 Antigua and Barbuda  53.81  1990   \n",
       "...         ...                                 ...    ...   ...   \n",
       "5534        862  Venezuela (Bolivarian Republic of)    ...  2018   \n",
       "5535        704                            Viet Nam    ...  2018   \n",
       "5536        887                               Yemen    ...  2018   \n",
       "5537        894                              Zambia    ...  2018   \n",
       "5538        716                            Zimbabwe    ...  2018   \n",
       "\n",
       "     GHG emissions per 1000t  \n",
       "0                        ...  \n",
       "1                   4,341.63  \n",
       "2                        ...  \n",
       "3                        ...  \n",
       "4                     388.63  \n",
       "...                      ...  \n",
       "5534                     ...  \n",
       "5535                     ...  \n",
       "5536                     ...  \n",
       "5537                     ...  \n",
       "5538                     ...  \n",
       "\n",
       "[5539 rows x 5 columns]"
      ],
      "text/html": "<div>\n<style scoped>\n    .dataframe tbody tr th:only-of-type {\n        vertical-align: middle;\n    }\n\n    .dataframe tbody tr th {\n        vertical-align: top;\n    }\n\n    .dataframe thead th {\n        text-align: right;\n    }\n</style>\n<table border=\"1\" class=\"dataframe\">\n  <thead>\n    <tr style=\"text-align: right;\">\n      <th></th>\n      <th>CountryID</th>\n      <th>Countries or areas</th>\n      <th>%</th>\n      <th>Year</th>\n      <th>GHG emissions per 1000t</th>\n    </tr>\n  </thead>\n  <tbody>\n    <tr>\n      <th>0</th>\n      <td>4</td>\n      <td>Afghanistan</td>\n      <td>...</td>\n      <td>1990</td>\n      <td>...</td>\n    </tr>\n    <tr>\n      <th>1</th>\n      <td>8</td>\n      <td>Albania</td>\n      <td>87.16</td>\n      <td>1990</td>\n      <td>4,341.63</td>\n    </tr>\n    <tr>\n      <th>2</th>\n      <td>12</td>\n      <td>Algeria</td>\n      <td>...</td>\n      <td>1990</td>\n      <td>...</td>\n    </tr>\n    <tr>\n      <th>3</th>\n      <td>24</td>\n      <td>Angola</td>\n      <td>...</td>\n      <td>1990</td>\n      <td>...</td>\n    </tr>\n    <tr>\n      <th>4</th>\n      <td>28</td>\n      <td>Antigua and Barbuda</td>\n      <td>53.81</td>\n      <td>1990</td>\n      <td>388.63</td>\n    </tr>\n    <tr>\n      <th>...</th>\n      <td>...</td>\n      <td>...</td>\n      <td>...</td>\n      <td>...</td>\n      <td>...</td>\n    </tr>\n    <tr>\n      <th>5534</th>\n      <td>862</td>\n      <td>Venezuela (Bolivarian Republic of)</td>\n      <td>...</td>\n      <td>2018</td>\n      <td>...</td>\n    </tr>\n    <tr>\n      <th>5535</th>\n      <td>704</td>\n      <td>Viet Nam</td>\n      <td>...</td>\n      <td>2018</td>\n      <td>...</td>\n    </tr>\n    <tr>\n      <th>5536</th>\n      <td>887</td>\n      <td>Yemen</td>\n      <td>...</td>\n      <td>2018</td>\n      <td>...</td>\n    </tr>\n    <tr>\n      <th>5537</th>\n      <td>894</td>\n      <td>Zambia</td>\n      <td>...</td>\n      <td>2018</td>\n      <td>...</td>\n    </tr>\n    <tr>\n      <th>5538</th>\n      <td>716</td>\n      <td>Zimbabwe</td>\n      <td>...</td>\n      <td>2018</td>\n      <td>...</td>\n    </tr>\n  </tbody>\n</table>\n<p>5539 rows × 5 columns</p>\n</div>"
     },
     "metadata": {},
     "execution_count": 25
    }
   ],
   "source": [
    "ghg_df_unpivot.drop(['kg of CO₂ equivalent'], inplace=True, axis=1)\n",
    "ghg_df_unpivot"
   ]
  },
  {
   "cell_type": "code",
   "execution_count": 26,
   "metadata": {},
   "outputs": [
    {
     "output_type": "execute_result",
     "data": {
      "text/plain": [
       "      CountryID Countries or areas    %  Year GHG emissions per 1000t\n",
       "0             4        Afghanistan  ...  1990                     ...\n",
       "191           4        Afghanistan  ...  1991                     ...\n",
       "382           4        Afghanistan  ...  1992                     ...\n",
       "573           4        Afghanistan  ...  1993                     ...\n",
       "764           4        Afghanistan  ...  1994                     ...\n",
       "...         ...                ...  ...   ...                     ...\n",
       "4774        716           Zimbabwe  ...  2014                     ...\n",
       "4965        716           Zimbabwe  ...  2015                     ...\n",
       "5156        716           Zimbabwe  ...  2016                     ...\n",
       "5347        716           Zimbabwe  ...  2017                     ...\n",
       "5538        716           Zimbabwe  ...  2018                     ...\n",
       "\n",
       "[5539 rows x 5 columns]"
      ],
      "text/html": "<div>\n<style scoped>\n    .dataframe tbody tr th:only-of-type {\n        vertical-align: middle;\n    }\n\n    .dataframe tbody tr th {\n        vertical-align: top;\n    }\n\n    .dataframe thead th {\n        text-align: right;\n    }\n</style>\n<table border=\"1\" class=\"dataframe\">\n  <thead>\n    <tr style=\"text-align: right;\">\n      <th></th>\n      <th>CountryID</th>\n      <th>Countries or areas</th>\n      <th>%</th>\n      <th>Year</th>\n      <th>GHG emissions per 1000t</th>\n    </tr>\n  </thead>\n  <tbody>\n    <tr>\n      <th>0</th>\n      <td>4</td>\n      <td>Afghanistan</td>\n      <td>...</td>\n      <td>1990</td>\n      <td>...</td>\n    </tr>\n    <tr>\n      <th>191</th>\n      <td>4</td>\n      <td>Afghanistan</td>\n      <td>...</td>\n      <td>1991</td>\n      <td>...</td>\n    </tr>\n    <tr>\n      <th>382</th>\n      <td>4</td>\n      <td>Afghanistan</td>\n      <td>...</td>\n      <td>1992</td>\n      <td>...</td>\n    </tr>\n    <tr>\n      <th>573</th>\n      <td>4</td>\n      <td>Afghanistan</td>\n      <td>...</td>\n      <td>1993</td>\n      <td>...</td>\n    </tr>\n    <tr>\n      <th>764</th>\n      <td>4</td>\n      <td>Afghanistan</td>\n      <td>...</td>\n      <td>1994</td>\n      <td>...</td>\n    </tr>\n    <tr>\n      <th>...</th>\n      <td>...</td>\n      <td>...</td>\n      <td>...</td>\n      <td>...</td>\n      <td>...</td>\n    </tr>\n    <tr>\n      <th>4774</th>\n      <td>716</td>\n      <td>Zimbabwe</td>\n      <td>...</td>\n      <td>2014</td>\n      <td>...</td>\n    </tr>\n    <tr>\n      <th>4965</th>\n      <td>716</td>\n      <td>Zimbabwe</td>\n      <td>...</td>\n      <td>2015</td>\n      <td>...</td>\n    </tr>\n    <tr>\n      <th>5156</th>\n      <td>716</td>\n      <td>Zimbabwe</td>\n      <td>...</td>\n      <td>2016</td>\n      <td>...</td>\n    </tr>\n    <tr>\n      <th>5347</th>\n      <td>716</td>\n      <td>Zimbabwe</td>\n      <td>...</td>\n      <td>2017</td>\n      <td>...</td>\n    </tr>\n    <tr>\n      <th>5538</th>\n      <td>716</td>\n      <td>Zimbabwe</td>\n      <td>...</td>\n      <td>2018</td>\n      <td>...</td>\n    </tr>\n  </tbody>\n</table>\n<p>5539 rows × 5 columns</p>\n</div>"
     },
     "metadata": {},
     "execution_count": 26
    }
   ],
   "source": [
    "ghg_df_unpivot.sort_values(by=['Countries or areas', 'Year'], inplace=True)\n",
    "ghg_df_unpivot"
   ]
  },
  {
   "cell_type": "code",
   "execution_count": 28,
   "metadata": {},
   "outputs": [
    {
     "output_type": "execute_result",
     "data": {
      "text/plain": [
       "CountryID                   int64\n",
       "Countries or areas         object\n",
       "%                          object\n",
       "Year                        int64\n",
       "GHG emissions per 1000t    object\n",
       "dtype: object"
      ]
     },
     "metadata": {},
     "execution_count": 28
    }
   ],
   "source": [
    "# Change \"Year\" column to integer\n",
    "ghg_df_unpivot.dtypes\n",
    "ghg_df_unpivot[\"Year\"] = ghg_df_unpivot[\"Year\"].astype(str).astype(int)\n",
    "ghg_df_unpivot.dtypes"
   ]
  },
  {
   "cell_type": "code",
   "execution_count": 29,
   "metadata": {},
   "outputs": [
    {
     "output_type": "execute_result",
     "data": {
      "text/plain": [
       "      CountryID Countries or areas    %  Year GHG emissions per 1000t  \\\n",
       "0             4        Afghanistan  ...  1990                     ...   \n",
       "191           4        Afghanistan  ...  1991                     ...   \n",
       "382           4        Afghanistan  ...  1992                     ...   \n",
       "573           4        Afghanistan  ...  1993                     ...   \n",
       "764           4        Afghanistan  ...  1994                     ...   \n",
       "...         ...                ...  ...   ...                     ...   \n",
       "4774        716           Zimbabwe  ...  2014                     ...   \n",
       "4965        716           Zimbabwe  ...  2015                     ...   \n",
       "5156        716           Zimbabwe  ...  2016                     ...   \n",
       "5347        716           Zimbabwe  ...  2017                     ...   \n",
       "5538        716           Zimbabwe  ...  2018                     ...   \n",
       "\n",
       "        Decades  \n",
       "0     1990-1999  \n",
       "191   1990-1999  \n",
       "382   1990-1999  \n",
       "573   1990-1999  \n",
       "764   1990-1999  \n",
       "...         ...  \n",
       "4774  2010-2019  \n",
       "4965  2010-2019  \n",
       "5156  2010-2019  \n",
       "5347  2010-2019  \n",
       "5538  2010-2019  \n",
       "\n",
       "[5539 rows x 6 columns]"
      ],
      "text/html": "<div>\n<style scoped>\n    .dataframe tbody tr th:only-of-type {\n        vertical-align: middle;\n    }\n\n    .dataframe tbody tr th {\n        vertical-align: top;\n    }\n\n    .dataframe thead th {\n        text-align: right;\n    }\n</style>\n<table border=\"1\" class=\"dataframe\">\n  <thead>\n    <tr style=\"text-align: right;\">\n      <th></th>\n      <th>CountryID</th>\n      <th>Countries or areas</th>\n      <th>%</th>\n      <th>Year</th>\n      <th>GHG emissions per 1000t</th>\n      <th>Decades</th>\n    </tr>\n  </thead>\n  <tbody>\n    <tr>\n      <th>0</th>\n      <td>4</td>\n      <td>Afghanistan</td>\n      <td>...</td>\n      <td>1990</td>\n      <td>...</td>\n      <td>1990-1999</td>\n    </tr>\n    <tr>\n      <th>191</th>\n      <td>4</td>\n      <td>Afghanistan</td>\n      <td>...</td>\n      <td>1991</td>\n      <td>...</td>\n      <td>1990-1999</td>\n    </tr>\n    <tr>\n      <th>382</th>\n      <td>4</td>\n      <td>Afghanistan</td>\n      <td>...</td>\n      <td>1992</td>\n      <td>...</td>\n      <td>1990-1999</td>\n    </tr>\n    <tr>\n      <th>573</th>\n      <td>4</td>\n      <td>Afghanistan</td>\n      <td>...</td>\n      <td>1993</td>\n      <td>...</td>\n      <td>1990-1999</td>\n    </tr>\n    <tr>\n      <th>764</th>\n      <td>4</td>\n      <td>Afghanistan</td>\n      <td>...</td>\n      <td>1994</td>\n      <td>...</td>\n      <td>1990-1999</td>\n    </tr>\n    <tr>\n      <th>...</th>\n      <td>...</td>\n      <td>...</td>\n      <td>...</td>\n      <td>...</td>\n      <td>...</td>\n      <td>...</td>\n    </tr>\n    <tr>\n      <th>4774</th>\n      <td>716</td>\n      <td>Zimbabwe</td>\n      <td>...</td>\n      <td>2014</td>\n      <td>...</td>\n      <td>2010-2019</td>\n    </tr>\n    <tr>\n      <th>4965</th>\n      <td>716</td>\n      <td>Zimbabwe</td>\n      <td>...</td>\n      <td>2015</td>\n      <td>...</td>\n      <td>2010-2019</td>\n    </tr>\n    <tr>\n      <th>5156</th>\n      <td>716</td>\n      <td>Zimbabwe</td>\n      <td>...</td>\n      <td>2016</td>\n      <td>...</td>\n      <td>2010-2019</td>\n    </tr>\n    <tr>\n      <th>5347</th>\n      <td>716</td>\n      <td>Zimbabwe</td>\n      <td>...</td>\n      <td>2017</td>\n      <td>...</td>\n      <td>2010-2019</td>\n    </tr>\n    <tr>\n      <th>5538</th>\n      <td>716</td>\n      <td>Zimbabwe</td>\n      <td>...</td>\n      <td>2018</td>\n      <td>...</td>\n      <td>2010-2019</td>\n    </tr>\n  </tbody>\n</table>\n<p>5539 rows × 6 columns</p>\n</div>"
     },
     "metadata": {},
     "execution_count": 29
    }
   ],
   "source": [
    "# Bins for ghg data \n",
    "bins = [1990, 1999, 2009, 2019]\n",
    "\n",
    "decades = [\"1990-1999\", \"2000-2009\", \"2010-2019\"]\n",
    "\n",
    "ghg_df_unpivot[\"Decades\"] = pd.cut(ghg_df_unpivot[\"Year\"], bins, labels=decades, include_lowest=True)\n",
    "ghg_df_unpivot"
   ]
  },
  {
   "cell_type": "code",
   "execution_count": 31,
   "metadata": {},
   "outputs": [
    {
     "output_type": "execute_result",
     "data": {
      "text/plain": [
       "      CountryID Countries or areas  Year    Decades GHG emissions per 1000t\n",
       "0             4        Afghanistan  1990  1990-1999                     ...\n",
       "5348          4        Afghanistan  2018  2010-2019                     ...\n",
       "5157          4        Afghanistan  2017  2010-2019                     ...\n",
       "4966          4        Afghanistan  2016  2010-2019                     ...\n",
       "4775          4        Afghanistan  2015  2010-2019                     ...\n",
       "...         ...                ...   ...        ...                     ...\n",
       "381         716           Zimbabwe  1991  1990-1999                     ...\n",
       "190         716           Zimbabwe  1990  1990-1999                     ...\n",
       "5347        716           Zimbabwe  2017  2010-2019                     ...\n",
       "2673        716           Zimbabwe  2003  2000-2009                     ...\n",
       "5538        716           Zimbabwe  2018  2010-2019                     ...\n",
       "\n",
       "[5539 rows x 5 columns]"
      ],
      "text/html": "<div>\n<style scoped>\n    .dataframe tbody tr th:only-of-type {\n        vertical-align: middle;\n    }\n\n    .dataframe tbody tr th {\n        vertical-align: top;\n    }\n\n    .dataframe thead th {\n        text-align: right;\n    }\n</style>\n<table border=\"1\" class=\"dataframe\">\n  <thead>\n    <tr style=\"text-align: right;\">\n      <th></th>\n      <th>CountryID</th>\n      <th>Countries or areas</th>\n      <th>Year</th>\n      <th>Decades</th>\n      <th>GHG emissions per 1000t</th>\n    </tr>\n  </thead>\n  <tbody>\n    <tr>\n      <th>0</th>\n      <td>4</td>\n      <td>Afghanistan</td>\n      <td>1990</td>\n      <td>1990-1999</td>\n      <td>...</td>\n    </tr>\n    <tr>\n      <th>5348</th>\n      <td>4</td>\n      <td>Afghanistan</td>\n      <td>2018</td>\n      <td>2010-2019</td>\n      <td>...</td>\n    </tr>\n    <tr>\n      <th>5157</th>\n      <td>4</td>\n      <td>Afghanistan</td>\n      <td>2017</td>\n      <td>2010-2019</td>\n      <td>...</td>\n    </tr>\n    <tr>\n      <th>4966</th>\n      <td>4</td>\n      <td>Afghanistan</td>\n      <td>2016</td>\n      <td>2010-2019</td>\n      <td>...</td>\n    </tr>\n    <tr>\n      <th>4775</th>\n      <td>4</td>\n      <td>Afghanistan</td>\n      <td>2015</td>\n      <td>2010-2019</td>\n      <td>...</td>\n    </tr>\n    <tr>\n      <th>...</th>\n      <td>...</td>\n      <td>...</td>\n      <td>...</td>\n      <td>...</td>\n      <td>...</td>\n    </tr>\n    <tr>\n      <th>381</th>\n      <td>716</td>\n      <td>Zimbabwe</td>\n      <td>1991</td>\n      <td>1990-1999</td>\n      <td>...</td>\n    </tr>\n    <tr>\n      <th>190</th>\n      <td>716</td>\n      <td>Zimbabwe</td>\n      <td>1990</td>\n      <td>1990-1999</td>\n      <td>...</td>\n    </tr>\n    <tr>\n      <th>5347</th>\n      <td>716</td>\n      <td>Zimbabwe</td>\n      <td>2017</td>\n      <td>2010-2019</td>\n      <td>...</td>\n    </tr>\n    <tr>\n      <th>2673</th>\n      <td>716</td>\n      <td>Zimbabwe</td>\n      <td>2003</td>\n      <td>2000-2009</td>\n      <td>...</td>\n    </tr>\n    <tr>\n      <th>5538</th>\n      <td>716</td>\n      <td>Zimbabwe</td>\n      <td>2018</td>\n      <td>2010-2019</td>\n      <td>...</td>\n    </tr>\n  </tbody>\n</table>\n<p>5539 rows × 5 columns</p>\n</div>"
     },
     "metadata": {},
     "execution_count": 31
    }
   ],
   "source": [
    "# Reorder so that years are next to decades \n",
    "final_ghg_df = ghg_df_unpivot[['CountryID', 'Countries or areas', 'Year', 'Decades', 'GHG emissions per 1000t']]\n",
    "final_ghg_df.sort_values(by=['Countries or areas'])"
   ]
  },
  {
   "cell_type": "code",
   "execution_count": null,
   "metadata": {},
   "outputs": [],
   "source": [
    "# Average GHG emission by decade \n",
    "#final_ghg_df.groupby(pd.cut(final_ghg_df['Year'], bins=bins)).mean()\n",
    "#final_ghg_df"
   ]
  },
  {
   "cell_type": "code",
   "execution_count": null,
   "metadata": {},
   "outputs": [],
   "source": [
    "# Export dataframe to CSV\n",
    "#final_ghg_df.to_csv('/Users/ashleypatricia/Documents/GitHub/ETL-project/ghg_csv/GHG_unpivot.csv')"
   ]
  }
 ]
}