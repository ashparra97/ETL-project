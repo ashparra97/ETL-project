{
 "metadata": {
  "language_info": {
   "codemirror_mode": {
    "name": "ipython",
    "version": 3
   },
   "file_extension": ".py",
   "mimetype": "text/x-python",
   "name": "python",
   "nbconvert_exporter": "python",
   "pygments_lexer": "ipython3",
   "version": "3.7.9"
  },
  "orig_nbformat": 2,
  "kernelspec": {
   "name": "python379jvsc74a57bd04e16bc90bb1be4fcd3e766e2f5d73f05719f516a7206bf1e9e77281fd34acfc0",
   "display_name": "Python 3.7.9 64-bit ('PythonData': conda)"
  }
 },
 "nbformat": 4,
 "nbformat_minor": 2,
 "cells": [
  {
   "source": [
    "## Cleaned up data for ETL Project"
   ],
   "cell_type": "markdown",
   "metadata": {}
  },
  {
   "cell_type": "code",
   "execution_count": 30,
   "metadata": {},
   "outputs": [],
   "source": [
    "import pandas as pd"
   ]
  },
  {
   "cell_type": "code",
   "execution_count": 31,
   "metadata": {},
   "outputs": [],
   "source": [
    "#Determing csv paths for each\n",
    "\n",
    "#Climatalogical disasters\n",
    "\n",
    "climate_csv = \"Resources/Climatological disasters.csv\"\n",
    "\n",
    "#Greenhouse Gas Emissions\n",
    "\n",
    "ghg_csv = \"Resources/GHG_Emissions.csv\""
   ]
  },
  {
   "cell_type": "code",
   "execution_count": 32,
   "metadata": {},
   "outputs": [],
   "source": [
    "#Read csvs into dataframes\n",
    "\n",
    "disasters_df = pd.read_csv(climate_csv)\n",
    "ghg_df = pd.read_csv(ghg_csv, skiprows=[0])"
   ]
  },
  {
   "cell_type": "code",
   "execution_count": 33,
   "metadata": {},
   "outputs": [
    {
     "output_type": "execute_result",
     "data": {
      "text/plain": [
       "     CountryID                  Countries or areas Occurrence 1990-1999  \\\n",
       "0            4                         Afghanistan                    3   \n",
       "1            8                             Albania                    1   \n",
       "2           12                             Algeria                    2   \n",
       "3           24                              Angola                    4   \n",
       "4          660                            Anguilla                    1   \n",
       "..         ...                                 ...                  ...   \n",
       "148        860                          Uzbekistan                  ...   \n",
       "149        862  Venezuela (Bolivarian Republic of)                  ...   \n",
       "150        704                            Viet Nam                    3   \n",
       "151        894                              Zambia                    4   \n",
       "152        716                            Zimbabwe                    3   \n",
       "\n",
       "    Occurrence 2000-2009 Occurrence 2010-2019 Total deaths 1990-1999  \\\n",
       "0                      3                    2                      0   \n",
       "1                      1                  ...                      0   \n",
       "2                      1                  ...                     22   \n",
       "3                      2                    2                      0   \n",
       "4                    ...                  ...                      0   \n",
       "..                   ...                  ...                    ...   \n",
       "148                    1                  ...                    ...   \n",
       "149                    1                  ...                    ...   \n",
       "150                    3                    2                      0   \n",
       "151                    1                  ...                      0   \n",
       "152                    2                    3                      0   \n",
       "\n",
       "    Total deaths 2000-2009 Total deaths 2010-2019 Persons affected 1990-1999  \\\n",
       "0                       37                      0                      48000   \n",
       "1                        0                    ...                    3200000   \n",
       "2                        8                    ...                          0   \n",
       "3                       58                      0                    2585000   \n",
       "4                      ...                    ...                          0   \n",
       "..                     ...                    ...                        ...   \n",
       "148                      0                    ...                        ...   \n",
       "149                      0                    ...                        ...   \n",
       "150                      0                      0                    4400000   \n",
       "151                      0                    ...                    2973204   \n",
       "152                      0                      0                    5055000   \n",
       "\n",
       "    Persons affected 2000-2009 Persons affected 2010-2019  \n",
       "0                      4760000                   12350000  \n",
       "1                           75                        ...  \n",
       "2                            0                        ...  \n",
       "3                        25000                    3253900  \n",
       "4                          ...                        ...  \n",
       "..                         ...                        ...  \n",
       "148                     600000                        ...  \n",
       "149                          0                        ...  \n",
       "150                    1710000                    1750000  \n",
       "151                    1200000                        ...  \n",
       "152                    8100000                   13567618  \n",
       "\n",
       "[153 rows x 11 columns]"
      ],
      "text/html": "<div>\n<style scoped>\n    .dataframe tbody tr th:only-of-type {\n        vertical-align: middle;\n    }\n\n    .dataframe tbody tr th {\n        vertical-align: top;\n    }\n\n    .dataframe thead th {\n        text-align: right;\n    }\n</style>\n<table border=\"1\" class=\"dataframe\">\n  <thead>\n    <tr style=\"text-align: right;\">\n      <th></th>\n      <th>CountryID</th>\n      <th>Countries or areas</th>\n      <th>Occurrence 1990-1999</th>\n      <th>Occurrence 2000-2009</th>\n      <th>Occurrence 2010-2019</th>\n      <th>Total deaths 1990-1999</th>\n      <th>Total deaths 2000-2009</th>\n      <th>Total deaths 2010-2019</th>\n      <th>Persons affected 1990-1999</th>\n      <th>Persons affected 2000-2009</th>\n      <th>Persons affected 2010-2019</th>\n    </tr>\n  </thead>\n  <tbody>\n    <tr>\n      <th>0</th>\n      <td>4</td>\n      <td>Afghanistan</td>\n      <td>3</td>\n      <td>3</td>\n      <td>2</td>\n      <td>0</td>\n      <td>37</td>\n      <td>0</td>\n      <td>48000</td>\n      <td>4760000</td>\n      <td>12350000</td>\n    </tr>\n    <tr>\n      <th>1</th>\n      <td>8</td>\n      <td>Albania</td>\n      <td>1</td>\n      <td>1</td>\n      <td>...</td>\n      <td>0</td>\n      <td>0</td>\n      <td>...</td>\n      <td>3200000</td>\n      <td>75</td>\n      <td>...</td>\n    </tr>\n    <tr>\n      <th>2</th>\n      <td>12</td>\n      <td>Algeria</td>\n      <td>2</td>\n      <td>1</td>\n      <td>...</td>\n      <td>22</td>\n      <td>8</td>\n      <td>...</td>\n      <td>0</td>\n      <td>0</td>\n      <td>...</td>\n    </tr>\n    <tr>\n      <th>3</th>\n      <td>24</td>\n      <td>Angola</td>\n      <td>4</td>\n      <td>2</td>\n      <td>2</td>\n      <td>0</td>\n      <td>58</td>\n      <td>0</td>\n      <td>2585000</td>\n      <td>25000</td>\n      <td>3253900</td>\n    </tr>\n    <tr>\n      <th>4</th>\n      <td>660</td>\n      <td>Anguilla</td>\n      <td>1</td>\n      <td>...</td>\n      <td>...</td>\n      <td>0</td>\n      <td>...</td>\n      <td>...</td>\n      <td>0</td>\n      <td>...</td>\n      <td>...</td>\n    </tr>\n    <tr>\n      <th>...</th>\n      <td>...</td>\n      <td>...</td>\n      <td>...</td>\n      <td>...</td>\n      <td>...</td>\n      <td>...</td>\n      <td>...</td>\n      <td>...</td>\n      <td>...</td>\n      <td>...</td>\n      <td>...</td>\n    </tr>\n    <tr>\n      <th>148</th>\n      <td>860</td>\n      <td>Uzbekistan</td>\n      <td>...</td>\n      <td>1</td>\n      <td>...</td>\n      <td>...</td>\n      <td>0</td>\n      <td>...</td>\n      <td>...</td>\n      <td>600000</td>\n      <td>...</td>\n    </tr>\n    <tr>\n      <th>149</th>\n      <td>862</td>\n      <td>Venezuela (Bolivarian Republic of)</td>\n      <td>...</td>\n      <td>1</td>\n      <td>...</td>\n      <td>...</td>\n      <td>0</td>\n      <td>...</td>\n      <td>...</td>\n      <td>0</td>\n      <td>...</td>\n    </tr>\n    <tr>\n      <th>150</th>\n      <td>704</td>\n      <td>Viet Nam</td>\n      <td>3</td>\n      <td>3</td>\n      <td>2</td>\n      <td>0</td>\n      <td>0</td>\n      <td>0</td>\n      <td>4400000</td>\n      <td>1710000</td>\n      <td>1750000</td>\n    </tr>\n    <tr>\n      <th>151</th>\n      <td>894</td>\n      <td>Zambia</td>\n      <td>4</td>\n      <td>1</td>\n      <td>...</td>\n      <td>0</td>\n      <td>0</td>\n      <td>...</td>\n      <td>2973204</td>\n      <td>1200000</td>\n      <td>...</td>\n    </tr>\n    <tr>\n      <th>152</th>\n      <td>716</td>\n      <td>Zimbabwe</td>\n      <td>3</td>\n      <td>2</td>\n      <td>3</td>\n      <td>0</td>\n      <td>0</td>\n      <td>0</td>\n      <td>5055000</td>\n      <td>8100000</td>\n      <td>13567618</td>\n    </tr>\n  </tbody>\n</table>\n<p>153 rows × 11 columns</p>\n</div>"
     },
     "metadata": {},
     "execution_count": 33
    }
   ],
   "source": [
    "disasters_df"
   ]
  },
  {
   "cell_type": "code",
   "execution_count": 34,
   "metadata": {},
   "outputs": [
    {
     "output_type": "execute_result",
     "data": {
      "text/plain": [
       "     Unnamed: 0                          Unnamed: 1      1990      1991  \\\n",
       "0             4                         Afghanistan       ...       ...   \n",
       "1             8                             Albania  4,341.63  6,486.66   \n",
       "2            12                             Algeria       ...       ...   \n",
       "3            24                              Angola       ...       ...   \n",
       "4            28                 Antigua and Barbuda    388.63       ...   \n",
       "..          ...                                 ...       ...       ...   \n",
       "186         862  Venezuela (Bolivarian Republic of)       ...       ...   \n",
       "187         704                            Viet Nam       ...       ...   \n",
       "188         887                               Yemen       ...       ...   \n",
       "189         894                              Zambia       ...       ...   \n",
       "190         716                            Zimbabwe       ...       ...   \n",
       "\n",
       "         1992      1993       1994       1995      1996      1997  ...  \\\n",
       "0         ...       ...        ...        ...       ...       ...  ...   \n",
       "1    4,581.28  4,588.00   4,906.36   4,883.76  4,998.58  5,107.07  ...   \n",
       "2         ...       ...  91,758.00        ...       ...       ...  ...   \n",
       "3         ...       ...        ...        ...       ...       ...  ...   \n",
       "4         ...       ...        ...        ...       ...       ...  ...   \n",
       "..        ...       ...        ...        ...       ...       ...  ...   \n",
       "186       ...       ...        ...        ...       ...       ...  ...   \n",
       "187       ...       ...  84,454.06        ...       ...       ...  ...   \n",
       "188       ...       ...        ...  17,870.11       ...       ...  ...   \n",
       "189       ...       ...  32,770.07        ...       ...       ...  ...   \n",
       "190       ...       ...  27,594.22        ...       ...       ...  ...   \n",
       "\n",
       "            2013 2014 2015 2016 2017 2018 Latest Year  \\\n",
       "0      43,377.00  ...  ...  ...  ...  ...        2013   \n",
       "1            ...  ...  ...  ...  ...  ...        2009   \n",
       "2            ...  ...  ...  ...  ...  ...        2000   \n",
       "3            ...  ...  ...  ...  ...  ...        2005   \n",
       "4            ...  ...  ...  ...  ...  ...        2000   \n",
       "..           ...  ...  ...  ...  ...  ...         ...   \n",
       "186          ...  ...  ...  ...  ...  ...        1999   \n",
       "187  2,78,441.86  ...  ...  ...  ...  ...        2013   \n",
       "188          ...  ...  ...  ...  ...  ...        2012   \n",
       "189          ...  ...  ...  ...  ...  ...        2000   \n",
       "190          ...  ...  ...  ...  ...  ...        2006   \n",
       "\n",
       "    1000 t of\\n CO₂ equivalent      % kg of CO₂ equivalent  \n",
       "0                     43377.00    ...                 1.34  \n",
       "1                      8125.70  87.16                 2.73  \n",
       "2                    111022.59    ...                 3.58  \n",
       "3                     61610.76    ...                 3.17  \n",
       "4                       597.75  53.81                 7.86  \n",
       "..                         ...    ...                  ...  \n",
       "186                  192192.24    ...                 8.10  \n",
       "187                  278441.86    ...                 3.07  \n",
       "188                   37942.87    ...                 1.55  \n",
       "189                   14404.70    ...                 1.38  \n",
       "190                   21184.72    ...                 1.74  \n",
       "\n",
       "[191 rows x 35 columns]"
      ],
      "text/html": "<div>\n<style scoped>\n    .dataframe tbody tr th:only-of-type {\n        vertical-align: middle;\n    }\n\n    .dataframe tbody tr th {\n        vertical-align: top;\n    }\n\n    .dataframe thead th {\n        text-align: right;\n    }\n</style>\n<table border=\"1\" class=\"dataframe\">\n  <thead>\n    <tr style=\"text-align: right;\">\n      <th></th>\n      <th>Unnamed: 0</th>\n      <th>Unnamed: 1</th>\n      <th>1990</th>\n      <th>1991</th>\n      <th>1992</th>\n      <th>1993</th>\n      <th>1994</th>\n      <th>1995</th>\n      <th>1996</th>\n      <th>1997</th>\n      <th>...</th>\n      <th>2013</th>\n      <th>2014</th>\n      <th>2015</th>\n      <th>2016</th>\n      <th>2017</th>\n      <th>2018</th>\n      <th>Latest Year</th>\n      <th>1000 t of\\n CO₂ equivalent</th>\n      <th>%</th>\n      <th>kg of CO₂ equivalent</th>\n    </tr>\n  </thead>\n  <tbody>\n    <tr>\n      <th>0</th>\n      <td>4</td>\n      <td>Afghanistan</td>\n      <td>...</td>\n      <td>...</td>\n      <td>...</td>\n      <td>...</td>\n      <td>...</td>\n      <td>...</td>\n      <td>...</td>\n      <td>...</td>\n      <td>...</td>\n      <td>43,377.00</td>\n      <td>...</td>\n      <td>...</td>\n      <td>...</td>\n      <td>...</td>\n      <td>...</td>\n      <td>2013</td>\n      <td>43377.00</td>\n      <td>...</td>\n      <td>1.34</td>\n    </tr>\n    <tr>\n      <th>1</th>\n      <td>8</td>\n      <td>Albania</td>\n      <td>4,341.63</td>\n      <td>6,486.66</td>\n      <td>4,581.28</td>\n      <td>4,588.00</td>\n      <td>4,906.36</td>\n      <td>4,883.76</td>\n      <td>4,998.58</td>\n      <td>5,107.07</td>\n      <td>...</td>\n      <td>...</td>\n      <td>...</td>\n      <td>...</td>\n      <td>...</td>\n      <td>...</td>\n      <td>...</td>\n      <td>2009</td>\n      <td>8125.70</td>\n      <td>87.16</td>\n      <td>2.73</td>\n    </tr>\n    <tr>\n      <th>2</th>\n      <td>12</td>\n      <td>Algeria</td>\n      <td>...</td>\n      <td>...</td>\n      <td>...</td>\n      <td>...</td>\n      <td>91,758.00</td>\n      <td>...</td>\n      <td>...</td>\n      <td>...</td>\n      <td>...</td>\n      <td>...</td>\n      <td>...</td>\n      <td>...</td>\n      <td>...</td>\n      <td>...</td>\n      <td>...</td>\n      <td>2000</td>\n      <td>111022.59</td>\n      <td>...</td>\n      <td>3.58</td>\n    </tr>\n    <tr>\n      <th>3</th>\n      <td>24</td>\n      <td>Angola</td>\n      <td>...</td>\n      <td>...</td>\n      <td>...</td>\n      <td>...</td>\n      <td>...</td>\n      <td>...</td>\n      <td>...</td>\n      <td>...</td>\n      <td>...</td>\n      <td>...</td>\n      <td>...</td>\n      <td>...</td>\n      <td>...</td>\n      <td>...</td>\n      <td>...</td>\n      <td>2005</td>\n      <td>61610.76</td>\n      <td>...</td>\n      <td>3.17</td>\n    </tr>\n    <tr>\n      <th>4</th>\n      <td>28</td>\n      <td>Antigua and Barbuda</td>\n      <td>388.63</td>\n      <td>...</td>\n      <td>...</td>\n      <td>...</td>\n      <td>...</td>\n      <td>...</td>\n      <td>...</td>\n      <td>...</td>\n      <td>...</td>\n      <td>...</td>\n      <td>...</td>\n      <td>...</td>\n      <td>...</td>\n      <td>...</td>\n      <td>...</td>\n      <td>2000</td>\n      <td>597.75</td>\n      <td>53.81</td>\n      <td>7.86</td>\n    </tr>\n    <tr>\n      <th>...</th>\n      <td>...</td>\n      <td>...</td>\n      <td>...</td>\n      <td>...</td>\n      <td>...</td>\n      <td>...</td>\n      <td>...</td>\n      <td>...</td>\n      <td>...</td>\n      <td>...</td>\n      <td>...</td>\n      <td>...</td>\n      <td>...</td>\n      <td>...</td>\n      <td>...</td>\n      <td>...</td>\n      <td>...</td>\n      <td>...</td>\n      <td>...</td>\n      <td>...</td>\n      <td>...</td>\n    </tr>\n    <tr>\n      <th>186</th>\n      <td>862</td>\n      <td>Venezuela (Bolivarian Republic of)</td>\n      <td>...</td>\n      <td>...</td>\n      <td>...</td>\n      <td>...</td>\n      <td>...</td>\n      <td>...</td>\n      <td>...</td>\n      <td>...</td>\n      <td>...</td>\n      <td>...</td>\n      <td>...</td>\n      <td>...</td>\n      <td>...</td>\n      <td>...</td>\n      <td>...</td>\n      <td>1999</td>\n      <td>192192.24</td>\n      <td>...</td>\n      <td>8.10</td>\n    </tr>\n    <tr>\n      <th>187</th>\n      <td>704</td>\n      <td>Viet Nam</td>\n      <td>...</td>\n      <td>...</td>\n      <td>...</td>\n      <td>...</td>\n      <td>84,454.06</td>\n      <td>...</td>\n      <td>...</td>\n      <td>...</td>\n      <td>...</td>\n      <td>2,78,441.86</td>\n      <td>...</td>\n      <td>...</td>\n      <td>...</td>\n      <td>...</td>\n      <td>...</td>\n      <td>2013</td>\n      <td>278441.86</td>\n      <td>...</td>\n      <td>3.07</td>\n    </tr>\n    <tr>\n      <th>188</th>\n      <td>887</td>\n      <td>Yemen</td>\n      <td>...</td>\n      <td>...</td>\n      <td>...</td>\n      <td>...</td>\n      <td>...</td>\n      <td>17,870.11</td>\n      <td>...</td>\n      <td>...</td>\n      <td>...</td>\n      <td>...</td>\n      <td>...</td>\n      <td>...</td>\n      <td>...</td>\n      <td>...</td>\n      <td>...</td>\n      <td>2012</td>\n      <td>37942.87</td>\n      <td>...</td>\n      <td>1.55</td>\n    </tr>\n    <tr>\n      <th>189</th>\n      <td>894</td>\n      <td>Zambia</td>\n      <td>...</td>\n      <td>...</td>\n      <td>...</td>\n      <td>...</td>\n      <td>32,770.07</td>\n      <td>...</td>\n      <td>...</td>\n      <td>...</td>\n      <td>...</td>\n      <td>...</td>\n      <td>...</td>\n      <td>...</td>\n      <td>...</td>\n      <td>...</td>\n      <td>...</td>\n      <td>2000</td>\n      <td>14404.70</td>\n      <td>...</td>\n      <td>1.38</td>\n    </tr>\n    <tr>\n      <th>190</th>\n      <td>716</td>\n      <td>Zimbabwe</td>\n      <td>...</td>\n      <td>...</td>\n      <td>...</td>\n      <td>...</td>\n      <td>27,594.22</td>\n      <td>...</td>\n      <td>...</td>\n      <td>...</td>\n      <td>...</td>\n      <td>...</td>\n      <td>...</td>\n      <td>...</td>\n      <td>...</td>\n      <td>...</td>\n      <td>...</td>\n      <td>2006</td>\n      <td>21184.72</td>\n      <td>...</td>\n      <td>1.74</td>\n    </tr>\n  </tbody>\n</table>\n<p>191 rows × 35 columns</p>\n</div>"
     },
     "metadata": {},
     "execution_count": 34
    }
   ],
   "source": [
    "ghg_df"
   ]
  },
  {
   "cell_type": "code",
   "execution_count": 35,
   "metadata": {},
   "outputs": [
    {
     "output_type": "execute_result",
     "data": {
      "text/plain": [
       "     CountryID                  Countries or areas      1990      1991  \\\n",
       "0            4                         Afghanistan       ...       ...   \n",
       "1            8                             Albania  4,341.63  6,486.66   \n",
       "2           12                             Algeria       ...       ...   \n",
       "3           24                              Angola       ...       ...   \n",
       "4           28                 Antigua and Barbuda    388.63       ...   \n",
       "..         ...                                 ...       ...       ...   \n",
       "186        862  Venezuela (Bolivarian Republic of)       ...       ...   \n",
       "187        704                            Viet Nam       ...       ...   \n",
       "188        887                               Yemen       ...       ...   \n",
       "189        894                              Zambia       ...       ...   \n",
       "190        716                            Zimbabwe       ...       ...   \n",
       "\n",
       "         1992      1993       1994       1995      1996      1997  ...  \\\n",
       "0         ...       ...        ...        ...       ...       ...  ...   \n",
       "1    4,581.28  4,588.00   4,906.36   4,883.76  4,998.58  5,107.07  ...   \n",
       "2         ...       ...  91,758.00        ...       ...       ...  ...   \n",
       "3         ...       ...        ...        ...       ...       ...  ...   \n",
       "4         ...       ...        ...        ...       ...       ...  ...   \n",
       "..        ...       ...        ...        ...       ...       ...  ...   \n",
       "186       ...       ...        ...        ...       ...       ...  ...   \n",
       "187       ...       ...  84,454.06        ...       ...       ...  ...   \n",
       "188       ...       ...        ...  17,870.11       ...       ...  ...   \n",
       "189       ...       ...  32,770.07        ...       ...       ...  ...   \n",
       "190       ...       ...  27,594.22        ...       ...       ...  ...   \n",
       "\n",
       "            2013 2014 2015 2016 2017 2018 Latest Year  \\\n",
       "0      43,377.00  ...  ...  ...  ...  ...        2013   \n",
       "1            ...  ...  ...  ...  ...  ...        2009   \n",
       "2            ...  ...  ...  ...  ...  ...        2000   \n",
       "3            ...  ...  ...  ...  ...  ...        2005   \n",
       "4            ...  ...  ...  ...  ...  ...        2000   \n",
       "..           ...  ...  ...  ...  ...  ...         ...   \n",
       "186          ...  ...  ...  ...  ...  ...        1999   \n",
       "187  2,78,441.86  ...  ...  ...  ...  ...        2013   \n",
       "188          ...  ...  ...  ...  ...  ...        2012   \n",
       "189          ...  ...  ...  ...  ...  ...        2000   \n",
       "190          ...  ...  ...  ...  ...  ...        2006   \n",
       "\n",
       "    1000 t of\\n CO₂ equivalent      % kg of CO₂ equivalent  \n",
       "0                     43377.00    ...                 1.34  \n",
       "1                      8125.70  87.16                 2.73  \n",
       "2                    111022.59    ...                 3.58  \n",
       "3                     61610.76    ...                 3.17  \n",
       "4                       597.75  53.81                 7.86  \n",
       "..                         ...    ...                  ...  \n",
       "186                  192192.24    ...                 8.10  \n",
       "187                  278441.86    ...                 3.07  \n",
       "188                   37942.87    ...                 1.55  \n",
       "189                   14404.70    ...                 1.38  \n",
       "190                   21184.72    ...                 1.74  \n",
       "\n",
       "[191 rows x 35 columns]"
      ],
      "text/html": "<div>\n<style scoped>\n    .dataframe tbody tr th:only-of-type {\n        vertical-align: middle;\n    }\n\n    .dataframe tbody tr th {\n        vertical-align: top;\n    }\n\n    .dataframe thead th {\n        text-align: right;\n    }\n</style>\n<table border=\"1\" class=\"dataframe\">\n  <thead>\n    <tr style=\"text-align: right;\">\n      <th></th>\n      <th>CountryID</th>\n      <th>Countries or areas</th>\n      <th>1990</th>\n      <th>1991</th>\n      <th>1992</th>\n      <th>1993</th>\n      <th>1994</th>\n      <th>1995</th>\n      <th>1996</th>\n      <th>1997</th>\n      <th>...</th>\n      <th>2013</th>\n      <th>2014</th>\n      <th>2015</th>\n      <th>2016</th>\n      <th>2017</th>\n      <th>2018</th>\n      <th>Latest Year</th>\n      <th>1000 t of\\n CO₂ equivalent</th>\n      <th>%</th>\n      <th>kg of CO₂ equivalent</th>\n    </tr>\n  </thead>\n  <tbody>\n    <tr>\n      <th>0</th>\n      <td>4</td>\n      <td>Afghanistan</td>\n      <td>...</td>\n      <td>...</td>\n      <td>...</td>\n      <td>...</td>\n      <td>...</td>\n      <td>...</td>\n      <td>...</td>\n      <td>...</td>\n      <td>...</td>\n      <td>43,377.00</td>\n      <td>...</td>\n      <td>...</td>\n      <td>...</td>\n      <td>...</td>\n      <td>...</td>\n      <td>2013</td>\n      <td>43377.00</td>\n      <td>...</td>\n      <td>1.34</td>\n    </tr>\n    <tr>\n      <th>1</th>\n      <td>8</td>\n      <td>Albania</td>\n      <td>4,341.63</td>\n      <td>6,486.66</td>\n      <td>4,581.28</td>\n      <td>4,588.00</td>\n      <td>4,906.36</td>\n      <td>4,883.76</td>\n      <td>4,998.58</td>\n      <td>5,107.07</td>\n      <td>...</td>\n      <td>...</td>\n      <td>...</td>\n      <td>...</td>\n      <td>...</td>\n      <td>...</td>\n      <td>...</td>\n      <td>2009</td>\n      <td>8125.70</td>\n      <td>87.16</td>\n      <td>2.73</td>\n    </tr>\n    <tr>\n      <th>2</th>\n      <td>12</td>\n      <td>Algeria</td>\n      <td>...</td>\n      <td>...</td>\n      <td>...</td>\n      <td>...</td>\n      <td>91,758.00</td>\n      <td>...</td>\n      <td>...</td>\n      <td>...</td>\n      <td>...</td>\n      <td>...</td>\n      <td>...</td>\n      <td>...</td>\n      <td>...</td>\n      <td>...</td>\n      <td>...</td>\n      <td>2000</td>\n      <td>111022.59</td>\n      <td>...</td>\n      <td>3.58</td>\n    </tr>\n    <tr>\n      <th>3</th>\n      <td>24</td>\n      <td>Angola</td>\n      <td>...</td>\n      <td>...</td>\n      <td>...</td>\n      <td>...</td>\n      <td>...</td>\n      <td>...</td>\n      <td>...</td>\n      <td>...</td>\n      <td>...</td>\n      <td>...</td>\n      <td>...</td>\n      <td>...</td>\n      <td>...</td>\n      <td>...</td>\n      <td>...</td>\n      <td>2005</td>\n      <td>61610.76</td>\n      <td>...</td>\n      <td>3.17</td>\n    </tr>\n    <tr>\n      <th>4</th>\n      <td>28</td>\n      <td>Antigua and Barbuda</td>\n      <td>388.63</td>\n      <td>...</td>\n      <td>...</td>\n      <td>...</td>\n      <td>...</td>\n      <td>...</td>\n      <td>...</td>\n      <td>...</td>\n      <td>...</td>\n      <td>...</td>\n      <td>...</td>\n      <td>...</td>\n      <td>...</td>\n      <td>...</td>\n      <td>...</td>\n      <td>2000</td>\n      <td>597.75</td>\n      <td>53.81</td>\n      <td>7.86</td>\n    </tr>\n    <tr>\n      <th>...</th>\n      <td>...</td>\n      <td>...</td>\n      <td>...</td>\n      <td>...</td>\n      <td>...</td>\n      <td>...</td>\n      <td>...</td>\n      <td>...</td>\n      <td>...</td>\n      <td>...</td>\n      <td>...</td>\n      <td>...</td>\n      <td>...</td>\n      <td>...</td>\n      <td>...</td>\n      <td>...</td>\n      <td>...</td>\n      <td>...</td>\n      <td>...</td>\n      <td>...</td>\n      <td>...</td>\n    </tr>\n    <tr>\n      <th>186</th>\n      <td>862</td>\n      <td>Venezuela (Bolivarian Republic of)</td>\n      <td>...</td>\n      <td>...</td>\n      <td>...</td>\n      <td>...</td>\n      <td>...</td>\n      <td>...</td>\n      <td>...</td>\n      <td>...</td>\n      <td>...</td>\n      <td>...</td>\n      <td>...</td>\n      <td>...</td>\n      <td>...</td>\n      <td>...</td>\n      <td>...</td>\n      <td>1999</td>\n      <td>192192.24</td>\n      <td>...</td>\n      <td>8.10</td>\n    </tr>\n    <tr>\n      <th>187</th>\n      <td>704</td>\n      <td>Viet Nam</td>\n      <td>...</td>\n      <td>...</td>\n      <td>...</td>\n      <td>...</td>\n      <td>84,454.06</td>\n      <td>...</td>\n      <td>...</td>\n      <td>...</td>\n      <td>...</td>\n      <td>2,78,441.86</td>\n      <td>...</td>\n      <td>...</td>\n      <td>...</td>\n      <td>...</td>\n      <td>...</td>\n      <td>2013</td>\n      <td>278441.86</td>\n      <td>...</td>\n      <td>3.07</td>\n    </tr>\n    <tr>\n      <th>188</th>\n      <td>887</td>\n      <td>Yemen</td>\n      <td>...</td>\n      <td>...</td>\n      <td>...</td>\n      <td>...</td>\n      <td>...</td>\n      <td>17,870.11</td>\n      <td>...</td>\n      <td>...</td>\n      <td>...</td>\n      <td>...</td>\n      <td>...</td>\n      <td>...</td>\n      <td>...</td>\n      <td>...</td>\n      <td>...</td>\n      <td>2012</td>\n      <td>37942.87</td>\n      <td>...</td>\n      <td>1.55</td>\n    </tr>\n    <tr>\n      <th>189</th>\n      <td>894</td>\n      <td>Zambia</td>\n      <td>...</td>\n      <td>...</td>\n      <td>...</td>\n      <td>...</td>\n      <td>32,770.07</td>\n      <td>...</td>\n      <td>...</td>\n      <td>...</td>\n      <td>...</td>\n      <td>...</td>\n      <td>...</td>\n      <td>...</td>\n      <td>...</td>\n      <td>...</td>\n      <td>...</td>\n      <td>2000</td>\n      <td>14404.70</td>\n      <td>...</td>\n      <td>1.38</td>\n    </tr>\n    <tr>\n      <th>190</th>\n      <td>716</td>\n      <td>Zimbabwe</td>\n      <td>...</td>\n      <td>...</td>\n      <td>...</td>\n      <td>...</td>\n      <td>27,594.22</td>\n      <td>...</td>\n      <td>...</td>\n      <td>...</td>\n      <td>...</td>\n      <td>...</td>\n      <td>...</td>\n      <td>...</td>\n      <td>...</td>\n      <td>...</td>\n      <td>...</td>\n      <td>2006</td>\n      <td>21184.72</td>\n      <td>...</td>\n      <td>1.74</td>\n    </tr>\n  </tbody>\n</table>\n<p>191 rows × 35 columns</p>\n</div>"
     },
     "metadata": {},
     "execution_count": 35
    }
   ],
   "source": [
    "ghg_df.rename(columns={\"Unnamed: 0\": \"CountryID\", \"Unnamed: 1\": \"Countries or areas\"}, inplace=True)\n",
    "ghg_df"
   ]
  },
  {
   "cell_type": "code",
   "execution_count": null,
   "metadata": {},
   "outputs": [],
   "source": [
    "ghg_df.dtypes"
   ]
  },
  {
   "cell_type": "code",
   "execution_count": 36,
   "metadata": {},
   "outputs": [
    {
     "output_type": "execute_result",
     "data": {
      "text/plain": [
       "     CountryID                  Countries or areas      1990      1991  \\\n",
       "0            4                         Afghanistan       ...       ...   \n",
       "1            8                             Albania  4,341.63  6,486.66   \n",
       "2           12                             Algeria       ...       ...   \n",
       "3           24                              Angola       ...       ...   \n",
       "4           28                 Antigua and Barbuda    388.63       ...   \n",
       "..         ...                                 ...       ...       ...   \n",
       "186        862  Venezuela (Bolivarian Republic of)       ...       ...   \n",
       "187        704                            Viet Nam       ...       ...   \n",
       "188        887                               Yemen       ...       ...   \n",
       "189        894                              Zambia       ...       ...   \n",
       "190        716                            Zimbabwe       ...       ...   \n",
       "\n",
       "         1992      1993       1994       1995      1996      1997  ...  \\\n",
       "0         ...       ...        ...        ...       ...       ...  ...   \n",
       "1    4,581.28  4,588.00   4,906.36   4,883.76  4,998.58  5,107.07  ...   \n",
       "2         ...       ...  91,758.00        ...       ...       ...  ...   \n",
       "3         ...       ...        ...        ...       ...       ...  ...   \n",
       "4         ...       ...        ...        ...       ...       ...  ...   \n",
       "..        ...       ...        ...        ...       ...       ...  ...   \n",
       "186       ...       ...        ...        ...       ...       ...  ...   \n",
       "187       ...       ...  84,454.06        ...       ...       ...  ...   \n",
       "188       ...       ...        ...  17,870.11       ...       ...  ...   \n",
       "189       ...       ...  32,770.07        ...       ...       ...  ...   \n",
       "190       ...       ...  27,594.22        ...       ...       ...  ...   \n",
       "\n",
       "            2010 2011       2012         2013 2014 2015 2016 2017 2018      %  \n",
       "0            ...  ...        ...    43,377.00  ...  ...  ...  ...  ...    ...  \n",
       "1            ...  ...        ...          ...  ...  ...  ...  ...  ...  87.16  \n",
       "2            ...  ...        ...          ...  ...  ...  ...  ...  ...    ...  \n",
       "3            ...  ...        ...          ...  ...  ...  ...  ...  ...    ...  \n",
       "4            ...  ...        ...          ...  ...  ...  ...  ...  ...  53.81  \n",
       "..           ...  ...        ...          ...  ...  ...  ...  ...  ...    ...  \n",
       "186          ...  ...        ...          ...  ...  ...  ...  ...  ...    ...  \n",
       "187  2,66,049.23  ...        ...  2,78,441.86  ...  ...  ...  ...  ...    ...  \n",
       "188    34,139.25  ...  37,942.87          ...  ...  ...  ...  ...  ...    ...  \n",
       "189          ...  ...        ...          ...  ...  ...  ...  ...  ...    ...  \n",
       "190          ...  ...        ...          ...  ...  ...  ...  ...  ...    ...  \n",
       "\n",
       "[191 rows x 32 columns]"
      ],
      "text/html": "<div>\n<style scoped>\n    .dataframe tbody tr th:only-of-type {\n        vertical-align: middle;\n    }\n\n    .dataframe tbody tr th {\n        vertical-align: top;\n    }\n\n    .dataframe thead th {\n        text-align: right;\n    }\n</style>\n<table border=\"1\" class=\"dataframe\">\n  <thead>\n    <tr style=\"text-align: right;\">\n      <th></th>\n      <th>CountryID</th>\n      <th>Countries or areas</th>\n      <th>1990</th>\n      <th>1991</th>\n      <th>1992</th>\n      <th>1993</th>\n      <th>1994</th>\n      <th>1995</th>\n      <th>1996</th>\n      <th>1997</th>\n      <th>...</th>\n      <th>2010</th>\n      <th>2011</th>\n      <th>2012</th>\n      <th>2013</th>\n      <th>2014</th>\n      <th>2015</th>\n      <th>2016</th>\n      <th>2017</th>\n      <th>2018</th>\n      <th>%</th>\n    </tr>\n  </thead>\n  <tbody>\n    <tr>\n      <th>0</th>\n      <td>4</td>\n      <td>Afghanistan</td>\n      <td>...</td>\n      <td>...</td>\n      <td>...</td>\n      <td>...</td>\n      <td>...</td>\n      <td>...</td>\n      <td>...</td>\n      <td>...</td>\n      <td>...</td>\n      <td>...</td>\n      <td>...</td>\n      <td>...</td>\n      <td>43,377.00</td>\n      <td>...</td>\n      <td>...</td>\n      <td>...</td>\n      <td>...</td>\n      <td>...</td>\n      <td>...</td>\n    </tr>\n    <tr>\n      <th>1</th>\n      <td>8</td>\n      <td>Albania</td>\n      <td>4,341.63</td>\n      <td>6,486.66</td>\n      <td>4,581.28</td>\n      <td>4,588.00</td>\n      <td>4,906.36</td>\n      <td>4,883.76</td>\n      <td>4,998.58</td>\n      <td>5,107.07</td>\n      <td>...</td>\n      <td>...</td>\n      <td>...</td>\n      <td>...</td>\n      <td>...</td>\n      <td>...</td>\n      <td>...</td>\n      <td>...</td>\n      <td>...</td>\n      <td>...</td>\n      <td>87.16</td>\n    </tr>\n    <tr>\n      <th>2</th>\n      <td>12</td>\n      <td>Algeria</td>\n      <td>...</td>\n      <td>...</td>\n      <td>...</td>\n      <td>...</td>\n      <td>91,758.00</td>\n      <td>...</td>\n      <td>...</td>\n      <td>...</td>\n      <td>...</td>\n      <td>...</td>\n      <td>...</td>\n      <td>...</td>\n      <td>...</td>\n      <td>...</td>\n      <td>...</td>\n      <td>...</td>\n      <td>...</td>\n      <td>...</td>\n      <td>...</td>\n    </tr>\n    <tr>\n      <th>3</th>\n      <td>24</td>\n      <td>Angola</td>\n      <td>...</td>\n      <td>...</td>\n      <td>...</td>\n      <td>...</td>\n      <td>...</td>\n      <td>...</td>\n      <td>...</td>\n      <td>...</td>\n      <td>...</td>\n      <td>...</td>\n      <td>...</td>\n      <td>...</td>\n      <td>...</td>\n      <td>...</td>\n      <td>...</td>\n      <td>...</td>\n      <td>...</td>\n      <td>...</td>\n      <td>...</td>\n    </tr>\n    <tr>\n      <th>4</th>\n      <td>28</td>\n      <td>Antigua and Barbuda</td>\n      <td>388.63</td>\n      <td>...</td>\n      <td>...</td>\n      <td>...</td>\n      <td>...</td>\n      <td>...</td>\n      <td>...</td>\n      <td>...</td>\n      <td>...</td>\n      <td>...</td>\n      <td>...</td>\n      <td>...</td>\n      <td>...</td>\n      <td>...</td>\n      <td>...</td>\n      <td>...</td>\n      <td>...</td>\n      <td>...</td>\n      <td>53.81</td>\n    </tr>\n    <tr>\n      <th>...</th>\n      <td>...</td>\n      <td>...</td>\n      <td>...</td>\n      <td>...</td>\n      <td>...</td>\n      <td>...</td>\n      <td>...</td>\n      <td>...</td>\n      <td>...</td>\n      <td>...</td>\n      <td>...</td>\n      <td>...</td>\n      <td>...</td>\n      <td>...</td>\n      <td>...</td>\n      <td>...</td>\n      <td>...</td>\n      <td>...</td>\n      <td>...</td>\n      <td>...</td>\n      <td>...</td>\n    </tr>\n    <tr>\n      <th>186</th>\n      <td>862</td>\n      <td>Venezuela (Bolivarian Republic of)</td>\n      <td>...</td>\n      <td>...</td>\n      <td>...</td>\n      <td>...</td>\n      <td>...</td>\n      <td>...</td>\n      <td>...</td>\n      <td>...</td>\n      <td>...</td>\n      <td>...</td>\n      <td>...</td>\n      <td>...</td>\n      <td>...</td>\n      <td>...</td>\n      <td>...</td>\n      <td>...</td>\n      <td>...</td>\n      <td>...</td>\n      <td>...</td>\n    </tr>\n    <tr>\n      <th>187</th>\n      <td>704</td>\n      <td>Viet Nam</td>\n      <td>...</td>\n      <td>...</td>\n      <td>...</td>\n      <td>...</td>\n      <td>84,454.06</td>\n      <td>...</td>\n      <td>...</td>\n      <td>...</td>\n      <td>...</td>\n      <td>2,66,049.23</td>\n      <td>...</td>\n      <td>...</td>\n      <td>2,78,441.86</td>\n      <td>...</td>\n      <td>...</td>\n      <td>...</td>\n      <td>...</td>\n      <td>...</td>\n      <td>...</td>\n    </tr>\n    <tr>\n      <th>188</th>\n      <td>887</td>\n      <td>Yemen</td>\n      <td>...</td>\n      <td>...</td>\n      <td>...</td>\n      <td>...</td>\n      <td>...</td>\n      <td>17,870.11</td>\n      <td>...</td>\n      <td>...</td>\n      <td>...</td>\n      <td>34,139.25</td>\n      <td>...</td>\n      <td>37,942.87</td>\n      <td>...</td>\n      <td>...</td>\n      <td>...</td>\n      <td>...</td>\n      <td>...</td>\n      <td>...</td>\n      <td>...</td>\n    </tr>\n    <tr>\n      <th>189</th>\n      <td>894</td>\n      <td>Zambia</td>\n      <td>...</td>\n      <td>...</td>\n      <td>...</td>\n      <td>...</td>\n      <td>32,770.07</td>\n      <td>...</td>\n      <td>...</td>\n      <td>...</td>\n      <td>...</td>\n      <td>...</td>\n      <td>...</td>\n      <td>...</td>\n      <td>...</td>\n      <td>...</td>\n      <td>...</td>\n      <td>...</td>\n      <td>...</td>\n      <td>...</td>\n      <td>...</td>\n    </tr>\n    <tr>\n      <th>190</th>\n      <td>716</td>\n      <td>Zimbabwe</td>\n      <td>...</td>\n      <td>...</td>\n      <td>...</td>\n      <td>...</td>\n      <td>27,594.22</td>\n      <td>...</td>\n      <td>...</td>\n      <td>...</td>\n      <td>...</td>\n      <td>...</td>\n      <td>...</td>\n      <td>...</td>\n      <td>...</td>\n      <td>...</td>\n      <td>...</td>\n      <td>...</td>\n      <td>...</td>\n      <td>...</td>\n      <td>...</td>\n    </tr>\n  </tbody>\n</table>\n<p>191 rows × 32 columns</p>\n</div>"
     },
     "metadata": {},
     "execution_count": 36
    }
   ],
   "source": [
    "# Drop Latest Year, 1000 1, and kg Columns \n",
    "del ghg_df[\"Latest Year\"]\n",
    "del ghg_df[\"1000 t of\\n CO₂ equivalent\"]\n",
    "del ghg_df[\"kg of CO₂ equivalent\"]\n",
    "ghg_df"
   ]
  },
  {
   "cell_type": "code",
   "execution_count": 37,
   "metadata": {},
   "outputs": [
    {
     "output_type": "execute_result",
     "data": {
      "text/plain": [
       "     CountryID                  Countries or areas      1990      1991  \\\n",
       "0            4                         Afghanistan       ...       ...   \n",
       "1            8                             Albania  4,341.63  6,486.66   \n",
       "2           12                             Algeria       ...       ...   \n",
       "3           24                              Angola       ...       ...   \n",
       "4           28                 Antigua and Barbuda    388.63       ...   \n",
       "..         ...                                 ...       ...       ...   \n",
       "186        862  Venezuela (Bolivarian Republic of)       ...       ...   \n",
       "187        704                            Viet Nam       ...       ...   \n",
       "188        887                               Yemen       ...       ...   \n",
       "189        894                              Zambia       ...       ...   \n",
       "190        716                            Zimbabwe       ...       ...   \n",
       "\n",
       "         1992      1993       1994       1995      1996      1997  ...  \\\n",
       "0         ...       ...        ...        ...       ...       ...  ...   \n",
       "1    4,581.28  4,588.00   4,906.36   4,883.76  4,998.58  5,107.07  ...   \n",
       "2         ...       ...  91,758.00        ...       ...       ...  ...   \n",
       "3         ...       ...        ...        ...       ...       ...  ...   \n",
       "4         ...       ...        ...        ...       ...       ...  ...   \n",
       "..        ...       ...        ...        ...       ...       ...  ...   \n",
       "186       ...       ...        ...        ...       ...       ...  ...   \n",
       "187       ...       ...  84,454.06        ...       ...       ...  ...   \n",
       "188       ...       ...        ...  17,870.11       ...       ...  ...   \n",
       "189       ...       ...  32,770.07        ...       ...       ...  ...   \n",
       "190       ...       ...  27,594.22        ...       ...       ...  ...   \n",
       "\n",
       "            2010 2011       2012         2013 2014 2015 2016 2017 2018  \\\n",
       "0            ...  ...        ...    43,377.00  ...  ...  ...  ...  ...   \n",
       "1            ...  ...        ...          ...  ...  ...  ...  ...  ...   \n",
       "2            ...  ...        ...          ...  ...  ...  ...  ...  ...   \n",
       "3            ...  ...        ...          ...  ...  ...  ...  ...  ...   \n",
       "4            ...  ...        ...          ...  ...  ...  ...  ...  ...   \n",
       "..           ...  ...        ...          ...  ...  ...  ...  ...  ...   \n",
       "186          ...  ...        ...          ...  ...  ...  ...  ...  ...   \n",
       "187  2,66,049.23  ...        ...  2,78,441.86  ...  ...  ...  ...  ...   \n",
       "188    34,139.25  ...  37,942.87          ...  ...  ...  ...  ...  ...   \n",
       "189          ...  ...        ...          ...  ...  ...  ...  ...  ...   \n",
       "190          ...  ...        ...          ...  ...  ...  ...  ...  ...   \n",
       "\n",
       "    Percent Change  \n",
       "0              ...  \n",
       "1            87.16  \n",
       "2              ...  \n",
       "3              ...  \n",
       "4            53.81  \n",
       "..             ...  \n",
       "186            ...  \n",
       "187            ...  \n",
       "188            ...  \n",
       "189            ...  \n",
       "190            ...  \n",
       "\n",
       "[191 rows x 32 columns]"
      ],
      "text/html": "<div>\n<style scoped>\n    .dataframe tbody tr th:only-of-type {\n        vertical-align: middle;\n    }\n\n    .dataframe tbody tr th {\n        vertical-align: top;\n    }\n\n    .dataframe thead th {\n        text-align: right;\n    }\n</style>\n<table border=\"1\" class=\"dataframe\">\n  <thead>\n    <tr style=\"text-align: right;\">\n      <th></th>\n      <th>CountryID</th>\n      <th>Countries or areas</th>\n      <th>1990</th>\n      <th>1991</th>\n      <th>1992</th>\n      <th>1993</th>\n      <th>1994</th>\n      <th>1995</th>\n      <th>1996</th>\n      <th>1997</th>\n      <th>...</th>\n      <th>2010</th>\n      <th>2011</th>\n      <th>2012</th>\n      <th>2013</th>\n      <th>2014</th>\n      <th>2015</th>\n      <th>2016</th>\n      <th>2017</th>\n      <th>2018</th>\n      <th>Percent Change</th>\n    </tr>\n  </thead>\n  <tbody>\n    <tr>\n      <th>0</th>\n      <td>4</td>\n      <td>Afghanistan</td>\n      <td>...</td>\n      <td>...</td>\n      <td>...</td>\n      <td>...</td>\n      <td>...</td>\n      <td>...</td>\n      <td>...</td>\n      <td>...</td>\n      <td>...</td>\n      <td>...</td>\n      <td>...</td>\n      <td>...</td>\n      <td>43,377.00</td>\n      <td>...</td>\n      <td>...</td>\n      <td>...</td>\n      <td>...</td>\n      <td>...</td>\n      <td>...</td>\n    </tr>\n    <tr>\n      <th>1</th>\n      <td>8</td>\n      <td>Albania</td>\n      <td>4,341.63</td>\n      <td>6,486.66</td>\n      <td>4,581.28</td>\n      <td>4,588.00</td>\n      <td>4,906.36</td>\n      <td>4,883.76</td>\n      <td>4,998.58</td>\n      <td>5,107.07</td>\n      <td>...</td>\n      <td>...</td>\n      <td>...</td>\n      <td>...</td>\n      <td>...</td>\n      <td>...</td>\n      <td>...</td>\n      <td>...</td>\n      <td>...</td>\n      <td>...</td>\n      <td>87.16</td>\n    </tr>\n    <tr>\n      <th>2</th>\n      <td>12</td>\n      <td>Algeria</td>\n      <td>...</td>\n      <td>...</td>\n      <td>...</td>\n      <td>...</td>\n      <td>91,758.00</td>\n      <td>...</td>\n      <td>...</td>\n      <td>...</td>\n      <td>...</td>\n      <td>...</td>\n      <td>...</td>\n      <td>...</td>\n      <td>...</td>\n      <td>...</td>\n      <td>...</td>\n      <td>...</td>\n      <td>...</td>\n      <td>...</td>\n      <td>...</td>\n    </tr>\n    <tr>\n      <th>3</th>\n      <td>24</td>\n      <td>Angola</td>\n      <td>...</td>\n      <td>...</td>\n      <td>...</td>\n      <td>...</td>\n      <td>...</td>\n      <td>...</td>\n      <td>...</td>\n      <td>...</td>\n      <td>...</td>\n      <td>...</td>\n      <td>...</td>\n      <td>...</td>\n      <td>...</td>\n      <td>...</td>\n      <td>...</td>\n      <td>...</td>\n      <td>...</td>\n      <td>...</td>\n      <td>...</td>\n    </tr>\n    <tr>\n      <th>4</th>\n      <td>28</td>\n      <td>Antigua and Barbuda</td>\n      <td>388.63</td>\n      <td>...</td>\n      <td>...</td>\n      <td>...</td>\n      <td>...</td>\n      <td>...</td>\n      <td>...</td>\n      <td>...</td>\n      <td>...</td>\n      <td>...</td>\n      <td>...</td>\n      <td>...</td>\n      <td>...</td>\n      <td>...</td>\n      <td>...</td>\n      <td>...</td>\n      <td>...</td>\n      <td>...</td>\n      <td>53.81</td>\n    </tr>\n    <tr>\n      <th>...</th>\n      <td>...</td>\n      <td>...</td>\n      <td>...</td>\n      <td>...</td>\n      <td>...</td>\n      <td>...</td>\n      <td>...</td>\n      <td>...</td>\n      <td>...</td>\n      <td>...</td>\n      <td>...</td>\n      <td>...</td>\n      <td>...</td>\n      <td>...</td>\n      <td>...</td>\n      <td>...</td>\n      <td>...</td>\n      <td>...</td>\n      <td>...</td>\n      <td>...</td>\n      <td>...</td>\n    </tr>\n    <tr>\n      <th>186</th>\n      <td>862</td>\n      <td>Venezuela (Bolivarian Republic of)</td>\n      <td>...</td>\n      <td>...</td>\n      <td>...</td>\n      <td>...</td>\n      <td>...</td>\n      <td>...</td>\n      <td>...</td>\n      <td>...</td>\n      <td>...</td>\n      <td>...</td>\n      <td>...</td>\n      <td>...</td>\n      <td>...</td>\n      <td>...</td>\n      <td>...</td>\n      <td>...</td>\n      <td>...</td>\n      <td>...</td>\n      <td>...</td>\n    </tr>\n    <tr>\n      <th>187</th>\n      <td>704</td>\n      <td>Viet Nam</td>\n      <td>...</td>\n      <td>...</td>\n      <td>...</td>\n      <td>...</td>\n      <td>84,454.06</td>\n      <td>...</td>\n      <td>...</td>\n      <td>...</td>\n      <td>...</td>\n      <td>2,66,049.23</td>\n      <td>...</td>\n      <td>...</td>\n      <td>2,78,441.86</td>\n      <td>...</td>\n      <td>...</td>\n      <td>...</td>\n      <td>...</td>\n      <td>...</td>\n      <td>...</td>\n    </tr>\n    <tr>\n      <th>188</th>\n      <td>887</td>\n      <td>Yemen</td>\n      <td>...</td>\n      <td>...</td>\n      <td>...</td>\n      <td>...</td>\n      <td>...</td>\n      <td>17,870.11</td>\n      <td>...</td>\n      <td>...</td>\n      <td>...</td>\n      <td>34,139.25</td>\n      <td>...</td>\n      <td>37,942.87</td>\n      <td>...</td>\n      <td>...</td>\n      <td>...</td>\n      <td>...</td>\n      <td>...</td>\n      <td>...</td>\n      <td>...</td>\n    </tr>\n    <tr>\n      <th>189</th>\n      <td>894</td>\n      <td>Zambia</td>\n      <td>...</td>\n      <td>...</td>\n      <td>...</td>\n      <td>...</td>\n      <td>32,770.07</td>\n      <td>...</td>\n      <td>...</td>\n      <td>...</td>\n      <td>...</td>\n      <td>...</td>\n      <td>...</td>\n      <td>...</td>\n      <td>...</td>\n      <td>...</td>\n      <td>...</td>\n      <td>...</td>\n      <td>...</td>\n      <td>...</td>\n      <td>...</td>\n    </tr>\n    <tr>\n      <th>190</th>\n      <td>716</td>\n      <td>Zimbabwe</td>\n      <td>...</td>\n      <td>...</td>\n      <td>...</td>\n      <td>...</td>\n      <td>27,594.22</td>\n      <td>...</td>\n      <td>...</td>\n      <td>...</td>\n      <td>...</td>\n      <td>...</td>\n      <td>...</td>\n      <td>...</td>\n      <td>...</td>\n      <td>...</td>\n      <td>...</td>\n      <td>...</td>\n      <td>...</td>\n      <td>...</td>\n      <td>...</td>\n    </tr>\n  </tbody>\n</table>\n<p>191 rows × 32 columns</p>\n</div>"
     },
     "metadata": {},
     "execution_count": 37
    }
   ],
   "source": [
    "# Rename % column\n",
    "ghg_df.rename(columns={\"%\": \"Percent Change\"})"
   ]
  },
  {
   "cell_type": "code",
   "execution_count": 41,
   "metadata": {},
   "outputs": [],
   "source": [
    "# GHG unpivoted\n",
    "\n",
    "ghg_df_unpivot = ghg_df.melt(id_vars=['CountryID', 'Countries or areas', 'Latest Year', '1000 t of\\n CO₂ equivalent', '%', 'kg of CO₂ equivalent'], var_name='Year', value_name = 'GHG emissions per 1000t')"
   ]
  },
  {
   "cell_type": "code",
   "execution_count": 42,
   "metadata": {},
   "outputs": [
    {
     "output_type": "execute_result",
     "data": {
      "text/plain": [
       "      CountryID                  Countries or areas  Latest Year  \\\n",
       "0             4                         Afghanistan         2013   \n",
       "1             8                             Albania         2009   \n",
       "2            12                             Algeria         2000   \n",
       "3            24                              Angola         2005   \n",
       "4            28                 Antigua and Barbuda         2000   \n",
       "...         ...                                 ...          ...   \n",
       "5534        862  Venezuela (Bolivarian Republic of)         1999   \n",
       "5535        704                            Viet Nam         2013   \n",
       "5536        887                               Yemen         2012   \n",
       "5537        894                              Zambia         2000   \n",
       "5538        716                            Zimbabwe         2006   \n",
       "\n",
       "      1000 t of\\n CO₂ equivalent      %  kg of CO₂ equivalent  Year  \\\n",
       "0                       43377.00    ...                  1.34  1990   \n",
       "1                        8125.70  87.16                  2.73  1990   \n",
       "2                      111022.59    ...                  3.58  1990   \n",
       "3                       61610.76    ...                  3.17  1990   \n",
       "4                         597.75  53.81                  7.86  1990   \n",
       "...                          ...    ...                   ...   ...   \n",
       "5534                   192192.24    ...                  8.10  2018   \n",
       "5535                   278441.86    ...                  3.07  2018   \n",
       "5536                    37942.87    ...                  1.55  2018   \n",
       "5537                    14404.70    ...                  1.38  2018   \n",
       "5538                    21184.72    ...                  1.74  2018   \n",
       "\n",
       "     GHG emissions per 1000t  \n",
       "0                        ...  \n",
       "1                   4,341.63  \n",
       "2                        ...  \n",
       "3                        ...  \n",
       "4                     388.63  \n",
       "...                      ...  \n",
       "5534                     ...  \n",
       "5535                     ...  \n",
       "5536                     ...  \n",
       "5537                     ...  \n",
       "5538                     ...  \n",
       "\n",
       "[5539 rows x 8 columns]"
      ],
      "text/html": "<div>\n<style scoped>\n    .dataframe tbody tr th:only-of-type {\n        vertical-align: middle;\n    }\n\n    .dataframe tbody tr th {\n        vertical-align: top;\n    }\n\n    .dataframe thead th {\n        text-align: right;\n    }\n</style>\n<table border=\"1\" class=\"dataframe\">\n  <thead>\n    <tr style=\"text-align: right;\">\n      <th></th>\n      <th>CountryID</th>\n      <th>Countries or areas</th>\n      <th>Latest Year</th>\n      <th>1000 t of\\n CO₂ equivalent</th>\n      <th>%</th>\n      <th>kg of CO₂ equivalent</th>\n      <th>Year</th>\n      <th>GHG emissions per 1000t</th>\n    </tr>\n  </thead>\n  <tbody>\n    <tr>\n      <th>0</th>\n      <td>4</td>\n      <td>Afghanistan</td>\n      <td>2013</td>\n      <td>43377.00</td>\n      <td>...</td>\n      <td>1.34</td>\n      <td>1990</td>\n      <td>...</td>\n    </tr>\n    <tr>\n      <th>1</th>\n      <td>8</td>\n      <td>Albania</td>\n      <td>2009</td>\n      <td>8125.70</td>\n      <td>87.16</td>\n      <td>2.73</td>\n      <td>1990</td>\n      <td>4,341.63</td>\n    </tr>\n    <tr>\n      <th>2</th>\n      <td>12</td>\n      <td>Algeria</td>\n      <td>2000</td>\n      <td>111022.59</td>\n      <td>...</td>\n      <td>3.58</td>\n      <td>1990</td>\n      <td>...</td>\n    </tr>\n    <tr>\n      <th>3</th>\n      <td>24</td>\n      <td>Angola</td>\n      <td>2005</td>\n      <td>61610.76</td>\n      <td>...</td>\n      <td>3.17</td>\n      <td>1990</td>\n      <td>...</td>\n    </tr>\n    <tr>\n      <th>4</th>\n      <td>28</td>\n      <td>Antigua and Barbuda</td>\n      <td>2000</td>\n      <td>597.75</td>\n      <td>53.81</td>\n      <td>7.86</td>\n      <td>1990</td>\n      <td>388.63</td>\n    </tr>\n    <tr>\n      <th>...</th>\n      <td>...</td>\n      <td>...</td>\n      <td>...</td>\n      <td>...</td>\n      <td>...</td>\n      <td>...</td>\n      <td>...</td>\n      <td>...</td>\n    </tr>\n    <tr>\n      <th>5534</th>\n      <td>862</td>\n      <td>Venezuela (Bolivarian Republic of)</td>\n      <td>1999</td>\n      <td>192192.24</td>\n      <td>...</td>\n      <td>8.10</td>\n      <td>2018</td>\n      <td>...</td>\n    </tr>\n    <tr>\n      <th>5535</th>\n      <td>704</td>\n      <td>Viet Nam</td>\n      <td>2013</td>\n      <td>278441.86</td>\n      <td>...</td>\n      <td>3.07</td>\n      <td>2018</td>\n      <td>...</td>\n    </tr>\n    <tr>\n      <th>5536</th>\n      <td>887</td>\n      <td>Yemen</td>\n      <td>2012</td>\n      <td>37942.87</td>\n      <td>...</td>\n      <td>1.55</td>\n      <td>2018</td>\n      <td>...</td>\n    </tr>\n    <tr>\n      <th>5537</th>\n      <td>894</td>\n      <td>Zambia</td>\n      <td>2000</td>\n      <td>14404.70</td>\n      <td>...</td>\n      <td>1.38</td>\n      <td>2018</td>\n      <td>...</td>\n    </tr>\n    <tr>\n      <th>5538</th>\n      <td>716</td>\n      <td>Zimbabwe</td>\n      <td>2006</td>\n      <td>21184.72</td>\n      <td>...</td>\n      <td>1.74</td>\n      <td>2018</td>\n      <td>...</td>\n    </tr>\n  </tbody>\n</table>\n<p>5539 rows × 8 columns</p>\n</div>"
     },
     "metadata": {},
     "execution_count": 42
    }
   ],
   "source": [
    "ghg_df_unpivot"
   ]
  },
  {
   "cell_type": "code",
   "execution_count": 44,
   "metadata": {},
   "outputs": [],
   "source": [
    "ghg_df_unpivot.drop(ghg_df_unpivot.iloc[:, 3:6], inplace=True, axis=1)"
   ]
  },
  {
   "cell_type": "code",
   "execution_count": 45,
   "metadata": {},
   "outputs": [
    {
     "output_type": "execute_result",
     "data": {
      "text/plain": [
       "      CountryID                  Countries or areas  Latest Year  Year  \\\n",
       "0             4                         Afghanistan         2013  1990   \n",
       "1             8                             Albania         2009  1990   \n",
       "2            12                             Algeria         2000  1990   \n",
       "3            24                              Angola         2005  1990   \n",
       "4            28                 Antigua and Barbuda         2000  1990   \n",
       "...         ...                                 ...          ...   ...   \n",
       "5534        862  Venezuela (Bolivarian Republic of)         1999  2018   \n",
       "5535        704                            Viet Nam         2013  2018   \n",
       "5536        887                               Yemen         2012  2018   \n",
       "5537        894                              Zambia         2000  2018   \n",
       "5538        716                            Zimbabwe         2006  2018   \n",
       "\n",
       "     GHG emissions per 1000t  \n",
       "0                        ...  \n",
       "1                   4,341.63  \n",
       "2                        ...  \n",
       "3                        ...  \n",
       "4                     388.63  \n",
       "...                      ...  \n",
       "5534                     ...  \n",
       "5535                     ...  \n",
       "5536                     ...  \n",
       "5537                     ...  \n",
       "5538                     ...  \n",
       "\n",
       "[5539 rows x 5 columns]"
      ],
      "text/html": "<div>\n<style scoped>\n    .dataframe tbody tr th:only-of-type {\n        vertical-align: middle;\n    }\n\n    .dataframe tbody tr th {\n        vertical-align: top;\n    }\n\n    .dataframe thead th {\n        text-align: right;\n    }\n</style>\n<table border=\"1\" class=\"dataframe\">\n  <thead>\n    <tr style=\"text-align: right;\">\n      <th></th>\n      <th>CountryID</th>\n      <th>Countries or areas</th>\n      <th>Latest Year</th>\n      <th>Year</th>\n      <th>GHG emissions per 1000t</th>\n    </tr>\n  </thead>\n  <tbody>\n    <tr>\n      <th>0</th>\n      <td>4</td>\n      <td>Afghanistan</td>\n      <td>2013</td>\n      <td>1990</td>\n      <td>...</td>\n    </tr>\n    <tr>\n      <th>1</th>\n      <td>8</td>\n      <td>Albania</td>\n      <td>2009</td>\n      <td>1990</td>\n      <td>4,341.63</td>\n    </tr>\n    <tr>\n      <th>2</th>\n      <td>12</td>\n      <td>Algeria</td>\n      <td>2000</td>\n      <td>1990</td>\n      <td>...</td>\n    </tr>\n    <tr>\n      <th>3</th>\n      <td>24</td>\n      <td>Angola</td>\n      <td>2005</td>\n      <td>1990</td>\n      <td>...</td>\n    </tr>\n    <tr>\n      <th>4</th>\n      <td>28</td>\n      <td>Antigua and Barbuda</td>\n      <td>2000</td>\n      <td>1990</td>\n      <td>388.63</td>\n    </tr>\n    <tr>\n      <th>...</th>\n      <td>...</td>\n      <td>...</td>\n      <td>...</td>\n      <td>...</td>\n      <td>...</td>\n    </tr>\n    <tr>\n      <th>5534</th>\n      <td>862</td>\n      <td>Venezuela (Bolivarian Republic of)</td>\n      <td>1999</td>\n      <td>2018</td>\n      <td>...</td>\n    </tr>\n    <tr>\n      <th>5535</th>\n      <td>704</td>\n      <td>Viet Nam</td>\n      <td>2013</td>\n      <td>2018</td>\n      <td>...</td>\n    </tr>\n    <tr>\n      <th>5536</th>\n      <td>887</td>\n      <td>Yemen</td>\n      <td>2012</td>\n      <td>2018</td>\n      <td>...</td>\n    </tr>\n    <tr>\n      <th>5537</th>\n      <td>894</td>\n      <td>Zambia</td>\n      <td>2000</td>\n      <td>2018</td>\n      <td>...</td>\n    </tr>\n    <tr>\n      <th>5538</th>\n      <td>716</td>\n      <td>Zimbabwe</td>\n      <td>2006</td>\n      <td>2018</td>\n      <td>...</td>\n    </tr>\n  </tbody>\n</table>\n<p>5539 rows × 5 columns</p>\n</div>"
     },
     "metadata": {},
     "execution_count": 45
    }
   ],
   "source": [
    "ghg_df_unpivot"
   ]
  },
  {
   "cell_type": "code",
   "execution_count": 49,
   "metadata": {},
   "outputs": [],
   "source": [
    "ghg_df_unpivot.drop(['Latest Year'], inplace=True, axis=1)"
   ]
  },
  {
   "cell_type": "code",
   "execution_count": 50,
   "metadata": {},
   "outputs": [
    {
     "output_type": "execute_result",
     "data": {
      "text/plain": [
       "      CountryID Countries or areas  Year GHG emissions per 1000t\n",
       "0             4        Afghanistan  1990                     ...\n",
       "2483          4        Afghanistan  2003                     ...\n",
       "955           4        Afghanistan  1995                     ...\n",
       "4584          4        Afghanistan  2014                     ...\n",
       "4393          4        Afghanistan  2013               43,377.00\n",
       "...         ...                ...   ...                     ...\n",
       "5156        716           Zimbabwe  2016                     ...\n",
       "381         716           Zimbabwe  1991                     ...\n",
       "4010        716           Zimbabwe  2010                     ...\n",
       "763         716           Zimbabwe  1993                     ...\n",
       "5538        716           Zimbabwe  2018                     ...\n",
       "\n",
       "[5539 rows x 4 columns]"
      ],
      "text/html": "<div>\n<style scoped>\n    .dataframe tbody tr th:only-of-type {\n        vertical-align: middle;\n    }\n\n    .dataframe tbody tr th {\n        vertical-align: top;\n    }\n\n    .dataframe thead th {\n        text-align: right;\n    }\n</style>\n<table border=\"1\" class=\"dataframe\">\n  <thead>\n    <tr style=\"text-align: right;\">\n      <th></th>\n      <th>CountryID</th>\n      <th>Countries or areas</th>\n      <th>Year</th>\n      <th>GHG emissions per 1000t</th>\n    </tr>\n  </thead>\n  <tbody>\n    <tr>\n      <th>0</th>\n      <td>4</td>\n      <td>Afghanistan</td>\n      <td>1990</td>\n      <td>...</td>\n    </tr>\n    <tr>\n      <th>2483</th>\n      <td>4</td>\n      <td>Afghanistan</td>\n      <td>2003</td>\n      <td>...</td>\n    </tr>\n    <tr>\n      <th>955</th>\n      <td>4</td>\n      <td>Afghanistan</td>\n      <td>1995</td>\n      <td>...</td>\n    </tr>\n    <tr>\n      <th>4584</th>\n      <td>4</td>\n      <td>Afghanistan</td>\n      <td>2014</td>\n      <td>...</td>\n    </tr>\n    <tr>\n      <th>4393</th>\n      <td>4</td>\n      <td>Afghanistan</td>\n      <td>2013</td>\n      <td>43,377.00</td>\n    </tr>\n    <tr>\n      <th>...</th>\n      <td>...</td>\n      <td>...</td>\n      <td>...</td>\n      <td>...</td>\n    </tr>\n    <tr>\n      <th>5156</th>\n      <td>716</td>\n      <td>Zimbabwe</td>\n      <td>2016</td>\n      <td>...</td>\n    </tr>\n    <tr>\n      <th>381</th>\n      <td>716</td>\n      <td>Zimbabwe</td>\n      <td>1991</td>\n      <td>...</td>\n    </tr>\n    <tr>\n      <th>4010</th>\n      <td>716</td>\n      <td>Zimbabwe</td>\n      <td>2010</td>\n      <td>...</td>\n    </tr>\n    <tr>\n      <th>763</th>\n      <td>716</td>\n      <td>Zimbabwe</td>\n      <td>1993</td>\n      <td>...</td>\n    </tr>\n    <tr>\n      <th>5538</th>\n      <td>716</td>\n      <td>Zimbabwe</td>\n      <td>2018</td>\n      <td>...</td>\n    </tr>\n  </tbody>\n</table>\n<p>5539 rows × 4 columns</p>\n</div>"
     },
     "metadata": {},
     "execution_count": 50
    }
   ],
   "source": [
    "ghg_df_unpivot.sort_values(by=['Countries or areas'])"
   ]
  },
  {
   "cell_type": "code",
   "execution_count": null,
   "metadata": {},
   "outputs": [],
   "source": [
    "# Climate disasters unpivoted\n",
    "\n",
    "disasters_df_unpivot = disasters_df.melt(id_vars=['CountryID', 'Countries or areas', 'Latest Year', '1000 t of\\n CO₂ equivalent', '%', 'kg of CO₂ equivalent'], var_name='Year', value_name = 'GHG emissions per 1000t')"
   ]
  }
 ]
}