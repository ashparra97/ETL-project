{
 "metadata": {
  "language_info": {
   "codemirror_mode": {
    "name": "ipython",
    "version": 3
   },
   "file_extension": ".py",
   "mimetype": "text/x-python",
   "name": "python",
   "nbconvert_exporter": "python",
   "pygments_lexer": "ipython3",
   "version": "3.7.9"
  },
  "orig_nbformat": 2,
  "kernelspec": {
   "name": "python379jvsc74a57bd04e16bc90bb1be4fcd3e766e2f5d73f05719f516a7206bf1e9e77281fd34acfc0",
   "display_name": "Python 3.7.9 64-bit ('PythonData': conda)"
  }
 },
 "nbformat": 4,
 "nbformat_minor": 2,
 "cells": [
  {
   "source": [
    "## Cleaned up data for ETL Project"
   ],
   "cell_type": "markdown",
   "metadata": {}
  },
  {
   "cell_type": "code",
   "execution_count": null,
   "metadata": {},
   "outputs": [],
   "source": [
    "import pandas as pd"
   ]
  },
  {
   "cell_type": "code",
   "execution_count": null,
   "metadata": {},
   "outputs": [],
   "source": [
    "#Determing csv paths for each\n",
    "\n",
    "#Climatalogical disasters\n",
    "\n",
    "climate_csv = \"Resources/Climatological disasters.csv\"\n",
    "\n",
    "#Greenhouse Gas Emissions\n",
    "\n",
    "ghg_csv = \"Resources/GHG_Emissions.csv\""
   ]
  },
  {
   "cell_type": "code",
   "execution_count": null,
   "metadata": {},
   "outputs": [],
   "source": [
    "#Read csvs into dataframes\n",
    "\n",
    "disasters_df = pd.read_csv(climate_csv)\n",
    "ghg_df = pd.read_csv(ghg_csv, skiprows=[0])"
   ]
  },
  {
   "cell_type": "code",
   "execution_count": null,
   "metadata": {},
   "outputs": [],
   "source": [
    "disasters_df"
   ]
  },
  {
   "cell_type": "code",
   "execution_count": null,
   "metadata": {},
   "outputs": [],
   "source": [
    "ghg_df"
   ]
  },
  {
   "cell_type": "code",
   "execution_count": null,
   "metadata": {},
   "outputs": [],
   "source": [
    "ghg_df.rename(columns={\"Unnamed: 0\": \"CountryID\", \"Unnamed: 1\": \"Countries or areas\"}, inplace=True)\n",
    "ghg_df"
   ]
  },
  {
   "cell_type": "code",
   "execution_count": null,
   "metadata": {},
   "outputs": [],
   "source": [
    "ghg_df.dtypes"
   ]
  },
  {
   "cell_type": "code",
   "execution_count": null,
   "metadata": {},
   "outputs": [],
   "source": [
    "# Drop Latest Year, 1000 1, and kg Columns \n",
    "del ghg_df[\"Latest Year\"]\n",
    "del ghg_df[\"1000 t of\\n CO₂ equivalent\"]\n",
    "del ghg_df[\"kg of CO₂ equivalent\"]\n",
    "ghg_df"
   ]
  },
  {
   "cell_type": "code",
   "execution_count": null,
   "metadata": {},
   "outputs": [],
   "source": [
    "# Rename % column\n",
    "new_df = ghg_df.rename(columns={\"%\": \"Percent Change\"})"
   ]
  },
  {
   "cell_type": "code",
   "execution_count": null,
   "metadata": {},
   "outputs": [],
   "source": [
    "# GHG unpivoted\n",
    "\n",
    "ghg_df_unpivot = new_df.melt(id_vars=['CountryID', 'Countries or areas', 'Percent Change'], var_name='Year', value_name = 'GHG emissions per 1000t')"
   ]
  },
  {
   "cell_type": "code",
   "execution_count": null,
   "metadata": {},
   "outputs": [],
   "source": [
    "ghg_df_unpivot"
   ]
  },
  {
   "cell_type": "code",
   "execution_count": null,
   "metadata": {},
   "outputs": [],
   "source": [
    "ghg_df_unpivot.sort_values(by=['Countries or areas'])"
   ]
  },
  {
   "cell_type": "code",
   "execution_count": null,
   "metadata": {},
   "outputs": [],
   "source": [
    "# Change \"Year\" column to integer\n",
    "ghg_df_unpivot.dtypes\n",
    "ghg_df_unpivot[\"Year\"] = ghg_df_unpivot[\"Year\"].astype(str).astype(int)\n",
    "ghg_df_unpivot.dtypes"
   ]
  },
  {
   "cell_type": "code",
   "execution_count": null,
   "metadata": {},
   "outputs": [],
   "source": [
    "# Bins for ghg data \n",
    "bins = [1990, 1999, 2009, 2019]\n",
    "\n",
    "decades = [\"1990-1999\", \"2000-2009\", \"2010-2019\"]\n",
    "\n",
    "ghg_df_unpivot[\"Decades\"] = pd.cut(ghg_df_unpivot[\"Year\"], bins, labels=decades, include_lowest=True)\n",
    "ghg_df_unpivot"
   ]
  },
  {
   "cell_type": "code",
   "execution_count": null,
   "metadata": {},
   "outputs": [],
   "source": [
    "# Reorder so that years are next to decades \n",
    "final_ghg_df = ghg_df_unpivot[['CountryID', 'Countries or areas', 'Year', 'Decades', 'GHG emissions per 1000t', 'Percent Change']]\n",
    "final_ghg_df.sort_values(by=['Countries or areas'])"
   ]
  },
  {
   "cell_type": "code",
   "execution_count": null,
   "metadata": {},
   "outputs": [],
   "source": [
    "# Climate disasters unpivoted\n",
    "\n",
    "disasters_df_unpivot = disasters_df.melt(id_vars=['CountryID', 'Countries or areas', 'Latest Year', '1000 t of\\n CO₂ equivalent', '%', 'kg of CO₂ equivalent'], var_name='Year', value_name = 'GHG emissions per 1000t')"
   ]
  },
  {
   "cell_type": "code",
   "execution_count": null,
   "metadata": {},
   "outputs": [],
   "source": []
  }
 ]
}