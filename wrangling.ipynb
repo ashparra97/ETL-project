{
 "metadata": {
  "language_info": {
   "codemirror_mode": {
    "name": "ipython",
    "version": 3
   },
   "file_extension": ".py",
   "mimetype": "text/x-python",
   "name": "python",
   "nbconvert_exporter": "python",
   "pygments_lexer": "ipython3",
   "version": "3.7.9"
  },
  "orig_nbformat": 2,
  "kernelspec": {
   "name": "python379jvsc74a57bd04e16bc90bb1be4fcd3e766e2f5d73f05719f516a7206bf1e9e77281fd34acfc0",
   "display_name": "Python 3.7.9 64-bit ('PythonData': conda)"
  }
 },
 "nbformat": 4,
 "nbformat_minor": 2,
 "cells": [
  {
   "source": [
    "## Cleaned up data for ETL Project"
   ],
   "cell_type": "markdown",
   "metadata": {}
  },
  {
   "cell_type": "code",
   "execution_count": 2,
   "metadata": {},
   "outputs": [],
   "source": [
    "import pandas as pd"
   ]
  },
  {
   "cell_type": "code",
   "execution_count": 3,
   "metadata": {},
   "outputs": [],
   "source": [
    "#Determing csv paths for each\n",
    "\n",
    "#Climatalogical disasters\n",
    "\n",
    "climate_csv = \"Resources/Climatological disasters.csv\"\n",
    "\n",
    "#Greenhouse Gas Emissions\n",
    "\n",
    "ghg_csv = \"Resources/GHG_Emissions.csv\""
   ]
  },
  {
   "cell_type": "code",
   "execution_count": 4,
   "metadata": {},
   "outputs": [],
   "source": [
    "#Read csvs into dataframes\n",
    "\n",
    "disasters_df = pd.read_csv(climate_csv)\n",
    "ghg_df = pd.read_csv(ghg_csv, skiprows=[0])"
   ]
  },
  {
   "cell_type": "code",
   "execution_count": 5,
   "metadata": {},
   "outputs": [
    {
     "output_type": "execute_result",
     "data": {
      "text/plain": [
       "     CountryID                  Countries or areas Occurrence 1990-1999  \\\n",
       "0            4                         Afghanistan                    3   \n",
       "1            8                             Albania                    1   \n",
       "2           12                             Algeria                    2   \n",
       "3           24                              Angola                    4   \n",
       "4          660                            Anguilla                    1   \n",
       "..         ...                                 ...                  ...   \n",
       "148        860                          Uzbekistan                  ...   \n",
       "149        862  Venezuela (Bolivarian Republic of)                  ...   \n",
       "150        704                            Viet Nam                    3   \n",
       "151        894                              Zambia                    4   \n",
       "152        716                            Zimbabwe                    3   \n",
       "\n",
       "    Occurrence 2000-2009 Occurrence 2010-2019 Total deaths 1990-1999  \\\n",
       "0                      3                    2                      0   \n",
       "1                      1                  ...                      0   \n",
       "2                      1                  ...                     22   \n",
       "3                      2                    2                      0   \n",
       "4                    ...                  ...                      0   \n",
       "..                   ...                  ...                    ...   \n",
       "148                    1                  ...                    ...   \n",
       "149                    1                  ...                    ...   \n",
       "150                    3                    2                      0   \n",
       "151                    1                  ...                      0   \n",
       "152                    2                    3                      0   \n",
       "\n",
       "    Total deaths 2000-2009 Total deaths 2010-2019 Persons affected 1990-1999  \\\n",
       "0                       37                      0                      48000   \n",
       "1                        0                    ...                    3200000   \n",
       "2                        8                    ...                          0   \n",
       "3                       58                      0                    2585000   \n",
       "4                      ...                    ...                          0   \n",
       "..                     ...                    ...                        ...   \n",
       "148                      0                    ...                        ...   \n",
       "149                      0                    ...                        ...   \n",
       "150                      0                      0                    4400000   \n",
       "151                      0                    ...                    2973204   \n",
       "152                      0                      0                    5055000   \n",
       "\n",
       "    Persons affected 2000-2009 Persons affected 2010-2019  \n",
       "0                      4760000                   12350000  \n",
       "1                           75                        ...  \n",
       "2                            0                        ...  \n",
       "3                        25000                    3253900  \n",
       "4                          ...                        ...  \n",
       "..                         ...                        ...  \n",
       "148                     600000                        ...  \n",
       "149                          0                        ...  \n",
       "150                    1710000                    1750000  \n",
       "151                    1200000                        ...  \n",
       "152                    8100000                   13567618  \n",
       "\n",
       "[153 rows x 11 columns]"
      ],
      "text/html": "<div>\n<style scoped>\n    .dataframe tbody tr th:only-of-type {\n        vertical-align: middle;\n    }\n\n    .dataframe tbody tr th {\n        vertical-align: top;\n    }\n\n    .dataframe thead th {\n        text-align: right;\n    }\n</style>\n<table border=\"1\" class=\"dataframe\">\n  <thead>\n    <tr style=\"text-align: right;\">\n      <th></th>\n      <th>CountryID</th>\n      <th>Countries or areas</th>\n      <th>Occurrence 1990-1999</th>\n      <th>Occurrence 2000-2009</th>\n      <th>Occurrence 2010-2019</th>\n      <th>Total deaths 1990-1999</th>\n      <th>Total deaths 2000-2009</th>\n      <th>Total deaths 2010-2019</th>\n      <th>Persons affected 1990-1999</th>\n      <th>Persons affected 2000-2009</th>\n      <th>Persons affected 2010-2019</th>\n    </tr>\n  </thead>\n  <tbody>\n    <tr>\n      <th>0</th>\n      <td>4</td>\n      <td>Afghanistan</td>\n      <td>3</td>\n      <td>3</td>\n      <td>2</td>\n      <td>0</td>\n      <td>37</td>\n      <td>0</td>\n      <td>48000</td>\n      <td>4760000</td>\n      <td>12350000</td>\n    </tr>\n    <tr>\n      <th>1</th>\n      <td>8</td>\n      <td>Albania</td>\n      <td>1</td>\n      <td>1</td>\n      <td>...</td>\n      <td>0</td>\n      <td>0</td>\n      <td>...</td>\n      <td>3200000</td>\n      <td>75</td>\n      <td>...</td>\n    </tr>\n    <tr>\n      <th>2</th>\n      <td>12</td>\n      <td>Algeria</td>\n      <td>2</td>\n      <td>1</td>\n      <td>...</td>\n      <td>22</td>\n      <td>8</td>\n      <td>...</td>\n      <td>0</td>\n      <td>0</td>\n      <td>...</td>\n    </tr>\n    <tr>\n      <th>3</th>\n      <td>24</td>\n      <td>Angola</td>\n      <td>4</td>\n      <td>2</td>\n      <td>2</td>\n      <td>0</td>\n      <td>58</td>\n      <td>0</td>\n      <td>2585000</td>\n      <td>25000</td>\n      <td>3253900</td>\n    </tr>\n    <tr>\n      <th>4</th>\n      <td>660</td>\n      <td>Anguilla</td>\n      <td>1</td>\n      <td>...</td>\n      <td>...</td>\n      <td>0</td>\n      <td>...</td>\n      <td>...</td>\n      <td>0</td>\n      <td>...</td>\n      <td>...</td>\n    </tr>\n    <tr>\n      <th>...</th>\n      <td>...</td>\n      <td>...</td>\n      <td>...</td>\n      <td>...</td>\n      <td>...</td>\n      <td>...</td>\n      <td>...</td>\n      <td>...</td>\n      <td>...</td>\n      <td>...</td>\n      <td>...</td>\n    </tr>\n    <tr>\n      <th>148</th>\n      <td>860</td>\n      <td>Uzbekistan</td>\n      <td>...</td>\n      <td>1</td>\n      <td>...</td>\n      <td>...</td>\n      <td>0</td>\n      <td>...</td>\n      <td>...</td>\n      <td>600000</td>\n      <td>...</td>\n    </tr>\n    <tr>\n      <th>149</th>\n      <td>862</td>\n      <td>Venezuela (Bolivarian Republic of)</td>\n      <td>...</td>\n      <td>1</td>\n      <td>...</td>\n      <td>...</td>\n      <td>0</td>\n      <td>...</td>\n      <td>...</td>\n      <td>0</td>\n      <td>...</td>\n    </tr>\n    <tr>\n      <th>150</th>\n      <td>704</td>\n      <td>Viet Nam</td>\n      <td>3</td>\n      <td>3</td>\n      <td>2</td>\n      <td>0</td>\n      <td>0</td>\n      <td>0</td>\n      <td>4400000</td>\n      <td>1710000</td>\n      <td>1750000</td>\n    </tr>\n    <tr>\n      <th>151</th>\n      <td>894</td>\n      <td>Zambia</td>\n      <td>4</td>\n      <td>1</td>\n      <td>...</td>\n      <td>0</td>\n      <td>0</td>\n      <td>...</td>\n      <td>2973204</td>\n      <td>1200000</td>\n      <td>...</td>\n    </tr>\n    <tr>\n      <th>152</th>\n      <td>716</td>\n      <td>Zimbabwe</td>\n      <td>3</td>\n      <td>2</td>\n      <td>3</td>\n      <td>0</td>\n      <td>0</td>\n      <td>0</td>\n      <td>5055000</td>\n      <td>8100000</td>\n      <td>13567618</td>\n    </tr>\n  </tbody>\n</table>\n<p>153 rows × 11 columns</p>\n</div>"
     },
     "metadata": {},
     "execution_count": 5
    }
   ],
   "source": [
    "disasters_df"
   ]
  },
  {
   "cell_type": "code",
   "execution_count": 6,
   "metadata": {},
   "outputs": [
    {
     "output_type": "execute_result",
     "data": {
      "text/plain": [
       "     Unnamed: 0                          Unnamed: 1      1990      1991  \\\n",
       "0             4                         Afghanistan       ...       ...   \n",
       "1             8                             Albania  4,341.63  6,486.66   \n",
       "2            12                             Algeria       ...       ...   \n",
       "3            24                              Angola       ...       ...   \n",
       "4            28                 Antigua and Barbuda    388.63       ...   \n",
       "..          ...                                 ...       ...       ...   \n",
       "186         862  Venezuela (Bolivarian Republic of)       ...       ...   \n",
       "187         704                            Viet Nam       ...       ...   \n",
       "188         887                               Yemen       ...       ...   \n",
       "189         894                              Zambia       ...       ...   \n",
       "190         716                            Zimbabwe       ...       ...   \n",
       "\n",
       "         1992      1993       1994       1995      1996      1997  ...  \\\n",
       "0         ...       ...        ...        ...       ...       ...  ...   \n",
       "1    4,581.28  4,588.00   4,906.36   4,883.76  4,998.58  5,107.07  ...   \n",
       "2         ...       ...  91,758.00        ...       ...       ...  ...   \n",
       "3         ...       ...        ...        ...       ...       ...  ...   \n",
       "4         ...       ...        ...        ...       ...       ...  ...   \n",
       "..        ...       ...        ...        ...       ...       ...  ...   \n",
       "186       ...       ...        ...        ...       ...       ...  ...   \n",
       "187       ...       ...  84,454.06        ...       ...       ...  ...   \n",
       "188       ...       ...        ...  17,870.11       ...       ...  ...   \n",
       "189       ...       ...  32,770.07        ...       ...       ...  ...   \n",
       "190       ...       ...  27,594.22        ...       ...       ...  ...   \n",
       "\n",
       "            2013 2014 2015 2016 2017 2018 Latest Year  \\\n",
       "0      43,377.00  ...  ...  ...  ...  ...        2013   \n",
       "1            ...  ...  ...  ...  ...  ...        2009   \n",
       "2            ...  ...  ...  ...  ...  ...        2000   \n",
       "3            ...  ...  ...  ...  ...  ...        2005   \n",
       "4            ...  ...  ...  ...  ...  ...        2000   \n",
       "..           ...  ...  ...  ...  ...  ...         ...   \n",
       "186          ...  ...  ...  ...  ...  ...        1999   \n",
       "187  2,78,441.86  ...  ...  ...  ...  ...        2013   \n",
       "188          ...  ...  ...  ...  ...  ...        2012   \n",
       "189          ...  ...  ...  ...  ...  ...        2000   \n",
       "190          ...  ...  ...  ...  ...  ...        2006   \n",
       "\n",
       "    1000 t of\\n CO₂ equivalent      % kg of CO₂ equivalent  \n",
       "0                     43377.00    ...                 1.34  \n",
       "1                      8125.70  87.16                 2.73  \n",
       "2                    111022.59    ...                 3.58  \n",
       "3                     61610.76    ...                 3.17  \n",
       "4                       597.75  53.81                 7.86  \n",
       "..                         ...    ...                  ...  \n",
       "186                  192192.24    ...                 8.10  \n",
       "187                  278441.86    ...                 3.07  \n",
       "188                   37942.87    ...                 1.55  \n",
       "189                   14404.70    ...                 1.38  \n",
       "190                   21184.72    ...                 1.74  \n",
       "\n",
       "[191 rows x 35 columns]"
      ],
      "text/html": "<div>\n<style scoped>\n    .dataframe tbody tr th:only-of-type {\n        vertical-align: middle;\n    }\n\n    .dataframe tbody tr th {\n        vertical-align: top;\n    }\n\n    .dataframe thead th {\n        text-align: right;\n    }\n</style>\n<table border=\"1\" class=\"dataframe\">\n  <thead>\n    <tr style=\"text-align: right;\">\n      <th></th>\n      <th>Unnamed: 0</th>\n      <th>Unnamed: 1</th>\n      <th>1990</th>\n      <th>1991</th>\n      <th>1992</th>\n      <th>1993</th>\n      <th>1994</th>\n      <th>1995</th>\n      <th>1996</th>\n      <th>1997</th>\n      <th>...</th>\n      <th>2013</th>\n      <th>2014</th>\n      <th>2015</th>\n      <th>2016</th>\n      <th>2017</th>\n      <th>2018</th>\n      <th>Latest Year</th>\n      <th>1000 t of\\n CO₂ equivalent</th>\n      <th>%</th>\n      <th>kg of CO₂ equivalent</th>\n    </tr>\n  </thead>\n  <tbody>\n    <tr>\n      <th>0</th>\n      <td>4</td>\n      <td>Afghanistan</td>\n      <td>...</td>\n      <td>...</td>\n      <td>...</td>\n      <td>...</td>\n      <td>...</td>\n      <td>...</td>\n      <td>...</td>\n      <td>...</td>\n      <td>...</td>\n      <td>43,377.00</td>\n      <td>...</td>\n      <td>...</td>\n      <td>...</td>\n      <td>...</td>\n      <td>...</td>\n      <td>2013</td>\n      <td>43377.00</td>\n      <td>...</td>\n      <td>1.34</td>\n    </tr>\n    <tr>\n      <th>1</th>\n      <td>8</td>\n      <td>Albania</td>\n      <td>4,341.63</td>\n      <td>6,486.66</td>\n      <td>4,581.28</td>\n      <td>4,588.00</td>\n      <td>4,906.36</td>\n      <td>4,883.76</td>\n      <td>4,998.58</td>\n      <td>5,107.07</td>\n      <td>...</td>\n      <td>...</td>\n      <td>...</td>\n      <td>...</td>\n      <td>...</td>\n      <td>...</td>\n      <td>...</td>\n      <td>2009</td>\n      <td>8125.70</td>\n      <td>87.16</td>\n      <td>2.73</td>\n    </tr>\n    <tr>\n      <th>2</th>\n      <td>12</td>\n      <td>Algeria</td>\n      <td>...</td>\n      <td>...</td>\n      <td>...</td>\n      <td>...</td>\n      <td>91,758.00</td>\n      <td>...</td>\n      <td>...</td>\n      <td>...</td>\n      <td>...</td>\n      <td>...</td>\n      <td>...</td>\n      <td>...</td>\n      <td>...</td>\n      <td>...</td>\n      <td>...</td>\n      <td>2000</td>\n      <td>111022.59</td>\n      <td>...</td>\n      <td>3.58</td>\n    </tr>\n    <tr>\n      <th>3</th>\n      <td>24</td>\n      <td>Angola</td>\n      <td>...</td>\n      <td>...</td>\n      <td>...</td>\n      <td>...</td>\n      <td>...</td>\n      <td>...</td>\n      <td>...</td>\n      <td>...</td>\n      <td>...</td>\n      <td>...</td>\n      <td>...</td>\n      <td>...</td>\n      <td>...</td>\n      <td>...</td>\n      <td>...</td>\n      <td>2005</td>\n      <td>61610.76</td>\n      <td>...</td>\n      <td>3.17</td>\n    </tr>\n    <tr>\n      <th>4</th>\n      <td>28</td>\n      <td>Antigua and Barbuda</td>\n      <td>388.63</td>\n      <td>...</td>\n      <td>...</td>\n      <td>...</td>\n      <td>...</td>\n      <td>...</td>\n      <td>...</td>\n      <td>...</td>\n      <td>...</td>\n      <td>...</td>\n      <td>...</td>\n      <td>...</td>\n      <td>...</td>\n      <td>...</td>\n      <td>...</td>\n      <td>2000</td>\n      <td>597.75</td>\n      <td>53.81</td>\n      <td>7.86</td>\n    </tr>\n    <tr>\n      <th>...</th>\n      <td>...</td>\n      <td>...</td>\n      <td>...</td>\n      <td>...</td>\n      <td>...</td>\n      <td>...</td>\n      <td>...</td>\n      <td>...</td>\n      <td>...</td>\n      <td>...</td>\n      <td>...</td>\n      <td>...</td>\n      <td>...</td>\n      <td>...</td>\n      <td>...</td>\n      <td>...</td>\n      <td>...</td>\n      <td>...</td>\n      <td>...</td>\n      <td>...</td>\n      <td>...</td>\n    </tr>\n    <tr>\n      <th>186</th>\n      <td>862</td>\n      <td>Venezuela (Bolivarian Republic of)</td>\n      <td>...</td>\n      <td>...</td>\n      <td>...</td>\n      <td>...</td>\n      <td>...</td>\n      <td>...</td>\n      <td>...</td>\n      <td>...</td>\n      <td>...</td>\n      <td>...</td>\n      <td>...</td>\n      <td>...</td>\n      <td>...</td>\n      <td>...</td>\n      <td>...</td>\n      <td>1999</td>\n      <td>192192.24</td>\n      <td>...</td>\n      <td>8.10</td>\n    </tr>\n    <tr>\n      <th>187</th>\n      <td>704</td>\n      <td>Viet Nam</td>\n      <td>...</td>\n      <td>...</td>\n      <td>...</td>\n      <td>...</td>\n      <td>84,454.06</td>\n      <td>...</td>\n      <td>...</td>\n      <td>...</td>\n      <td>...</td>\n      <td>2,78,441.86</td>\n      <td>...</td>\n      <td>...</td>\n      <td>...</td>\n      <td>...</td>\n      <td>...</td>\n      <td>2013</td>\n      <td>278441.86</td>\n      <td>...</td>\n      <td>3.07</td>\n    </tr>\n    <tr>\n      <th>188</th>\n      <td>887</td>\n      <td>Yemen</td>\n      <td>...</td>\n      <td>...</td>\n      <td>...</td>\n      <td>...</td>\n      <td>...</td>\n      <td>17,870.11</td>\n      <td>...</td>\n      <td>...</td>\n      <td>...</td>\n      <td>...</td>\n      <td>...</td>\n      <td>...</td>\n      <td>...</td>\n      <td>...</td>\n      <td>...</td>\n      <td>2012</td>\n      <td>37942.87</td>\n      <td>...</td>\n      <td>1.55</td>\n    </tr>\n    <tr>\n      <th>189</th>\n      <td>894</td>\n      <td>Zambia</td>\n      <td>...</td>\n      <td>...</td>\n      <td>...</td>\n      <td>...</td>\n      <td>32,770.07</td>\n      <td>...</td>\n      <td>...</td>\n      <td>...</td>\n      <td>...</td>\n      <td>...</td>\n      <td>...</td>\n      <td>...</td>\n      <td>...</td>\n      <td>...</td>\n      <td>...</td>\n      <td>2000</td>\n      <td>14404.70</td>\n      <td>...</td>\n      <td>1.38</td>\n    </tr>\n    <tr>\n      <th>190</th>\n      <td>716</td>\n      <td>Zimbabwe</td>\n      <td>...</td>\n      <td>...</td>\n      <td>...</td>\n      <td>...</td>\n      <td>27,594.22</td>\n      <td>...</td>\n      <td>...</td>\n      <td>...</td>\n      <td>...</td>\n      <td>...</td>\n      <td>...</td>\n      <td>...</td>\n      <td>...</td>\n      <td>...</td>\n      <td>...</td>\n      <td>2006</td>\n      <td>21184.72</td>\n      <td>...</td>\n      <td>1.74</td>\n    </tr>\n  </tbody>\n</table>\n<p>191 rows × 35 columns</p>\n</div>"
     },
     "metadata": {},
     "execution_count": 6
    }
   ],
   "source": [
    "ghg_df"
   ]
  },
  {
   "cell_type": "code",
   "execution_count": 7,
   "metadata": {},
   "outputs": [
    {
     "output_type": "execute_result",
     "data": {
      "text/plain": [
       "     CountryID                  Countries or areas      1990      1991  \\\n",
       "0            4                         Afghanistan       ...       ...   \n",
       "1            8                             Albania  4,341.63  6,486.66   \n",
       "2           12                             Algeria       ...       ...   \n",
       "3           24                              Angola       ...       ...   \n",
       "4           28                 Antigua and Barbuda    388.63       ...   \n",
       "..         ...                                 ...       ...       ...   \n",
       "186        862  Venezuela (Bolivarian Republic of)       ...       ...   \n",
       "187        704                            Viet Nam       ...       ...   \n",
       "188        887                               Yemen       ...       ...   \n",
       "189        894                              Zambia       ...       ...   \n",
       "190        716                            Zimbabwe       ...       ...   \n",
       "\n",
       "         1992      1993       1994       1995      1996      1997  ...  \\\n",
       "0         ...       ...        ...        ...       ...       ...  ...   \n",
       "1    4,581.28  4,588.00   4,906.36   4,883.76  4,998.58  5,107.07  ...   \n",
       "2         ...       ...  91,758.00        ...       ...       ...  ...   \n",
       "3         ...       ...        ...        ...       ...       ...  ...   \n",
       "4         ...       ...        ...        ...       ...       ...  ...   \n",
       "..        ...       ...        ...        ...       ...       ...  ...   \n",
       "186       ...       ...        ...        ...       ...       ...  ...   \n",
       "187       ...       ...  84,454.06        ...       ...       ...  ...   \n",
       "188       ...       ...        ...  17,870.11       ...       ...  ...   \n",
       "189       ...       ...  32,770.07        ...       ...       ...  ...   \n",
       "190       ...       ...  27,594.22        ...       ...       ...  ...   \n",
       "\n",
       "            2013 2014 2015 2016 2017 2018 Latest Year  \\\n",
       "0      43,377.00  ...  ...  ...  ...  ...        2013   \n",
       "1            ...  ...  ...  ...  ...  ...        2009   \n",
       "2            ...  ...  ...  ...  ...  ...        2000   \n",
       "3            ...  ...  ...  ...  ...  ...        2005   \n",
       "4            ...  ...  ...  ...  ...  ...        2000   \n",
       "..           ...  ...  ...  ...  ...  ...         ...   \n",
       "186          ...  ...  ...  ...  ...  ...        1999   \n",
       "187  2,78,441.86  ...  ...  ...  ...  ...        2013   \n",
       "188          ...  ...  ...  ...  ...  ...        2012   \n",
       "189          ...  ...  ...  ...  ...  ...        2000   \n",
       "190          ...  ...  ...  ...  ...  ...        2006   \n",
       "\n",
       "    1000 t of\\n CO₂ equivalent      % kg of CO₂ equivalent  \n",
       "0                     43377.00    ...                 1.34  \n",
       "1                      8125.70  87.16                 2.73  \n",
       "2                    111022.59    ...                 3.58  \n",
       "3                     61610.76    ...                 3.17  \n",
       "4                       597.75  53.81                 7.86  \n",
       "..                         ...    ...                  ...  \n",
       "186                  192192.24    ...                 8.10  \n",
       "187                  278441.86    ...                 3.07  \n",
       "188                   37942.87    ...                 1.55  \n",
       "189                   14404.70    ...                 1.38  \n",
       "190                   21184.72    ...                 1.74  \n",
       "\n",
       "[191 rows x 35 columns]"
      ],
      "text/html": "<div>\n<style scoped>\n    .dataframe tbody tr th:only-of-type {\n        vertical-align: middle;\n    }\n\n    .dataframe tbody tr th {\n        vertical-align: top;\n    }\n\n    .dataframe thead th {\n        text-align: right;\n    }\n</style>\n<table border=\"1\" class=\"dataframe\">\n  <thead>\n    <tr style=\"text-align: right;\">\n      <th></th>\n      <th>CountryID</th>\n      <th>Countries or areas</th>\n      <th>1990</th>\n      <th>1991</th>\n      <th>1992</th>\n      <th>1993</th>\n      <th>1994</th>\n      <th>1995</th>\n      <th>1996</th>\n      <th>1997</th>\n      <th>...</th>\n      <th>2013</th>\n      <th>2014</th>\n      <th>2015</th>\n      <th>2016</th>\n      <th>2017</th>\n      <th>2018</th>\n      <th>Latest Year</th>\n      <th>1000 t of\\n CO₂ equivalent</th>\n      <th>%</th>\n      <th>kg of CO₂ equivalent</th>\n    </tr>\n  </thead>\n  <tbody>\n    <tr>\n      <th>0</th>\n      <td>4</td>\n      <td>Afghanistan</td>\n      <td>...</td>\n      <td>...</td>\n      <td>...</td>\n      <td>...</td>\n      <td>...</td>\n      <td>...</td>\n      <td>...</td>\n      <td>...</td>\n      <td>...</td>\n      <td>43,377.00</td>\n      <td>...</td>\n      <td>...</td>\n      <td>...</td>\n      <td>...</td>\n      <td>...</td>\n      <td>2013</td>\n      <td>43377.00</td>\n      <td>...</td>\n      <td>1.34</td>\n    </tr>\n    <tr>\n      <th>1</th>\n      <td>8</td>\n      <td>Albania</td>\n      <td>4,341.63</td>\n      <td>6,486.66</td>\n      <td>4,581.28</td>\n      <td>4,588.00</td>\n      <td>4,906.36</td>\n      <td>4,883.76</td>\n      <td>4,998.58</td>\n      <td>5,107.07</td>\n      <td>...</td>\n      <td>...</td>\n      <td>...</td>\n      <td>...</td>\n      <td>...</td>\n      <td>...</td>\n      <td>...</td>\n      <td>2009</td>\n      <td>8125.70</td>\n      <td>87.16</td>\n      <td>2.73</td>\n    </tr>\n    <tr>\n      <th>2</th>\n      <td>12</td>\n      <td>Algeria</td>\n      <td>...</td>\n      <td>...</td>\n      <td>...</td>\n      <td>...</td>\n      <td>91,758.00</td>\n      <td>...</td>\n      <td>...</td>\n      <td>...</td>\n      <td>...</td>\n      <td>...</td>\n      <td>...</td>\n      <td>...</td>\n      <td>...</td>\n      <td>...</td>\n      <td>...</td>\n      <td>2000</td>\n      <td>111022.59</td>\n      <td>...</td>\n      <td>3.58</td>\n    </tr>\n    <tr>\n      <th>3</th>\n      <td>24</td>\n      <td>Angola</td>\n      <td>...</td>\n      <td>...</td>\n      <td>...</td>\n      <td>...</td>\n      <td>...</td>\n      <td>...</td>\n      <td>...</td>\n      <td>...</td>\n      <td>...</td>\n      <td>...</td>\n      <td>...</td>\n      <td>...</td>\n      <td>...</td>\n      <td>...</td>\n      <td>...</td>\n      <td>2005</td>\n      <td>61610.76</td>\n      <td>...</td>\n      <td>3.17</td>\n    </tr>\n    <tr>\n      <th>4</th>\n      <td>28</td>\n      <td>Antigua and Barbuda</td>\n      <td>388.63</td>\n      <td>...</td>\n      <td>...</td>\n      <td>...</td>\n      <td>...</td>\n      <td>...</td>\n      <td>...</td>\n      <td>...</td>\n      <td>...</td>\n      <td>...</td>\n      <td>...</td>\n      <td>...</td>\n      <td>...</td>\n      <td>...</td>\n      <td>...</td>\n      <td>2000</td>\n      <td>597.75</td>\n      <td>53.81</td>\n      <td>7.86</td>\n    </tr>\n    <tr>\n      <th>...</th>\n      <td>...</td>\n      <td>...</td>\n      <td>...</td>\n      <td>...</td>\n      <td>...</td>\n      <td>...</td>\n      <td>...</td>\n      <td>...</td>\n      <td>...</td>\n      <td>...</td>\n      <td>...</td>\n      <td>...</td>\n      <td>...</td>\n      <td>...</td>\n      <td>...</td>\n      <td>...</td>\n      <td>...</td>\n      <td>...</td>\n      <td>...</td>\n      <td>...</td>\n      <td>...</td>\n    </tr>\n    <tr>\n      <th>186</th>\n      <td>862</td>\n      <td>Venezuela (Bolivarian Republic of)</td>\n      <td>...</td>\n      <td>...</td>\n      <td>...</td>\n      <td>...</td>\n      <td>...</td>\n      <td>...</td>\n      <td>...</td>\n      <td>...</td>\n      <td>...</td>\n      <td>...</td>\n      <td>...</td>\n      <td>...</td>\n      <td>...</td>\n      <td>...</td>\n      <td>...</td>\n      <td>1999</td>\n      <td>192192.24</td>\n      <td>...</td>\n      <td>8.10</td>\n    </tr>\n    <tr>\n      <th>187</th>\n      <td>704</td>\n      <td>Viet Nam</td>\n      <td>...</td>\n      <td>...</td>\n      <td>...</td>\n      <td>...</td>\n      <td>84,454.06</td>\n      <td>...</td>\n      <td>...</td>\n      <td>...</td>\n      <td>...</td>\n      <td>2,78,441.86</td>\n      <td>...</td>\n      <td>...</td>\n      <td>...</td>\n      <td>...</td>\n      <td>...</td>\n      <td>2013</td>\n      <td>278441.86</td>\n      <td>...</td>\n      <td>3.07</td>\n    </tr>\n    <tr>\n      <th>188</th>\n      <td>887</td>\n      <td>Yemen</td>\n      <td>...</td>\n      <td>...</td>\n      <td>...</td>\n      <td>...</td>\n      <td>...</td>\n      <td>17,870.11</td>\n      <td>...</td>\n      <td>...</td>\n      <td>...</td>\n      <td>...</td>\n      <td>...</td>\n      <td>...</td>\n      <td>...</td>\n      <td>...</td>\n      <td>...</td>\n      <td>2012</td>\n      <td>37942.87</td>\n      <td>...</td>\n      <td>1.55</td>\n    </tr>\n    <tr>\n      <th>189</th>\n      <td>894</td>\n      <td>Zambia</td>\n      <td>...</td>\n      <td>...</td>\n      <td>...</td>\n      <td>...</td>\n      <td>32,770.07</td>\n      <td>...</td>\n      <td>...</td>\n      <td>...</td>\n      <td>...</td>\n      <td>...</td>\n      <td>...</td>\n      <td>...</td>\n      <td>...</td>\n      <td>...</td>\n      <td>...</td>\n      <td>2000</td>\n      <td>14404.70</td>\n      <td>...</td>\n      <td>1.38</td>\n    </tr>\n    <tr>\n      <th>190</th>\n      <td>716</td>\n      <td>Zimbabwe</td>\n      <td>...</td>\n      <td>...</td>\n      <td>...</td>\n      <td>...</td>\n      <td>27,594.22</td>\n      <td>...</td>\n      <td>...</td>\n      <td>...</td>\n      <td>...</td>\n      <td>...</td>\n      <td>...</td>\n      <td>...</td>\n      <td>...</td>\n      <td>...</td>\n      <td>...</td>\n      <td>2006</td>\n      <td>21184.72</td>\n      <td>...</td>\n      <td>1.74</td>\n    </tr>\n  </tbody>\n</table>\n<p>191 rows × 35 columns</p>\n</div>"
     },
     "metadata": {},
     "execution_count": 7
    }
   ],
   "source": [
    "ghg_df.rename(columns={\"Unnamed: 0\": \"CountryID\", \"Unnamed: 1\": \"Countries or areas\"}, inplace=True)\n",
    "ghg_df"
   ]
  },
  {
   "cell_type": "code",
   "execution_count": 8,
   "metadata": {},
   "outputs": [
    {
     "output_type": "execute_result",
     "data": {
      "text/plain": [
       "CountryID                       int64\n",
       "Countries or areas             object\n",
       "1990                           object\n",
       "1991                           object\n",
       "1992                           object\n",
       "1993                           object\n",
       "1994                           object\n",
       "1995                           object\n",
       "1996                           object\n",
       "1997                           object\n",
       "1998                           object\n",
       "1999                           object\n",
       "2000                           object\n",
       "2001                           object\n",
       "2002                           object\n",
       "2003                           object\n",
       "2004                           object\n",
       "2005                           object\n",
       "2006                           object\n",
       "2007                           object\n",
       "2008                           object\n",
       "2009                           object\n",
       "2010                           object\n",
       "2011                           object\n",
       "2012                           object\n",
       "2013                           object\n",
       "2014                           object\n",
       "2015                           object\n",
       "2016                           object\n",
       "2017                           object\n",
       "2018                           object\n",
       "Latest Year                     int64\n",
       "1000 t of\\n CO₂ equivalent    float64\n",
       "%                              object\n",
       "kg of CO₂ equivalent          float64\n",
       "dtype: object"
      ]
     },
     "metadata": {},
     "execution_count": 8
    }
   ],
   "source": [
    "ghg_df.dtypes"
   ]
  },
  {
   "cell_type": "code",
   "execution_count": 9,
   "metadata": {},
   "outputs": [
    {
     "output_type": "execute_result",
     "data": {
      "text/plain": [
       "     CountryID                  Countries or areas      1990      1991  \\\n",
       "0            4                         Afghanistan       ...       ...   \n",
       "1            8                             Albania  4,341.63  6,486.66   \n",
       "2           12                             Algeria       ...       ...   \n",
       "3           24                              Angola       ...       ...   \n",
       "4           28                 Antigua and Barbuda    388.63       ...   \n",
       "..         ...                                 ...       ...       ...   \n",
       "186        862  Venezuela (Bolivarian Republic of)       ...       ...   \n",
       "187        704                            Viet Nam       ...       ...   \n",
       "188        887                               Yemen       ...       ...   \n",
       "189        894                              Zambia       ...       ...   \n",
       "190        716                            Zimbabwe       ...       ...   \n",
       "\n",
       "         1992      1993       1994       1995      1996      1997  ...  \\\n",
       "0         ...       ...        ...        ...       ...       ...  ...   \n",
       "1    4,581.28  4,588.00   4,906.36   4,883.76  4,998.58  5,107.07  ...   \n",
       "2         ...       ...  91,758.00        ...       ...       ...  ...   \n",
       "3         ...       ...        ...        ...       ...       ...  ...   \n",
       "4         ...       ...        ...        ...       ...       ...  ...   \n",
       "..        ...       ...        ...        ...       ...       ...  ...   \n",
       "186       ...       ...        ...        ...       ...       ...  ...   \n",
       "187       ...       ...  84,454.06        ...       ...       ...  ...   \n",
       "188       ...       ...        ...  17,870.11       ...       ...  ...   \n",
       "189       ...       ...  32,770.07        ...       ...       ...  ...   \n",
       "190       ...       ...  27,594.22        ...       ...       ...  ...   \n",
       "\n",
       "            2010 2011       2012         2013 2014 2015 2016 2017 2018      %  \n",
       "0            ...  ...        ...    43,377.00  ...  ...  ...  ...  ...    ...  \n",
       "1            ...  ...        ...          ...  ...  ...  ...  ...  ...  87.16  \n",
       "2            ...  ...        ...          ...  ...  ...  ...  ...  ...    ...  \n",
       "3            ...  ...        ...          ...  ...  ...  ...  ...  ...    ...  \n",
       "4            ...  ...        ...          ...  ...  ...  ...  ...  ...  53.81  \n",
       "..           ...  ...        ...          ...  ...  ...  ...  ...  ...    ...  \n",
       "186          ...  ...        ...          ...  ...  ...  ...  ...  ...    ...  \n",
       "187  2,66,049.23  ...        ...  2,78,441.86  ...  ...  ...  ...  ...    ...  \n",
       "188    34,139.25  ...  37,942.87          ...  ...  ...  ...  ...  ...    ...  \n",
       "189          ...  ...        ...          ...  ...  ...  ...  ...  ...    ...  \n",
       "190          ...  ...        ...          ...  ...  ...  ...  ...  ...    ...  \n",
       "\n",
       "[191 rows x 32 columns]"
      ],
      "text/html": "<div>\n<style scoped>\n    .dataframe tbody tr th:only-of-type {\n        vertical-align: middle;\n    }\n\n    .dataframe tbody tr th {\n        vertical-align: top;\n    }\n\n    .dataframe thead th {\n        text-align: right;\n    }\n</style>\n<table border=\"1\" class=\"dataframe\">\n  <thead>\n    <tr style=\"text-align: right;\">\n      <th></th>\n      <th>CountryID</th>\n      <th>Countries or areas</th>\n      <th>1990</th>\n      <th>1991</th>\n      <th>1992</th>\n      <th>1993</th>\n      <th>1994</th>\n      <th>1995</th>\n      <th>1996</th>\n      <th>1997</th>\n      <th>...</th>\n      <th>2010</th>\n      <th>2011</th>\n      <th>2012</th>\n      <th>2013</th>\n      <th>2014</th>\n      <th>2015</th>\n      <th>2016</th>\n      <th>2017</th>\n      <th>2018</th>\n      <th>%</th>\n    </tr>\n  </thead>\n  <tbody>\n    <tr>\n      <th>0</th>\n      <td>4</td>\n      <td>Afghanistan</td>\n      <td>...</td>\n      <td>...</td>\n      <td>...</td>\n      <td>...</td>\n      <td>...</td>\n      <td>...</td>\n      <td>...</td>\n      <td>...</td>\n      <td>...</td>\n      <td>...</td>\n      <td>...</td>\n      <td>...</td>\n      <td>43,377.00</td>\n      <td>...</td>\n      <td>...</td>\n      <td>...</td>\n      <td>...</td>\n      <td>...</td>\n      <td>...</td>\n    </tr>\n    <tr>\n      <th>1</th>\n      <td>8</td>\n      <td>Albania</td>\n      <td>4,341.63</td>\n      <td>6,486.66</td>\n      <td>4,581.28</td>\n      <td>4,588.00</td>\n      <td>4,906.36</td>\n      <td>4,883.76</td>\n      <td>4,998.58</td>\n      <td>5,107.07</td>\n      <td>...</td>\n      <td>...</td>\n      <td>...</td>\n      <td>...</td>\n      <td>...</td>\n      <td>...</td>\n      <td>...</td>\n      <td>...</td>\n      <td>...</td>\n      <td>...</td>\n      <td>87.16</td>\n    </tr>\n    <tr>\n      <th>2</th>\n      <td>12</td>\n      <td>Algeria</td>\n      <td>...</td>\n      <td>...</td>\n      <td>...</td>\n      <td>...</td>\n      <td>91,758.00</td>\n      <td>...</td>\n      <td>...</td>\n      <td>...</td>\n      <td>...</td>\n      <td>...</td>\n      <td>...</td>\n      <td>...</td>\n      <td>...</td>\n      <td>...</td>\n      <td>...</td>\n      <td>...</td>\n      <td>...</td>\n      <td>...</td>\n      <td>...</td>\n    </tr>\n    <tr>\n      <th>3</th>\n      <td>24</td>\n      <td>Angola</td>\n      <td>...</td>\n      <td>...</td>\n      <td>...</td>\n      <td>...</td>\n      <td>...</td>\n      <td>...</td>\n      <td>...</td>\n      <td>...</td>\n      <td>...</td>\n      <td>...</td>\n      <td>...</td>\n      <td>...</td>\n      <td>...</td>\n      <td>...</td>\n      <td>...</td>\n      <td>...</td>\n      <td>...</td>\n      <td>...</td>\n      <td>...</td>\n    </tr>\n    <tr>\n      <th>4</th>\n      <td>28</td>\n      <td>Antigua and Barbuda</td>\n      <td>388.63</td>\n      <td>...</td>\n      <td>...</td>\n      <td>...</td>\n      <td>...</td>\n      <td>...</td>\n      <td>...</td>\n      <td>...</td>\n      <td>...</td>\n      <td>...</td>\n      <td>...</td>\n      <td>...</td>\n      <td>...</td>\n      <td>...</td>\n      <td>...</td>\n      <td>...</td>\n      <td>...</td>\n      <td>...</td>\n      <td>53.81</td>\n    </tr>\n    <tr>\n      <th>...</th>\n      <td>...</td>\n      <td>...</td>\n      <td>...</td>\n      <td>...</td>\n      <td>...</td>\n      <td>...</td>\n      <td>...</td>\n      <td>...</td>\n      <td>...</td>\n      <td>...</td>\n      <td>...</td>\n      <td>...</td>\n      <td>...</td>\n      <td>...</td>\n      <td>...</td>\n      <td>...</td>\n      <td>...</td>\n      <td>...</td>\n      <td>...</td>\n      <td>...</td>\n      <td>...</td>\n    </tr>\n    <tr>\n      <th>186</th>\n      <td>862</td>\n      <td>Venezuela (Bolivarian Republic of)</td>\n      <td>...</td>\n      <td>...</td>\n      <td>...</td>\n      <td>...</td>\n      <td>...</td>\n      <td>...</td>\n      <td>...</td>\n      <td>...</td>\n      <td>...</td>\n      <td>...</td>\n      <td>...</td>\n      <td>...</td>\n      <td>...</td>\n      <td>...</td>\n      <td>...</td>\n      <td>...</td>\n      <td>...</td>\n      <td>...</td>\n      <td>...</td>\n    </tr>\n    <tr>\n      <th>187</th>\n      <td>704</td>\n      <td>Viet Nam</td>\n      <td>...</td>\n      <td>...</td>\n      <td>...</td>\n      <td>...</td>\n      <td>84,454.06</td>\n      <td>...</td>\n      <td>...</td>\n      <td>...</td>\n      <td>...</td>\n      <td>2,66,049.23</td>\n      <td>...</td>\n      <td>...</td>\n      <td>2,78,441.86</td>\n      <td>...</td>\n      <td>...</td>\n      <td>...</td>\n      <td>...</td>\n      <td>...</td>\n      <td>...</td>\n    </tr>\n    <tr>\n      <th>188</th>\n      <td>887</td>\n      <td>Yemen</td>\n      <td>...</td>\n      <td>...</td>\n      <td>...</td>\n      <td>...</td>\n      <td>...</td>\n      <td>17,870.11</td>\n      <td>...</td>\n      <td>...</td>\n      <td>...</td>\n      <td>34,139.25</td>\n      <td>...</td>\n      <td>37,942.87</td>\n      <td>...</td>\n      <td>...</td>\n      <td>...</td>\n      <td>...</td>\n      <td>...</td>\n      <td>...</td>\n      <td>...</td>\n    </tr>\n    <tr>\n      <th>189</th>\n      <td>894</td>\n      <td>Zambia</td>\n      <td>...</td>\n      <td>...</td>\n      <td>...</td>\n      <td>...</td>\n      <td>32,770.07</td>\n      <td>...</td>\n      <td>...</td>\n      <td>...</td>\n      <td>...</td>\n      <td>...</td>\n      <td>...</td>\n      <td>...</td>\n      <td>...</td>\n      <td>...</td>\n      <td>...</td>\n      <td>...</td>\n      <td>...</td>\n      <td>...</td>\n      <td>...</td>\n    </tr>\n    <tr>\n      <th>190</th>\n      <td>716</td>\n      <td>Zimbabwe</td>\n      <td>...</td>\n      <td>...</td>\n      <td>...</td>\n      <td>...</td>\n      <td>27,594.22</td>\n      <td>...</td>\n      <td>...</td>\n      <td>...</td>\n      <td>...</td>\n      <td>...</td>\n      <td>...</td>\n      <td>...</td>\n      <td>...</td>\n      <td>...</td>\n      <td>...</td>\n      <td>...</td>\n      <td>...</td>\n      <td>...</td>\n      <td>...</td>\n    </tr>\n  </tbody>\n</table>\n<p>191 rows × 32 columns</p>\n</div>"
     },
     "metadata": {},
     "execution_count": 9
    }
   ],
   "source": [
    "# Drop Latest Year, 1000 1, and kg Columns \n",
    "del ghg_df[\"Latest Year\"]\n",
    "del ghg_df[\"1000 t of\\n CO₂ equivalent\"]\n",
    "del ghg_df[\"kg of CO₂ equivalent\"]\n",
    "ghg_df"
   ]
  },
  {
   "cell_type": "code",
   "execution_count": 10,
   "metadata": {},
   "outputs": [],
   "source": [
    "# Rename % column\n",
    "new_df = ghg_df.rename(columns={\"%\": \"Percent Change\"})"
   ]
  },
  {
   "cell_type": "code",
   "execution_count": 11,
   "metadata": {},
   "outputs": [],
   "source": [
    "# GHG unpivoted\n",
    "\n",
    "ghg_df_unpivot = new_df.melt(id_vars=['CountryID', 'Countries or areas', 'Percent Change'], var_name='Year', value_name = 'GHG emissions per 1000t')"
   ]
  },
  {
   "cell_type": "code",
   "execution_count": 12,
   "metadata": {},
   "outputs": [
    {
     "output_type": "execute_result",
     "data": {
      "text/plain": [
       "      CountryID                  Countries or areas Percent Change  Year  \\\n",
       "0             4                         Afghanistan            ...  1990   \n",
       "1             8                             Albania          87.16  1990   \n",
       "2            12                             Algeria            ...  1990   \n",
       "3            24                              Angola            ...  1990   \n",
       "4            28                 Antigua and Barbuda          53.81  1990   \n",
       "...         ...                                 ...            ...   ...   \n",
       "5534        862  Venezuela (Bolivarian Republic of)            ...  2018   \n",
       "5535        704                            Viet Nam            ...  2018   \n",
       "5536        887                               Yemen            ...  2018   \n",
       "5537        894                              Zambia            ...  2018   \n",
       "5538        716                            Zimbabwe            ...  2018   \n",
       "\n",
       "     GHG emissions per 1000t  \n",
       "0                        ...  \n",
       "1                   4,341.63  \n",
       "2                        ...  \n",
       "3                        ...  \n",
       "4                     388.63  \n",
       "...                      ...  \n",
       "5534                     ...  \n",
       "5535                     ...  \n",
       "5536                     ...  \n",
       "5537                     ...  \n",
       "5538                     ...  \n",
       "\n",
       "[5539 rows x 5 columns]"
      ],
      "text/html": "<div>\n<style scoped>\n    .dataframe tbody tr th:only-of-type {\n        vertical-align: middle;\n    }\n\n    .dataframe tbody tr th {\n        vertical-align: top;\n    }\n\n    .dataframe thead th {\n        text-align: right;\n    }\n</style>\n<table border=\"1\" class=\"dataframe\">\n  <thead>\n    <tr style=\"text-align: right;\">\n      <th></th>\n      <th>CountryID</th>\n      <th>Countries or areas</th>\n      <th>Percent Change</th>\n      <th>Year</th>\n      <th>GHG emissions per 1000t</th>\n    </tr>\n  </thead>\n  <tbody>\n    <tr>\n      <th>0</th>\n      <td>4</td>\n      <td>Afghanistan</td>\n      <td>...</td>\n      <td>1990</td>\n      <td>...</td>\n    </tr>\n    <tr>\n      <th>1</th>\n      <td>8</td>\n      <td>Albania</td>\n      <td>87.16</td>\n      <td>1990</td>\n      <td>4,341.63</td>\n    </tr>\n    <tr>\n      <th>2</th>\n      <td>12</td>\n      <td>Algeria</td>\n      <td>...</td>\n      <td>1990</td>\n      <td>...</td>\n    </tr>\n    <tr>\n      <th>3</th>\n      <td>24</td>\n      <td>Angola</td>\n      <td>...</td>\n      <td>1990</td>\n      <td>...</td>\n    </tr>\n    <tr>\n      <th>4</th>\n      <td>28</td>\n      <td>Antigua and Barbuda</td>\n      <td>53.81</td>\n      <td>1990</td>\n      <td>388.63</td>\n    </tr>\n    <tr>\n      <th>...</th>\n      <td>...</td>\n      <td>...</td>\n      <td>...</td>\n      <td>...</td>\n      <td>...</td>\n    </tr>\n    <tr>\n      <th>5534</th>\n      <td>862</td>\n      <td>Venezuela (Bolivarian Republic of)</td>\n      <td>...</td>\n      <td>2018</td>\n      <td>...</td>\n    </tr>\n    <tr>\n      <th>5535</th>\n      <td>704</td>\n      <td>Viet Nam</td>\n      <td>...</td>\n      <td>2018</td>\n      <td>...</td>\n    </tr>\n    <tr>\n      <th>5536</th>\n      <td>887</td>\n      <td>Yemen</td>\n      <td>...</td>\n      <td>2018</td>\n      <td>...</td>\n    </tr>\n    <tr>\n      <th>5537</th>\n      <td>894</td>\n      <td>Zambia</td>\n      <td>...</td>\n      <td>2018</td>\n      <td>...</td>\n    </tr>\n    <tr>\n      <th>5538</th>\n      <td>716</td>\n      <td>Zimbabwe</td>\n      <td>...</td>\n      <td>2018</td>\n      <td>...</td>\n    </tr>\n  </tbody>\n</table>\n<p>5539 rows × 5 columns</p>\n</div>"
     },
     "metadata": {},
     "execution_count": 12
    }
   ],
   "source": [
    "ghg_df_unpivot"
   ]
  },
  {
   "cell_type": "code",
   "execution_count": 13,
   "metadata": {},
   "outputs": [
    {
     "output_type": "execute_result",
     "data": {
      "text/plain": [
       "      CountryID Countries or areas Percent Change  Year  \\\n",
       "0             4        Afghanistan            ...  1990   \n",
       "2483          4        Afghanistan            ...  2003   \n",
       "955           4        Afghanistan            ...  1995   \n",
       "4584          4        Afghanistan            ...  2014   \n",
       "4393          4        Afghanistan            ...  2013   \n",
       "...         ...                ...            ...   ...   \n",
       "5156        716           Zimbabwe            ...  2016   \n",
       "381         716           Zimbabwe            ...  1991   \n",
       "4010        716           Zimbabwe            ...  2010   \n",
       "763         716           Zimbabwe            ...  1993   \n",
       "5538        716           Zimbabwe            ...  2018   \n",
       "\n",
       "     GHG emissions per 1000t  \n",
       "0                        ...  \n",
       "2483                     ...  \n",
       "955                      ...  \n",
       "4584                     ...  \n",
       "4393               43,377.00  \n",
       "...                      ...  \n",
       "5156                     ...  \n",
       "381                      ...  \n",
       "4010                     ...  \n",
       "763                      ...  \n",
       "5538                     ...  \n",
       "\n",
       "[5539 rows x 5 columns]"
      ],
      "text/html": "<div>\n<style scoped>\n    .dataframe tbody tr th:only-of-type {\n        vertical-align: middle;\n    }\n\n    .dataframe tbody tr th {\n        vertical-align: top;\n    }\n\n    .dataframe thead th {\n        text-align: right;\n    }\n</style>\n<table border=\"1\" class=\"dataframe\">\n  <thead>\n    <tr style=\"text-align: right;\">\n      <th></th>\n      <th>CountryID</th>\n      <th>Countries or areas</th>\n      <th>Percent Change</th>\n      <th>Year</th>\n      <th>GHG emissions per 1000t</th>\n    </tr>\n  </thead>\n  <tbody>\n    <tr>\n      <th>0</th>\n      <td>4</td>\n      <td>Afghanistan</td>\n      <td>...</td>\n      <td>1990</td>\n      <td>...</td>\n    </tr>\n    <tr>\n      <th>2483</th>\n      <td>4</td>\n      <td>Afghanistan</td>\n      <td>...</td>\n      <td>2003</td>\n      <td>...</td>\n    </tr>\n    <tr>\n      <th>955</th>\n      <td>4</td>\n      <td>Afghanistan</td>\n      <td>...</td>\n      <td>1995</td>\n      <td>...</td>\n    </tr>\n    <tr>\n      <th>4584</th>\n      <td>4</td>\n      <td>Afghanistan</td>\n      <td>...</td>\n      <td>2014</td>\n      <td>...</td>\n    </tr>\n    <tr>\n      <th>4393</th>\n      <td>4</td>\n      <td>Afghanistan</td>\n      <td>...</td>\n      <td>2013</td>\n      <td>43,377.00</td>\n    </tr>\n    <tr>\n      <th>...</th>\n      <td>...</td>\n      <td>...</td>\n      <td>...</td>\n      <td>...</td>\n      <td>...</td>\n    </tr>\n    <tr>\n      <th>5156</th>\n      <td>716</td>\n      <td>Zimbabwe</td>\n      <td>...</td>\n      <td>2016</td>\n      <td>...</td>\n    </tr>\n    <tr>\n      <th>381</th>\n      <td>716</td>\n      <td>Zimbabwe</td>\n      <td>...</td>\n      <td>1991</td>\n      <td>...</td>\n    </tr>\n    <tr>\n      <th>4010</th>\n      <td>716</td>\n      <td>Zimbabwe</td>\n      <td>...</td>\n      <td>2010</td>\n      <td>...</td>\n    </tr>\n    <tr>\n      <th>763</th>\n      <td>716</td>\n      <td>Zimbabwe</td>\n      <td>...</td>\n      <td>1993</td>\n      <td>...</td>\n    </tr>\n    <tr>\n      <th>5538</th>\n      <td>716</td>\n      <td>Zimbabwe</td>\n      <td>...</td>\n      <td>2018</td>\n      <td>...</td>\n    </tr>\n  </tbody>\n</table>\n<p>5539 rows × 5 columns</p>\n</div>"
     },
     "metadata": {},
     "execution_count": 13
    }
   ],
   "source": [
    "ghg_df_unpivot.sort_values(by=['Countries or areas'])"
   ]
  },
  {
   "cell_type": "code",
   "execution_count": 14,
   "metadata": {},
   "outputs": [
    {
     "output_type": "execute_result",
     "data": {
      "text/plain": [
       "CountryID                   int64\n",
       "Countries or areas         object\n",
       "Percent Change             object\n",
       "Year                        int64\n",
       "GHG emissions per 1000t    object\n",
       "dtype: object"
      ]
     },
     "metadata": {},
     "execution_count": 14
    }
   ],
   "source": [
    "# Change \"Year\" column to integer\n",
    "ghg_df_unpivot.dtypes\n",
    "ghg_df_unpivot[\"Year\"] = ghg_df_unpivot[\"Year\"].astype(str).astype(int)\n",
    "ghg_df_unpivot.dtypes"
   ]
  },
  {
   "cell_type": "code",
   "execution_count": 15,
   "metadata": {},
   "outputs": [
    {
     "output_type": "execute_result",
     "data": {
      "text/plain": [
       "      CountryID                  Countries or areas Percent Change  Year  \\\n",
       "0             4                         Afghanistan            ...  1990   \n",
       "1             8                             Albania          87.16  1990   \n",
       "2            12                             Algeria            ...  1990   \n",
       "3            24                              Angola            ...  1990   \n",
       "4            28                 Antigua and Barbuda          53.81  1990   \n",
       "...         ...                                 ...            ...   ...   \n",
       "5534        862  Venezuela (Bolivarian Republic of)            ...  2018   \n",
       "5535        704                            Viet Nam            ...  2018   \n",
       "5536        887                               Yemen            ...  2018   \n",
       "5537        894                              Zambia            ...  2018   \n",
       "5538        716                            Zimbabwe            ...  2018   \n",
       "\n",
       "     GHG emissions per 1000t    Decades  \n",
       "0                        ...  1990-1999  \n",
       "1                   4,341.63  1990-1999  \n",
       "2                        ...  1990-1999  \n",
       "3                        ...  1990-1999  \n",
       "4                     388.63  1990-1999  \n",
       "...                      ...        ...  \n",
       "5534                     ...  2010-2019  \n",
       "5535                     ...  2010-2019  \n",
       "5536                     ...  2010-2019  \n",
       "5537                     ...  2010-2019  \n",
       "5538                     ...  2010-2019  \n",
       "\n",
       "[5539 rows x 6 columns]"
      ],
      "text/html": "<div>\n<style scoped>\n    .dataframe tbody tr th:only-of-type {\n        vertical-align: middle;\n    }\n\n    .dataframe tbody tr th {\n        vertical-align: top;\n    }\n\n    .dataframe thead th {\n        text-align: right;\n    }\n</style>\n<table border=\"1\" class=\"dataframe\">\n  <thead>\n    <tr style=\"text-align: right;\">\n      <th></th>\n      <th>CountryID</th>\n      <th>Countries or areas</th>\n      <th>Percent Change</th>\n      <th>Year</th>\n      <th>GHG emissions per 1000t</th>\n      <th>Decades</th>\n    </tr>\n  </thead>\n  <tbody>\n    <tr>\n      <th>0</th>\n      <td>4</td>\n      <td>Afghanistan</td>\n      <td>...</td>\n      <td>1990</td>\n      <td>...</td>\n      <td>1990-1999</td>\n    </tr>\n    <tr>\n      <th>1</th>\n      <td>8</td>\n      <td>Albania</td>\n      <td>87.16</td>\n      <td>1990</td>\n      <td>4,341.63</td>\n      <td>1990-1999</td>\n    </tr>\n    <tr>\n      <th>2</th>\n      <td>12</td>\n      <td>Algeria</td>\n      <td>...</td>\n      <td>1990</td>\n      <td>...</td>\n      <td>1990-1999</td>\n    </tr>\n    <tr>\n      <th>3</th>\n      <td>24</td>\n      <td>Angola</td>\n      <td>...</td>\n      <td>1990</td>\n      <td>...</td>\n      <td>1990-1999</td>\n    </tr>\n    <tr>\n      <th>4</th>\n      <td>28</td>\n      <td>Antigua and Barbuda</td>\n      <td>53.81</td>\n      <td>1990</td>\n      <td>388.63</td>\n      <td>1990-1999</td>\n    </tr>\n    <tr>\n      <th>...</th>\n      <td>...</td>\n      <td>...</td>\n      <td>...</td>\n      <td>...</td>\n      <td>...</td>\n      <td>...</td>\n    </tr>\n    <tr>\n      <th>5534</th>\n      <td>862</td>\n      <td>Venezuela (Bolivarian Republic of)</td>\n      <td>...</td>\n      <td>2018</td>\n      <td>...</td>\n      <td>2010-2019</td>\n    </tr>\n    <tr>\n      <th>5535</th>\n      <td>704</td>\n      <td>Viet Nam</td>\n      <td>...</td>\n      <td>2018</td>\n      <td>...</td>\n      <td>2010-2019</td>\n    </tr>\n    <tr>\n      <th>5536</th>\n      <td>887</td>\n      <td>Yemen</td>\n      <td>...</td>\n      <td>2018</td>\n      <td>...</td>\n      <td>2010-2019</td>\n    </tr>\n    <tr>\n      <th>5537</th>\n      <td>894</td>\n      <td>Zambia</td>\n      <td>...</td>\n      <td>2018</td>\n      <td>...</td>\n      <td>2010-2019</td>\n    </tr>\n    <tr>\n      <th>5538</th>\n      <td>716</td>\n      <td>Zimbabwe</td>\n      <td>...</td>\n      <td>2018</td>\n      <td>...</td>\n      <td>2010-2019</td>\n    </tr>\n  </tbody>\n</table>\n<p>5539 rows × 6 columns</p>\n</div>"
     },
     "metadata": {},
     "execution_count": 15
    }
   ],
   "source": [
    "# Bins for ghg data \n",
    "bins = [1990, 1999, 2009, 2019]\n",
    "\n",
    "decades = [\"1990-1999\", \"2000-2009\", \"2010-2019\"]\n",
    "\n",
    "ghg_df_unpivot[\"Decades\"] = pd.cut(ghg_df_unpivot[\"Year\"], bins, labels=decades, include_lowest=True)\n",
    "ghg_df_unpivot"
   ]
  },
  {
   "cell_type": "code",
   "execution_count": 18,
   "metadata": {},
   "outputs": [
    {
     "output_type": "execute_result",
     "data": {
      "text/plain": [
       "      CountryID Countries or areas  Year    Decades GHG emissions per 1000t  \\\n",
       "0             4        Afghanistan  1990  1990-1999                     ...   \n",
       "2483          4        Afghanistan  2003  2000-2009                     ...   \n",
       "955           4        Afghanistan  1995  1990-1999                     ...   \n",
       "4584          4        Afghanistan  2014  2010-2019                     ...   \n",
       "4393          4        Afghanistan  2013  2010-2019               43,377.00   \n",
       "...         ...                ...   ...        ...                     ...   \n",
       "5156        716           Zimbabwe  2016  2010-2019                     ...   \n",
       "381         716           Zimbabwe  1991  1990-1999                     ...   \n",
       "4010        716           Zimbabwe  2010  2010-2019                     ...   \n",
       "763         716           Zimbabwe  1993  1990-1999                     ...   \n",
       "5538        716           Zimbabwe  2018  2010-2019                     ...   \n",
       "\n",
       "     Percent Change  \n",
       "0               ...  \n",
       "2483            ...  \n",
       "955             ...  \n",
       "4584            ...  \n",
       "4393            ...  \n",
       "...             ...  \n",
       "5156            ...  \n",
       "381             ...  \n",
       "4010            ...  \n",
       "763             ...  \n",
       "5538            ...  \n",
       "\n",
       "[5539 rows x 6 columns]"
      ],
      "text/html": "<div>\n<style scoped>\n    .dataframe tbody tr th:only-of-type {\n        vertical-align: middle;\n    }\n\n    .dataframe tbody tr th {\n        vertical-align: top;\n    }\n\n    .dataframe thead th {\n        text-align: right;\n    }\n</style>\n<table border=\"1\" class=\"dataframe\">\n  <thead>\n    <tr style=\"text-align: right;\">\n      <th></th>\n      <th>CountryID</th>\n      <th>Countries or areas</th>\n      <th>Year</th>\n      <th>Decades</th>\n      <th>GHG emissions per 1000t</th>\n      <th>Percent Change</th>\n    </tr>\n  </thead>\n  <tbody>\n    <tr>\n      <th>0</th>\n      <td>4</td>\n      <td>Afghanistan</td>\n      <td>1990</td>\n      <td>1990-1999</td>\n      <td>...</td>\n      <td>...</td>\n    </tr>\n    <tr>\n      <th>2483</th>\n      <td>4</td>\n      <td>Afghanistan</td>\n      <td>2003</td>\n      <td>2000-2009</td>\n      <td>...</td>\n      <td>...</td>\n    </tr>\n    <tr>\n      <th>955</th>\n      <td>4</td>\n      <td>Afghanistan</td>\n      <td>1995</td>\n      <td>1990-1999</td>\n      <td>...</td>\n      <td>...</td>\n    </tr>\n    <tr>\n      <th>4584</th>\n      <td>4</td>\n      <td>Afghanistan</td>\n      <td>2014</td>\n      <td>2010-2019</td>\n      <td>...</td>\n      <td>...</td>\n    </tr>\n    <tr>\n      <th>4393</th>\n      <td>4</td>\n      <td>Afghanistan</td>\n      <td>2013</td>\n      <td>2010-2019</td>\n      <td>43,377.00</td>\n      <td>...</td>\n    </tr>\n    <tr>\n      <th>...</th>\n      <td>...</td>\n      <td>...</td>\n      <td>...</td>\n      <td>...</td>\n      <td>...</td>\n      <td>...</td>\n    </tr>\n    <tr>\n      <th>5156</th>\n      <td>716</td>\n      <td>Zimbabwe</td>\n      <td>2016</td>\n      <td>2010-2019</td>\n      <td>...</td>\n      <td>...</td>\n    </tr>\n    <tr>\n      <th>381</th>\n      <td>716</td>\n      <td>Zimbabwe</td>\n      <td>1991</td>\n      <td>1990-1999</td>\n      <td>...</td>\n      <td>...</td>\n    </tr>\n    <tr>\n      <th>4010</th>\n      <td>716</td>\n      <td>Zimbabwe</td>\n      <td>2010</td>\n      <td>2010-2019</td>\n      <td>...</td>\n      <td>...</td>\n    </tr>\n    <tr>\n      <th>763</th>\n      <td>716</td>\n      <td>Zimbabwe</td>\n      <td>1993</td>\n      <td>1990-1999</td>\n      <td>...</td>\n      <td>...</td>\n    </tr>\n    <tr>\n      <th>5538</th>\n      <td>716</td>\n      <td>Zimbabwe</td>\n      <td>2018</td>\n      <td>2010-2019</td>\n      <td>...</td>\n      <td>...</td>\n    </tr>\n  </tbody>\n</table>\n<p>5539 rows × 6 columns</p>\n</div>"
     },
     "metadata": {},
     "execution_count": 18
    }
   ],
   "source": [
    "# Reorder so that years are next to decades \n",
    "final_ghg_df = ghg_df_unpivot[['CountryID', 'Countries or areas', 'Year', 'Decades', 'GHG emissions per 1000t', 'Percent Change']]\n",
    "final_ghg_df.sort_values(by=['Countries or areas'])"
   ]
  },
  {
   "cell_type": "code",
   "execution_count": null,
   "metadata": {},
   "outputs": [],
   "source": [
    "# Add \"Decade Average GHG Emissions\" Column \n"
   ]
  },
  {
   "cell_type": "code",
   "execution_count": 27,
   "metadata": {},
   "outputs": [],
   "source": [
    "# Average ghg emission by decades \n",
    "avg_dec = final_ghg_df.groupby([\"Decades\"])\n",
    "dec_means = avg_dec.mean()\n",
    "#for decade in Decades: \n",
    "\n",
    "df[\"Decade Average GHG Emissions\"] = dec_means"
   ]
  },
  {
   "cell_type": "code",
   "execution_count": 17,
   "metadata": {},
   "outputs": [
    {
     "output_type": "error",
     "ename": "KeyError",
     "evalue": "\"The following 'id_vars' are not present in the DataFrame: ['%', '1000 t of\\\\n CO₂ equivalent', 'Latest Year', 'kg of CO₂ equivalent']\"",
     "traceback": [
      "\u001b[0;31m---------------------------------------------------------------------------\u001b[0m",
      "\u001b[0;31mKeyError\u001b[0m                                  Traceback (most recent call last)",
      "\u001b[0;32m<ipython-input-17-12518b062f05>\u001b[0m in \u001b[0;36m<module>\u001b[0;34m\u001b[0m\n\u001b[1;32m      1\u001b[0m \u001b[0;31m# Climate disasters unpivoted\u001b[0m\u001b[0;34m\u001b[0m\u001b[0;34m\u001b[0m\u001b[0;34m\u001b[0m\u001b[0m\n\u001b[1;32m      2\u001b[0m \u001b[0;34m\u001b[0m\u001b[0m\n\u001b[0;32m----> 3\u001b[0;31m \u001b[0mdisasters_df_unpivot\u001b[0m \u001b[0;34m=\u001b[0m \u001b[0mdisasters_df\u001b[0m\u001b[0;34m.\u001b[0m\u001b[0mmelt\u001b[0m\u001b[0;34m(\u001b[0m\u001b[0mid_vars\u001b[0m\u001b[0;34m=\u001b[0m\u001b[0;34m[\u001b[0m\u001b[0;34m'CountryID'\u001b[0m\u001b[0;34m,\u001b[0m \u001b[0;34m'Countries or areas'\u001b[0m\u001b[0;34m,\u001b[0m \u001b[0;34m'Latest Year'\u001b[0m\u001b[0;34m,\u001b[0m \u001b[0;34m'1000 t of\\n CO₂ equivalent'\u001b[0m\u001b[0;34m,\u001b[0m \u001b[0;34m'%'\u001b[0m\u001b[0;34m,\u001b[0m \u001b[0;34m'kg of CO₂ equivalent'\u001b[0m\u001b[0;34m]\u001b[0m\u001b[0;34m,\u001b[0m \u001b[0mvar_name\u001b[0m\u001b[0;34m=\u001b[0m\u001b[0;34m'Year'\u001b[0m\u001b[0;34m,\u001b[0m \u001b[0mvalue_name\u001b[0m \u001b[0;34m=\u001b[0m \u001b[0;34m'GHG emissions per 1000t'\u001b[0m\u001b[0;34m)\u001b[0m\u001b[0;34m\u001b[0m\u001b[0;34m\u001b[0m\u001b[0m\n\u001b[0m",
      "\u001b[0;32m/opt/anaconda3/envs/PythonData/lib/python3.7/site-packages/pandas/core/frame.py\u001b[0m in \u001b[0;36mmelt\u001b[0;34m(self, id_vars, value_vars, var_name, value_name, col_level, ignore_index)\u001b[0m\n\u001b[1;32m   7167\u001b[0m             \u001b[0mvalue_name\u001b[0m\u001b[0;34m=\u001b[0m\u001b[0mvalue_name\u001b[0m\u001b[0;34m,\u001b[0m\u001b[0;34m\u001b[0m\u001b[0;34m\u001b[0m\u001b[0m\n\u001b[1;32m   7168\u001b[0m             \u001b[0mcol_level\u001b[0m\u001b[0;34m=\u001b[0m\u001b[0mcol_level\u001b[0m\u001b[0;34m,\u001b[0m\u001b[0;34m\u001b[0m\u001b[0;34m\u001b[0m\u001b[0m\n\u001b[0;32m-> 7169\u001b[0;31m             \u001b[0mignore_index\u001b[0m\u001b[0;34m=\u001b[0m\u001b[0mignore_index\u001b[0m\u001b[0;34m,\u001b[0m\u001b[0;34m\u001b[0m\u001b[0;34m\u001b[0m\u001b[0m\n\u001b[0m\u001b[1;32m   7170\u001b[0m         )\n\u001b[1;32m   7171\u001b[0m \u001b[0;34m\u001b[0m\u001b[0m\n",
      "\u001b[0;32m/opt/anaconda3/envs/PythonData/lib/python3.7/site-packages/pandas/core/reshape/melt.py\u001b[0m in \u001b[0;36mmelt\u001b[0;34m(frame, id_vars, value_vars, var_name, value_name, col_level, ignore_index)\u001b[0m\n\u001b[1;32m     66\u001b[0m             \u001b[0;32mif\u001b[0m \u001b[0;32mnot\u001b[0m \u001b[0mmissing\u001b[0m\u001b[0;34m.\u001b[0m\u001b[0mempty\u001b[0m\u001b[0;34m:\u001b[0m\u001b[0;34m\u001b[0m\u001b[0;34m\u001b[0m\u001b[0m\n\u001b[1;32m     67\u001b[0m                 raise KeyError(\n\u001b[0;32m---> 68\u001b[0;31m                     \u001b[0;34m\"The following 'id_vars' are not present \"\u001b[0m\u001b[0;34m\u001b[0m\u001b[0;34m\u001b[0m\u001b[0m\n\u001b[0m\u001b[1;32m     69\u001b[0m                     \u001b[0;34mf\"in the DataFrame: {list(missing)}\"\u001b[0m\u001b[0;34m\u001b[0m\u001b[0;34m\u001b[0m\u001b[0m\n\u001b[1;32m     70\u001b[0m                 )\n",
      "\u001b[0;31mKeyError\u001b[0m: \"The following 'id_vars' are not present in the DataFrame: ['%', '1000 t of\\\\n CO₂ equivalent', 'Latest Year', 'kg of CO₂ equivalent']\""
     ]
    }
   ],
   "source": [
    "# Climate disasters unpivoted\n",
    "\n",
    "disasters_df_unpivot = disasters_df.melt(id_vars=['CountryID', 'Countries or areas', 'Latest Year', '1000 t of\\n CO₂ equivalent', '%', 'kg of CO₂ equivalent'], var_name='Year', value_name = 'GHG emissions per 1000t')"
   ]
  },
  {
   "cell_type": "code",
   "execution_count": null,
   "metadata": {},
   "outputs": [],
   "source": []
  }
 ]
}