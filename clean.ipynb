{
 "metadata": {
  "language_info": {
   "codemirror_mode": {
    "name": "ipython",
    "version": 3
   },
   "file_extension": ".py",
   "mimetype": "text/x-python",
   "name": "python",
   "nbconvert_exporter": "python",
   "pygments_lexer": "ipython3",
   "version": "3.7.9"
  },
  "orig_nbformat": 2,
  "kernelspec": {
   "name": "python379jvsc74a57bd04e16bc90bb1be4fcd3e766e2f5d73f05719f516a7206bf1e9e77281fd34acfc0",
   "display_name": "Python 3.7.9 64-bit ('PythonData': conda)"
  }
 },
 "nbformat": 4,
 "nbformat_minor": 2,
 "cells": [
  {
   "source": [
    "## Clean up code for ETL project"
   ],
   "cell_type": "markdown",
   "metadata": {}
  },
  {
   "cell_type": "code",
   "execution_count": 1,
   "metadata": {},
   "outputs": [],
   "source": [
    "import pandas as pd "
   ]
  },
  {
   "cell_type": "code",
   "execution_count": 2,
   "metadata": {},
   "outputs": [],
   "source": [
    "# Determine CSV paths for each\n",
    "# Climatological disasters \n",
    "climate_csv = \"Resources/Climatological disasters.csv\"\n",
    "# Greenhouse gas emissions  \n",
    "ghg_csv = \"Resources/GHG_Emissions.csv\""
   ]
  },
  {
   "cell_type": "code",
   "execution_count": 26,
   "metadata": {},
   "outputs": [
    {
     "output_type": "execute_result",
     "data": {
      "text/plain": [
       "     CountryID                  Countries or areas Occurrence 1990-1999  \\\n",
       "0            4                         Afghanistan                    3   \n",
       "1            8                             Albania                    1   \n",
       "2           12                             Algeria                    2   \n",
       "3           24                              Angola                    4   \n",
       "4          660                            Anguilla                    1   \n",
       "..         ...                                 ...                  ...   \n",
       "148        860                          Uzbekistan                  ...   \n",
       "149        862  Venezuela (Bolivarian Republic of)                  ...   \n",
       "150        704                            Viet Nam                    3   \n",
       "151        894                              Zambia                    4   \n",
       "152        716                            Zimbabwe                    3   \n",
       "\n",
       "    Occurrence 2000-2009 Occurrence 2010-2019 Total deaths 1990-1999  \\\n",
       "0                      3                    2                      0   \n",
       "1                      1                  ...                      0   \n",
       "2                      1                  ...                     22   \n",
       "3                      2                    2                      0   \n",
       "4                    ...                  ...                      0   \n",
       "..                   ...                  ...                    ...   \n",
       "148                    1                  ...                    ...   \n",
       "149                    1                  ...                    ...   \n",
       "150                    3                    2                      0   \n",
       "151                    1                  ...                      0   \n",
       "152                    2                    3                      0   \n",
       "\n",
       "    Total deaths 2000-2009 Total deaths 2010-2019 Persons affected 1990-1999  \\\n",
       "0                       37                      0                      48000   \n",
       "1                        0                    ...                    3200000   \n",
       "2                        8                    ...                          0   \n",
       "3                       58                      0                    2585000   \n",
       "4                      ...                    ...                          0   \n",
       "..                     ...                    ...                        ...   \n",
       "148                      0                    ...                        ...   \n",
       "149                      0                    ...                        ...   \n",
       "150                      0                      0                    4400000   \n",
       "151                      0                    ...                    2973204   \n",
       "152                      0                      0                    5055000   \n",
       "\n",
       "    Persons affected 2000-2009 Persons affected 2010-2019  \n",
       "0                      4760000                   12350000  \n",
       "1                           75                        ...  \n",
       "2                            0                        ...  \n",
       "3                        25000                    3253900  \n",
       "4                          ...                        ...  \n",
       "..                         ...                        ...  \n",
       "148                     600000                        ...  \n",
       "149                          0                        ...  \n",
       "150                    1710000                    1750000  \n",
       "151                    1200000                        ...  \n",
       "152                    8100000                   13567618  \n",
       "\n",
       "[153 rows x 11 columns]"
      ],
      "text/html": "<div>\n<style scoped>\n    .dataframe tbody tr th:only-of-type {\n        vertical-align: middle;\n    }\n\n    .dataframe tbody tr th {\n        vertical-align: top;\n    }\n\n    .dataframe thead th {\n        text-align: right;\n    }\n</style>\n<table border=\"1\" class=\"dataframe\">\n  <thead>\n    <tr style=\"text-align: right;\">\n      <th></th>\n      <th>CountryID</th>\n      <th>Countries or areas</th>\n      <th>Occurrence 1990-1999</th>\n      <th>Occurrence 2000-2009</th>\n      <th>Occurrence 2010-2019</th>\n      <th>Total deaths 1990-1999</th>\n      <th>Total deaths 2000-2009</th>\n      <th>Total deaths 2010-2019</th>\n      <th>Persons affected 1990-1999</th>\n      <th>Persons affected 2000-2009</th>\n      <th>Persons affected 2010-2019</th>\n    </tr>\n  </thead>\n  <tbody>\n    <tr>\n      <th>0</th>\n      <td>4</td>\n      <td>Afghanistan</td>\n      <td>3</td>\n      <td>3</td>\n      <td>2</td>\n      <td>0</td>\n      <td>37</td>\n      <td>0</td>\n      <td>48000</td>\n      <td>4760000</td>\n      <td>12350000</td>\n    </tr>\n    <tr>\n      <th>1</th>\n      <td>8</td>\n      <td>Albania</td>\n      <td>1</td>\n      <td>1</td>\n      <td>...</td>\n      <td>0</td>\n      <td>0</td>\n      <td>...</td>\n      <td>3200000</td>\n      <td>75</td>\n      <td>...</td>\n    </tr>\n    <tr>\n      <th>2</th>\n      <td>12</td>\n      <td>Algeria</td>\n      <td>2</td>\n      <td>1</td>\n      <td>...</td>\n      <td>22</td>\n      <td>8</td>\n      <td>...</td>\n      <td>0</td>\n      <td>0</td>\n      <td>...</td>\n    </tr>\n    <tr>\n      <th>3</th>\n      <td>24</td>\n      <td>Angola</td>\n      <td>4</td>\n      <td>2</td>\n      <td>2</td>\n      <td>0</td>\n      <td>58</td>\n      <td>0</td>\n      <td>2585000</td>\n      <td>25000</td>\n      <td>3253900</td>\n    </tr>\n    <tr>\n      <th>4</th>\n      <td>660</td>\n      <td>Anguilla</td>\n      <td>1</td>\n      <td>...</td>\n      <td>...</td>\n      <td>0</td>\n      <td>...</td>\n      <td>...</td>\n      <td>0</td>\n      <td>...</td>\n      <td>...</td>\n    </tr>\n    <tr>\n      <th>...</th>\n      <td>...</td>\n      <td>...</td>\n      <td>...</td>\n      <td>...</td>\n      <td>...</td>\n      <td>...</td>\n      <td>...</td>\n      <td>...</td>\n      <td>...</td>\n      <td>...</td>\n      <td>...</td>\n    </tr>\n    <tr>\n      <th>148</th>\n      <td>860</td>\n      <td>Uzbekistan</td>\n      <td>...</td>\n      <td>1</td>\n      <td>...</td>\n      <td>...</td>\n      <td>0</td>\n      <td>...</td>\n      <td>...</td>\n      <td>600000</td>\n      <td>...</td>\n    </tr>\n    <tr>\n      <th>149</th>\n      <td>862</td>\n      <td>Venezuela (Bolivarian Republic of)</td>\n      <td>...</td>\n      <td>1</td>\n      <td>...</td>\n      <td>...</td>\n      <td>0</td>\n      <td>...</td>\n      <td>...</td>\n      <td>0</td>\n      <td>...</td>\n    </tr>\n    <tr>\n      <th>150</th>\n      <td>704</td>\n      <td>Viet Nam</td>\n      <td>3</td>\n      <td>3</td>\n      <td>2</td>\n      <td>0</td>\n      <td>0</td>\n      <td>0</td>\n      <td>4400000</td>\n      <td>1710000</td>\n      <td>1750000</td>\n    </tr>\n    <tr>\n      <th>151</th>\n      <td>894</td>\n      <td>Zambia</td>\n      <td>4</td>\n      <td>1</td>\n      <td>...</td>\n      <td>0</td>\n      <td>0</td>\n      <td>...</td>\n      <td>2973204</td>\n      <td>1200000</td>\n      <td>...</td>\n    </tr>\n    <tr>\n      <th>152</th>\n      <td>716</td>\n      <td>Zimbabwe</td>\n      <td>3</td>\n      <td>2</td>\n      <td>3</td>\n      <td>0</td>\n      <td>0</td>\n      <td>0</td>\n      <td>5055000</td>\n      <td>8100000</td>\n      <td>13567618</td>\n    </tr>\n  </tbody>\n</table>\n<p>153 rows × 11 columns</p>\n</div>"
     },
     "metadata": {},
     "execution_count": 26
    }
   ],
   "source": [
    "# Read CSV into dataframes\n",
    "\n",
    "diasters_df = pd.read_csv(climate_csv)\n",
    "ghg_df = pd.read_csv(ghg_csv, skiprows=[0])\n",
    "diasters_df"
   ]
  },
  {
   "cell_type": "code",
   "execution_count": null,
   "metadata": {},
   "outputs": [],
   "source": []
  }
 ]
}