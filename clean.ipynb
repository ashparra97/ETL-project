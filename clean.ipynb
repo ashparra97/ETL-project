{
 "metadata": {
  "language_info": {
   "codemirror_mode": {
    "name": "ipython",
    "version": 3
   },
   "file_extension": ".py",
   "mimetype": "text/x-python",
   "name": "python",
   "nbconvert_exporter": "python",
   "pygments_lexer": "ipython3",
   "version": "3.7.9"
  },
  "orig_nbformat": 2,
  "kernelspec": {
   "name": "python379jvsc74a57bd04e16bc90bb1be4fcd3e766e2f5d73f05719f516a7206bf1e9e77281fd34acfc0",
   "display_name": "Python 3.7.9 64-bit ('PythonData': conda)"
  }
 },
 "nbformat": 4,
 "nbformat_minor": 2,
 "cells": [
  {
   "source": [
    "## Clean up code for ETL project"
   ],
   "cell_type": "markdown",
   "metadata": {}
  },
  {
   "cell_type": "code",
   "execution_count": 1,
   "metadata": {},
   "outputs": [],
   "source": [
    "import pandas as pd "
   ]
  },
  {
   "cell_type": "code",
   "execution_count": 2,
   "metadata": {},
   "outputs": [],
   "source": [
    "# Determine CSV paths for each\n",
    "# Climatological disasters \n",
    "climate_csv = \"Resources/Climatological disasters.csv\"\n",
    "# Greenhouse gas emissions  \n",
    "ghg_csv = \"Resources/GHG_Emissions.csv\""
   ]
  },
  {
   "cell_type": "code",
   "execution_count": 25,
   "metadata": {},
   "outputs": [
    {
     "output_type": "execute_result",
     "data": {
      "text/plain": [
       "     Unnamed: 0                          Unnamed: 1      1990      1991  \\\n",
       "0             4                         Afghanistan       ...       ...   \n",
       "1             8                             Albania  4,341.63  6,486.66   \n",
       "2            12                             Algeria       ...       ...   \n",
       "3            24                              Angola       ...       ...   \n",
       "4            28                 Antigua and Barbuda    388.63       ...   \n",
       "..          ...                                 ...       ...       ...   \n",
       "186         862  Venezuela (Bolivarian Republic of)       ...       ...   \n",
       "187         704                            Viet Nam       ...       ...   \n",
       "188         887                               Yemen       ...       ...   \n",
       "189         894                              Zambia       ...       ...   \n",
       "190         716                            Zimbabwe       ...       ...   \n",
       "\n",
       "         1992      1993       1994       1995      1996      1997  ...  \\\n",
       "0         ...       ...        ...        ...       ...       ...  ...   \n",
       "1    4,581.28  4,588.00   4,906.36   4,883.76  4,998.58  5,107.07  ...   \n",
       "2         ...       ...  91,758.00        ...       ...       ...  ...   \n",
       "3         ...       ...        ...        ...       ...       ...  ...   \n",
       "4         ...       ...        ...        ...       ...       ...  ...   \n",
       "..        ...       ...        ...        ...       ...       ...  ...   \n",
       "186       ...       ...        ...        ...       ...       ...  ...   \n",
       "187       ...       ...  84,454.06        ...       ...       ...  ...   \n",
       "188       ...       ...        ...  17,870.11       ...       ...  ...   \n",
       "189       ...       ...  32,770.07        ...       ...       ...  ...   \n",
       "190       ...       ...  27,594.22        ...       ...       ...  ...   \n",
       "\n",
       "            2013 2014 2015 2016 2017 2018 Latest Year  \\\n",
       "0      43,377.00  ...  ...  ...  ...  ...        2013   \n",
       "1            ...  ...  ...  ...  ...  ...        2009   \n",
       "2            ...  ...  ...  ...  ...  ...        2000   \n",
       "3            ...  ...  ...  ...  ...  ...        2005   \n",
       "4            ...  ...  ...  ...  ...  ...        2000   \n",
       "..           ...  ...  ...  ...  ...  ...         ...   \n",
       "186          ...  ...  ...  ...  ...  ...        1999   \n",
       "187  2,78,441.86  ...  ...  ...  ...  ...        2013   \n",
       "188          ...  ...  ...  ...  ...  ...        2012   \n",
       "189          ...  ...  ...  ...  ...  ...        2000   \n",
       "190          ...  ...  ...  ...  ...  ...        2006   \n",
       "\n",
       "    1000 t of\\n CO₂ equivalent      % kg of CO₂ equivalent  \n",
       "0                     43377.00    ...                 1.34  \n",
       "1                      8125.70  87.16                 2.73  \n",
       "2                    111022.59    ...                 3.58  \n",
       "3                     61610.76    ...                 3.17  \n",
       "4                       597.75  53.81                 7.86  \n",
       "..                         ...    ...                  ...  \n",
       "186                  192192.24    ...                 8.10  \n",
       "187                  278441.86    ...                 3.07  \n",
       "188                   37942.87    ...                 1.55  \n",
       "189                   14404.70    ...                 1.38  \n",
       "190                   21184.72    ...                 1.74  \n",
       "\n",
       "[191 rows x 35 columns]"
      ],
      "text/html": "<div>\n<style scoped>\n    .dataframe tbody tr th:only-of-type {\n        vertical-align: middle;\n    }\n\n    .dataframe tbody tr th {\n        vertical-align: top;\n    }\n\n    .dataframe thead th {\n        text-align: right;\n    }\n</style>\n<table border=\"1\" class=\"dataframe\">\n  <thead>\n    <tr style=\"text-align: right;\">\n      <th></th>\n      <th>Unnamed: 0</th>\n      <th>Unnamed: 1</th>\n      <th>1990</th>\n      <th>1991</th>\n      <th>1992</th>\n      <th>1993</th>\n      <th>1994</th>\n      <th>1995</th>\n      <th>1996</th>\n      <th>1997</th>\n      <th>...</th>\n      <th>2013</th>\n      <th>2014</th>\n      <th>2015</th>\n      <th>2016</th>\n      <th>2017</th>\n      <th>2018</th>\n      <th>Latest Year</th>\n      <th>1000 t of\\n CO₂ equivalent</th>\n      <th>%</th>\n      <th>kg of CO₂ equivalent</th>\n    </tr>\n  </thead>\n  <tbody>\n    <tr>\n      <th>0</th>\n      <td>4</td>\n      <td>Afghanistan</td>\n      <td>...</td>\n      <td>...</td>\n      <td>...</td>\n      <td>...</td>\n      <td>...</td>\n      <td>...</td>\n      <td>...</td>\n      <td>...</td>\n      <td>...</td>\n      <td>43,377.00</td>\n      <td>...</td>\n      <td>...</td>\n      <td>...</td>\n      <td>...</td>\n      <td>...</td>\n      <td>2013</td>\n      <td>43377.00</td>\n      <td>...</td>\n      <td>1.34</td>\n    </tr>\n    <tr>\n      <th>1</th>\n      <td>8</td>\n      <td>Albania</td>\n      <td>4,341.63</td>\n      <td>6,486.66</td>\n      <td>4,581.28</td>\n      <td>4,588.00</td>\n      <td>4,906.36</td>\n      <td>4,883.76</td>\n      <td>4,998.58</td>\n      <td>5,107.07</td>\n      <td>...</td>\n      <td>...</td>\n      <td>...</td>\n      <td>...</td>\n      <td>...</td>\n      <td>...</td>\n      <td>...</td>\n      <td>2009</td>\n      <td>8125.70</td>\n      <td>87.16</td>\n      <td>2.73</td>\n    </tr>\n    <tr>\n      <th>2</th>\n      <td>12</td>\n      <td>Algeria</td>\n      <td>...</td>\n      <td>...</td>\n      <td>...</td>\n      <td>...</td>\n      <td>91,758.00</td>\n      <td>...</td>\n      <td>...</td>\n      <td>...</td>\n      <td>...</td>\n      <td>...</td>\n      <td>...</td>\n      <td>...</td>\n      <td>...</td>\n      <td>...</td>\n      <td>...</td>\n      <td>2000</td>\n      <td>111022.59</td>\n      <td>...</td>\n      <td>3.58</td>\n    </tr>\n    <tr>\n      <th>3</th>\n      <td>24</td>\n      <td>Angola</td>\n      <td>...</td>\n      <td>...</td>\n      <td>...</td>\n      <td>...</td>\n      <td>...</td>\n      <td>...</td>\n      <td>...</td>\n      <td>...</td>\n      <td>...</td>\n      <td>...</td>\n      <td>...</td>\n      <td>...</td>\n      <td>...</td>\n      <td>...</td>\n      <td>...</td>\n      <td>2005</td>\n      <td>61610.76</td>\n      <td>...</td>\n      <td>3.17</td>\n    </tr>\n    <tr>\n      <th>4</th>\n      <td>28</td>\n      <td>Antigua and Barbuda</td>\n      <td>388.63</td>\n      <td>...</td>\n      <td>...</td>\n      <td>...</td>\n      <td>...</td>\n      <td>...</td>\n      <td>...</td>\n      <td>...</td>\n      <td>...</td>\n      <td>...</td>\n      <td>...</td>\n      <td>...</td>\n      <td>...</td>\n      <td>...</td>\n      <td>...</td>\n      <td>2000</td>\n      <td>597.75</td>\n      <td>53.81</td>\n      <td>7.86</td>\n    </tr>\n    <tr>\n      <th>...</th>\n      <td>...</td>\n      <td>...</td>\n      <td>...</td>\n      <td>...</td>\n      <td>...</td>\n      <td>...</td>\n      <td>...</td>\n      <td>...</td>\n      <td>...</td>\n      <td>...</td>\n      <td>...</td>\n      <td>...</td>\n      <td>...</td>\n      <td>...</td>\n      <td>...</td>\n      <td>...</td>\n      <td>...</td>\n      <td>...</td>\n      <td>...</td>\n      <td>...</td>\n      <td>...</td>\n    </tr>\n    <tr>\n      <th>186</th>\n      <td>862</td>\n      <td>Venezuela (Bolivarian Republic of)</td>\n      <td>...</td>\n      <td>...</td>\n      <td>...</td>\n      <td>...</td>\n      <td>...</td>\n      <td>...</td>\n      <td>...</td>\n      <td>...</td>\n      <td>...</td>\n      <td>...</td>\n      <td>...</td>\n      <td>...</td>\n      <td>...</td>\n      <td>...</td>\n      <td>...</td>\n      <td>1999</td>\n      <td>192192.24</td>\n      <td>...</td>\n      <td>8.10</td>\n    </tr>\n    <tr>\n      <th>187</th>\n      <td>704</td>\n      <td>Viet Nam</td>\n      <td>...</td>\n      <td>...</td>\n      <td>...</td>\n      <td>...</td>\n      <td>84,454.06</td>\n      <td>...</td>\n      <td>...</td>\n      <td>...</td>\n      <td>...</td>\n      <td>2,78,441.86</td>\n      <td>...</td>\n      <td>...</td>\n      <td>...</td>\n      <td>...</td>\n      <td>...</td>\n      <td>2013</td>\n      <td>278441.86</td>\n      <td>...</td>\n      <td>3.07</td>\n    </tr>\n    <tr>\n      <th>188</th>\n      <td>887</td>\n      <td>Yemen</td>\n      <td>...</td>\n      <td>...</td>\n      <td>...</td>\n      <td>...</td>\n      <td>...</td>\n      <td>17,870.11</td>\n      <td>...</td>\n      <td>...</td>\n      <td>...</td>\n      <td>...</td>\n      <td>...</td>\n      <td>...</td>\n      <td>...</td>\n      <td>...</td>\n      <td>...</td>\n      <td>2012</td>\n      <td>37942.87</td>\n      <td>...</td>\n      <td>1.55</td>\n    </tr>\n    <tr>\n      <th>189</th>\n      <td>894</td>\n      <td>Zambia</td>\n      <td>...</td>\n      <td>...</td>\n      <td>...</td>\n      <td>...</td>\n      <td>32,770.07</td>\n      <td>...</td>\n      <td>...</td>\n      <td>...</td>\n      <td>...</td>\n      <td>...</td>\n      <td>...</td>\n      <td>...</td>\n      <td>...</td>\n      <td>...</td>\n      <td>...</td>\n      <td>2000</td>\n      <td>14404.70</td>\n      <td>...</td>\n      <td>1.38</td>\n    </tr>\n    <tr>\n      <th>190</th>\n      <td>716</td>\n      <td>Zimbabwe</td>\n      <td>...</td>\n      <td>...</td>\n      <td>...</td>\n      <td>...</td>\n      <td>27,594.22</td>\n      <td>...</td>\n      <td>...</td>\n      <td>...</td>\n      <td>...</td>\n      <td>...</td>\n      <td>...</td>\n      <td>...</td>\n      <td>...</td>\n      <td>...</td>\n      <td>...</td>\n      <td>2006</td>\n      <td>21184.72</td>\n      <td>...</td>\n      <td>1.74</td>\n    </tr>\n  </tbody>\n</table>\n<p>191 rows × 35 columns</p>\n</div>"
     },
     "metadata": {},
     "execution_count": 25
    }
   ],
   "source": [
    "# Read CSV into dataframes\n",
    "\n",
    "diasters_df = pd.read_csv(climate_csv)\n",
    "ghg_df = pd.read_csv(ghg_csv, skiprows=[0])\n",
    "diasters_df\n",
    "ghg_df "
   ]
  },
  {
   "cell_type": "code",
   "execution_count": null,
   "metadata": {},
   "outputs": [],
   "source": []
  }
 ]
}