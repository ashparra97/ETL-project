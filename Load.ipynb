{
 "metadata": {
  "language_info": {
   "codemirror_mode": {
    "name": "ipython",
    "version": 3
   },
   "file_extension": ".py",
   "mimetype": "text/x-python",
   "name": "python",
   "nbconvert_exporter": "python",
   "pygments_lexer": "ipython3",
   "version": "3.7.9"
  },
  "orig_nbformat": 2,
  "kernelspec": {
   "name": "python379jvsc74a57bd0bd230f86950030d0145785e8ad3e4440ba8f9dbe936dc92717eba51f4029bf4b",
   "display_name": "Python 3.7.9 64-bit ('PythonData': conda)"
  }
 },
 "nbformat": 4,
 "nbformat_minor": 2,
 "cells": [
  {
   "cell_type": "code",
   "execution_count": 1,
   "metadata": {},
   "outputs": [],
   "source": [
    "import sqlalchemy\n",
    "from sqlalchemy import create_engine\n",
    "import pandas as pd\n",
    "import psycopg2 "
   ]
  },
  {
   "cell_type": "code",
   "execution_count": 2,
   "metadata": {},
   "outputs": [],
   "source": [
    "# Connect to local database\n",
    "database_path = f\"postgres:ETLproject2021@database-1.cleqlm4bplij.us-east-2.rds.amazonaws.com/en_indicators_db\"\n",
    "engine = create_engine(f'postgresql://{database_path}')"
   ]
  },
  {
   "cell_type": "code",
   "execution_count": 3,
   "metadata": {},
   "outputs": [
    {
     "output_type": "execute_result",
     "data": {
      "text/plain": [
       "['ghg', 'disasters']"
      ]
     },
     "metadata": {},
     "execution_count": 3
    }
   ],
   "source": [
    "# CHeck table names\n",
    "engine.table_names()"
   ]
  },
  {
   "cell_type": "code",
   "execution_count": 4,
   "metadata": {},
   "outputs": [],
   "source": [
    "#Change csv files to dataframe\n",
    "#GHG\n",
    "ghg_path = \"ghg_csv\\GHG_unpivot.csv\"\n",
    "ghg_cleaned_df = pd.read_csv(ghg_path)\n",
    "\n",
    "#Disasters\n",
    "disaters_path = \"disasters_csv\\disasters_unpivot.csv\"\n",
    "disaters_cleaned_df = pd.read_csv(disaters_path)"
   ]
  },
  {
   "cell_type": "code",
   "execution_count": 5,
   "metadata": {},
   "outputs": [],
   "source": [
    "# Load new cleaned dataframes into database\n",
    "\n",
    "# GHG\n",
    "ghg_cleaned_df.to_sql(name='ghg', con=engine, if_exists='replace', index=False)\n",
    "\n",
    "# Disasters\n",
    "disaters_cleaned_df.to_sql(name=\"disasters\", con=engine, if_exists='replace', index=False)\n"
   ]
  },
  {
   "cell_type": "code",
   "execution_count": null,
   "metadata": {},
   "outputs": [],
   "source": []
  }
 ]
}