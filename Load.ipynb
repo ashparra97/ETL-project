{
 "metadata": {
  "language_info": {
   "codemirror_mode": {
    "name": "ipython",
    "version": 3
   },
   "file_extension": ".py",
   "mimetype": "text/x-python",
   "name": "python",
   "nbconvert_exporter": "python",
   "pygments_lexer": "ipython3",
   "version": 3
  },
  "orig_nbformat": 2
 },
 "nbformat": 4,
 "nbformat_minor": 2,
 "cells": [
  {
   "cell_type": "code",
   "execution_count": null,
   "metadata": {},
   "outputs": [],
   "source": [
    "import sqlalchemy\n",
    "from sqlalchemy import create_engine\n",
    "\n"
   ]
  },
  {
   "cell_type": "code",
   "execution_count": null,
   "metadata": {},
   "outputs": [],
   "source": [
    "# Connect to local database\n",
    "database_path = #help setting this up\n",
    "engine = create_engine(f'postgresql://{database_path}')"
   ]
  },
  {
   "cell_type": "code",
   "execution_count": null,
   "metadata": {},
   "outputs": [],
   "source": [
    "# CHeck table names\n",
    "engine.table_names()"
   ]
  },
  {
   "cell_type": "code",
   "execution_count": null,
   "metadata": {},
   "outputs": [],
   "source": [
    "# Load new cleaned csv into database\n",
    "\n",
    "# GHG\n",
    "ghg_cleaned_df.to_sql(name='GHG', con=engine, if_exists='append', index=False)\n",
    "\n",
    "# Disasters\n",
    "disasters_cleaned_df.to_sql(name=\"Disasters\", con=engine, if_exists='append', index=False)\n"
   ]
  }
 ]
}